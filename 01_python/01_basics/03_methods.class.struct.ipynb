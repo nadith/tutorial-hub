{
 "cells": [
  {
   "cell_type": "markdown",
   "metadata": {},
   "source": [
    "## Static Variables"
   ]
  },
  {
   "cell_type": "code",
   "execution_count": 6,
   "metadata": {},
   "outputs": [
    {
     "name": "stdout",
     "output_type": "stream",
     "text": [
      "1 1\n",
      "20 1\n"
     ]
    }
   ],
   "source": [
    "class Parent:\n",
    "    order = 1\n",
    "    def __init__(self):\n",
    "        self.ins_variable1 = 10\n",
    "\n",
    "class Parent2:\n",
    "    order = 1\n",
    "    def __init__(self):\n",
    "        self.ins_variable1 = 10\n",
    "        self.order = 20  # shadows static variable if accessed via instance reference\n",
    "        \n",
    "p = Parent()\n",
    "print(p.order, Parent.order)\n",
    "\n",
    "p2 = Parent2()\n",
    "print(p2.order, Parent2.order)"
   ]
  },
  {
   "cell_type": "code",
   "execution_count": 8,
   "metadata": {},
   "outputs": [
    {
     "name": "stdout",
     "output_type": "stream",
     "text": [
      "2 2 1\n"
     ]
    }
   ],
   "source": [
    "class Child:\n",
    "    order = 2\n",
    "    def __init__(self):\n",
    "        self.ins_variable1 = 20\n",
    "        \n",
    "c = Child()\n",
    "print(c.order, Child.order, Parent.order)\n"
   ]
  },
  {
   "cell_type": "markdown",
   "metadata": {},
   "source": [
    "## `getattr()` method\n",
    "\n",
    "The getattr() method returns the value of the named attribute of an object. If not found, it returns the default value provided to the function."
   ]
  },
  {
   "cell_type": "code",
   "execution_count": 1,
   "metadata": {},
   "outputs": [
    {
     "name": "stdout",
     "output_type": "stream",
     "text": [
      "The sex is: Male\n"
     ]
    },
    {
     "ename": "AttributeError",
     "evalue": "'Person' object has no attribute 'sex'",
     "output_type": "error",
     "traceback": [
      "\u001b[1;31m---------------------------------------------------------------------------\u001b[0m",
      "\u001b[1;31mAttributeError\u001b[0m                            Traceback (most recent call last)",
      "\u001b[1;32m~\\AppData\\Local\\Temp/ipykernel_35384/348983991.py\u001b[0m in \u001b[0;36m<module>\u001b[1;34m\u001b[0m\n\u001b[0;32m      9\u001b[0m \u001b[1;33m\u001b[0m\u001b[0m\n\u001b[0;32m     10\u001b[0m \u001b[1;31m# when no default value is provided\u001b[0m\u001b[1;33m\u001b[0m\u001b[1;33m\u001b[0m\u001b[1;33m\u001b[0m\u001b[0m\n\u001b[1;32m---> 11\u001b[1;33m \u001b[0mprint\u001b[0m\u001b[1;33m(\u001b[0m\u001b[1;34m'The sex is:'\u001b[0m\u001b[1;33m,\u001b[0m \u001b[0mgetattr\u001b[0m\u001b[1;33m(\u001b[0m\u001b[0mperson\u001b[0m\u001b[1;33m,\u001b[0m \u001b[1;34m'sex'\u001b[0m\u001b[1;33m)\u001b[0m\u001b[1;33m)\u001b[0m\u001b[1;33m\u001b[0m\u001b[1;33m\u001b[0m\u001b[0m\n\u001b[0m",
      "\u001b[1;31mAttributeError\u001b[0m: 'Person' object has no attribute 'sex'"
     ]
    }
   ],
   "source": [
    "class Person:\n",
    "    age = 23\n",
    "    name = \"Adam\"\n",
    "\n",
    "person = Person()\n",
    "\n",
    "# when default value is provided\n",
    "print('The sex is:', getattr(person, 'sex', 'Male'))\n",
    "\n",
    "# when no default value is provided\n",
    "print('The sex is:', getattr(person, 'sex'))"
   ]
  },
  {
   "cell_type": "markdown",
   "metadata": {},
   "source": [
    "# Meta Classes\n",
    "\n",
    "https://realpython.com/python-metaclasses/\n",
    "\n",
    "Remember that, in Python, everything is an object. Classes are objects as well. As a result, a class must have a type. What is the type of a class?"
   ]
  },
  {
   "cell_type": "code",
   "execution_count": 1,
   "metadata": {},
   "outputs": [
    {
     "name": "stdout",
     "output_type": "stream",
     "text": [
      "<class '__main__.Foo'>\n",
      "<class 'type'>\n"
     ]
    }
   ],
   "source": [
    "class Foo:\n",
    "    pass\n",
    "\n",
    "x = Foo()\n",
    "\n",
    "print(type(x))\n",
    "print(type(Foo))\n",
    "\n",
    "for t in int, float, dict, list, tuple:\n",
    "    print(type(t))"
   ]
  },
  {
   "cell_type": "markdown",
   "metadata": {},
   "source": [
    "In the above case:\n",
    "\n",
    "![](https://files.realpython.com/media/class-chain.5cb031a299fe.png)\n",
    "\n",
    "\n",
    "* x is an instance of class Foo.\n",
    "* Foo is an instance of the type metaclass.\n",
    "* type is also an instance of the type metaclass, so it is an instance of itself."
   ]
  },
  {
   "cell_type": "markdown",
   "metadata": {},
   "source": [
    "You can also call type() with three arguments—type(`<name>, <bases>, <dct>`):\n",
    "\n",
    "* `<name>` specifies the class name. This becomes the `__name__` attribute of the class.\n",
    "* `<bases>` specifies a tuple of the base classes from which the class inherits. This becomes the `__bases__` attribute of the class.\n",
    "* `<dct>` specifies a namespace dictionary containing definitions for the class body. This becomes the `__dict__` attribute of the class."
   ]
  },
  {
   "cell_type": "code",
   "execution_count": 3,
   "metadata": {},
   "outputs": [],
   "source": [
    "Foo = type('Foo', (), {})\n",
    "x = Foo()\n",
    "x"
   ]
  },
  {
   "cell_type": "code",
   "execution_count": 5,
   "metadata": {},
   "outputs": [
    {
     "name": "stdout",
     "output_type": "stream",
     "text": [
      "100\n",
      "<class '__main__.Bar'>\n",
      "(<class '__main__.Foo'>,)\n"
     ]
    },
    {
     "data": {
      "text/plain": [
       "100"
      ]
     },
     "execution_count": 5,
     "metadata": {},
     "output_type": "execute_result"
    }
   ],
   "source": [
    "Bar = type('Bar', (Foo,), dict(attr=100, attr_val=lambda self : self.attr))\n",
    "\n",
    "x = Bar()\n",
    "print(x.attr)\n",
    "print(x.__class__)\n",
    "print(x.__class__.__bases__)\n",
    "x.attr_val()"
   ]
  },
  {
   "cell_type": "markdown",
   "metadata": {},
   "source": [
    "## Custom Meta Class"
   ]
  },
  {
   "cell_type": "code",
   "execution_count": 8,
   "metadata": {},
   "outputs": [
    {
     "name": "stdout",
     "output_type": "stream",
     "text": [
      "Init is called\n"
     ]
    }
   ],
   "source": [
    "class Foo:\n",
    "    def __init__(self):\n",
    "        print(\"Init is called\")\n",
    "        \n",
    "    pass\n",
    "\n",
    "f = Foo()"
   ]
  },
  {
   "cell_type": "markdown",
   "metadata": {},
   "source": [
    "The expression Foo() creates a new instance of class Foo. When the interpreter encounters Foo(), the following occurs:\n",
    "\n",
    "The `__call__()` method of Foo’s parent class is called. Since Foo is a standard new-style class, its parent class is the type metaclass, so type’s `__call__()` method is invoked.\n",
    "\n",
    "That `__call__()` method in turn invokes the following:\n",
    "\n",
    "* `__new__()`\n",
    "* `__init__()`\n",
    "\n",
    "If Foo does not define `__new__()` and `__init__()`, default methods are inherited from Foo’s ancestry. But if Foo does define these methods, they override those from the ancestry, which allows for customized behavior when instantiating Foo.\n",
    "\n",
    "In the following, a custom method called new() is defined and assigned as the `__new__()` method for Foo:"
   ]
  },
  {
   "cell_type": "code",
   "execution_count": 10,
   "metadata": {},
   "outputs": [
    {
     "name": "stdout",
     "output_type": "stream",
     "text": [
      "new is called\n",
      "Init is called\n",
      "100\n",
      "new is called\n",
      "Init is called\n",
      "100\n"
     ]
    }
   ],
   "source": [
    "def new(cls):\n",
    "    print(\"new is called\")\n",
    "    x = object.__new__(cls)\n",
    "    x.attr = 100\n",
    "    return x\n",
    "\n",
    "Foo.__new__ = new  # This is Foo class's new method to create objects\n",
    "\n",
    "f = Foo()\n",
    "print(f.attr)\n",
    "\n",
    "\n",
    "g = Foo()\n",
    "print(g.attr)"
   ]
  },
  {
   "cell_type": "markdown",
   "metadata": {},
   "source": [
    "This modifies the instantiation behavior of class Foo: each time an instance of Foo is created, by default it is initialized with an attribute called attr, which has a value of 100. (Code like this would more usually appear in the `__init__()` method and not typically in `__new__()`. This example is contrived for demonstration purposes.)\n",
    "\n",
    "Now, as has already been reiterated, classes are objects too. Suppose you wanted to similarly customize instantiation behavior when creating a class like Foo. If you were to follow the pattern above, you’d again define a custom method and assign it as the `__new__()` method for the class of which Foo is an instance. Foo is an instance of the type metaclass, so the code looks something like this:"
   ]
  },
  {
   "cell_type": "code",
   "execution_count": 11,
   "metadata": {},
   "outputs": [
    {
     "ename": "TypeError",
     "evalue": "can't set attributes of built-in/extension type 'type'",
     "output_type": "error",
     "traceback": [
      "\u001b[1;31m---------------------------------------------------------------------------\u001b[0m",
      "\u001b[1;31mTypeError\u001b[0m                                 Traceback (most recent call last)",
      "\u001b[1;32m~\\AppData\\Local\\Temp/ipykernel_14484/1228145721.py\u001b[0m in \u001b[0;36m<module>\u001b[1;34m\u001b[0m\n\u001b[0;32m      4\u001b[0m     \u001b[1;32mreturn\u001b[0m \u001b[0mx\u001b[0m\u001b[1;33m\u001b[0m\u001b[1;33m\u001b[0m\u001b[0m\n\u001b[0;32m      5\u001b[0m \u001b[1;33m\u001b[0m\u001b[0m\n\u001b[1;32m----> 6\u001b[1;33m \u001b[0mtype\u001b[0m\u001b[1;33m.\u001b[0m\u001b[0m__new__\u001b[0m \u001b[1;33m=\u001b[0m \u001b[0mnew\u001b[0m\u001b[1;33m\u001b[0m\u001b[1;33m\u001b[0m\u001b[0m\n\u001b[0m",
      "\u001b[1;31mTypeError\u001b[0m: can't set attributes of built-in/extension type 'type'"
     ]
    }
   ],
   "source": [
    "def new(cls):\n",
    "    x = type.__new__(cls)\n",
    "    x.attr = 100\n",
    "    return x\n",
    "\n",
    "type.__new__ = new"
   ]
  },
  {
   "cell_type": "markdown",
   "metadata": {},
   "source": [
    "Except, as you can see, you can’t reassign the `__new__()` method of the type metaclass. Python doesn’t allow it.\n",
    "\n",
    "This is probably just as well. type is the metaclass from which all new-style classes are derived. You really shouldn’t be mucking around with it anyway. But then what recourse is there, if you want to customize instantiation of a class?\n",
    "\n",
    "One possible solution is a custom metaclass. Essentially, instead of mucking around with the type metaclass, you can define your own metaclass, which derives from type, and then you can muck around with that instead.\n",
    "\n",
    "The first step is to define a metaclass that derives from type, as follows:"
   ]
  },
  {
   "cell_type": "code",
   "execution_count": 13,
   "metadata": {},
   "outputs": [],
   "source": [
    "class Meta(type):\n",
    "    def __new__(cls, name, bases, dct):  # This is meta classes new method\n",
    "        x = super().__new__(cls, name, bases, dct)\n",
    "        x.attr = 100\n",
    "        return x"
   ]
  },
  {
   "cell_type": "markdown",
   "metadata": {},
   "source": [
    "The definition header class Meta(type): specifies that Meta derives from type. Since type is a metaclass, that makes Meta a metaclass as well.\n",
    "\n",
    "Note that a custom `__new__()` method has been defined for Meta. It wasn’t possible to do that to the type metaclass directly. The `__new__()` method does the following:\n",
    "\n",
    "* Delegates via super() to the `__new__()` method of the parent metaclass (type) to actually create a new class\n",
    "* Assigns the custom attribute attr to the class, with a value of 100\n",
    "* Returns the newly created class\n",
    "\n",
    "Now the other half of the voodoo: Define a new class Foo and specify that its metaclass is the custom metaclass Meta, rather than the standard metaclass type. This is done using the metaclass keyword in the class definition as follows:"
   ]
  },
  {
   "cell_type": "code",
   "execution_count": 15,
   "metadata": {},
   "outputs": [
    {
     "name": "stdout",
     "output_type": "stream",
     "text": [
      "100 100 100\n"
     ]
    }
   ],
   "source": [
    "class Foo(metaclass=Meta):\n",
    "    pass\n",
    "\n",
    "class Bar(metaclass=Meta):\n",
    "    pass\n",
    "\n",
    "class Qux(metaclass=Meta):\n",
    "    pass\n",
    "\n",
    "print(Foo.attr, Bar.attr, Qux.attr)"
   ]
  },
  {
   "cell_type": "markdown",
   "metadata": {},
   "source": [
    "In the same way that a class functions as a template for the creation of objects, a metaclass functions as a template for the creation of classes. Metaclasses are sometimes referred to as class factories."
   ]
  },
  {
   "cell_type": "code",
   "execution_count": 16,
   "metadata": {},
   "outputs": [
    {
     "name": "stdout",
     "output_type": "stream",
     "text": [
      "100 100 100\n"
     ]
    }
   ],
   "source": [
    "class Foo:\n",
    "    def __init__(self):\n",
    "        self.attr = 100\n",
    "\n",
    "x = Foo()\n",
    "y = Foo()\n",
    "z = Foo()\n",
    "\n",
    "print(x.attr, y.attr, z.attr)"
   ]
  },
  {
   "cell_type": "code",
   "execution_count": 17,
   "metadata": {},
   "outputs": [
    {
     "name": "stdout",
     "output_type": "stream",
     "text": [
      "100 100 100\n"
     ]
    }
   ],
   "source": [
    "class Meta(type):\n",
    "    def __init__(  # Notice that this is __init__, unlike __new__\n",
    "        cls, name, bases, dct\n",
    "    ):\n",
    "        cls.attr = 100\n",
    "\n",
    "class X(metaclass=Meta):\n",
    "    pass\n",
    "\n",
    "class Y(metaclass=Meta):\n",
    "    pass\n",
    "\n",
    "class Z(metaclass=Meta):\n",
    "    pass\n",
    "\n",
    "print(X.attr, Y.attr, Z.attr)"
   ]
  },
  {
   "cell_type": "markdown",
   "metadata": {},
   "source": [
    "## Is This Really Necessary?\n",
    "As simple as the above class factory example is, it is the essence of how metaclasses work. They allow customization of class instantiation.\n",
    "\n",
    "Still, this is a lot of fuss just to bestow the custom attribute attr on each newly created class. Do you really need a metaclass just for that?\n",
    "\n",
    "In Python, there are at least a couple other ways in which effectively the same thing can be accomplished:"
   ]
  },
  {
   "cell_type": "code",
   "execution_count": 20,
   "metadata": {},
   "outputs": [
    {
     "name": "stdout",
     "output_type": "stream",
     "text": [
      "100 100 100\n"
     ]
    }
   ],
   "source": [
    "# Using Simple Inheritance\n",
    "\n",
    "class Base:\n",
    "    attr = 100\n",
    "\n",
    "\n",
    "class X(Base):\n",
    "    pass\n",
    "\n",
    "\n",
    "class Y(Base):\n",
    "    pass\n",
    "\n",
    "\n",
    "class Z(Base):\n",
    "    pass\n",
    "\n",
    "print(X.attr, Y.attr, Z.attr)"
   ]
  },
  {
   "cell_type": "code",
   "execution_count": 19,
   "metadata": {},
   "outputs": [
    {
     "name": "stdout",
     "output_type": "stream",
     "text": [
      "100 100 100\n"
     ]
    }
   ],
   "source": [
    "# Using decorators\n",
    "\n",
    "def decorator(cls):\n",
    "    class NewClass(cls):\n",
    "        attr = 100\n",
    "    return NewClass\n",
    "\n",
    "@decorator\n",
    "class X:\n",
    "    pass\n",
    "\n",
    "@decorator\n",
    "class Y:\n",
    "    pass\n",
    "\n",
    "@decorator\n",
    "class Z:\n",
    "    pass\n",
    "\n",
    "\n",
    "print(X.attr, Y.attr, Z.attr)"
   ]
  }
 ],
 "metadata": {
  "interpreter": {
   "hash": "9882355bb464ee3d294aa16be20f61c34e7ccfd47bbe50446fb3d315dc24c3e5"
  },
  "kernelspec": {
   "display_name": "Python 3.8.12 ('DL_ENV')",
   "language": "python",
   "name": "python3"
  },
  "language_info": {
   "codemirror_mode": {
    "name": "ipython",
    "version": 3
   },
   "file_extension": ".py",
   "mimetype": "text/x-python",
   "name": "python",
   "nbconvert_exporter": "python",
   "pygments_lexer": "ipython3",
   "version": "3.8.12"
  },
  "orig_nbformat": 4
 },
 "nbformat": 4,
 "nbformat_minor": 2
}

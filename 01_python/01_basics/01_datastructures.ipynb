{
 "cells": [
  {
   "cell_type": "markdown",
   "metadata": {},
   "source": [
    "# Data Structures\n",
    "## `list` data structure"
   ]
  },
  {
   "cell_type": "code",
   "execution_count": 1,
   "metadata": {},
   "outputs": [
    {
     "name": "stdout",
     "output_type": "stream",
     "text": [
      "11 50\n"
     ]
    }
   ],
   "source": [
    "# Python program to remove multiple\n",
    "# elements from a list\n",
    "\n",
    "# creating a list\n",
    "lst = [11, 5, 17, 18, 23, 50]\n",
    "\n",
    "# removes elements from index 1 to 4\n",
    "# i.e. 5, 17, 18, 23 will be deleted\n",
    "del lst[1:5]\n",
    "\n",
    "print(*lst)"
   ]
  },
  {
   "cell_type": "markdown",
   "metadata": {},
   "source": [
    "## `list` slicing\n",
    "All slice operations return a new list containing the requested elements. This means that the \n",
    "following slice returns a new (shallow) copy of the list: # http://www.python-course.eu/deep_copy.php"
   ]
  },
  {
   "cell_type": "code",
   "execution_count": null,
   "metadata": {},
   "outputs": [],
   "source": [
    "squares = [1, 4, 9, 16, 25]\n",
    "squares2 = squares[:]\n",
    "squares[0] = 100\n",
    "print(squares2) # = squares.copy()\n",
    "print(\"id1:\", id(squares), \"id2:\", id(squares2))"
   ]
  },
  {
   "cell_type": "code",
   "execution_count": null,
   "metadata": {},
   "outputs": [],
   "source": [
    "letters = ['a', 'b', 'c', 'd', 'e', 'f', 'g']\n",
    "print(letters)\n",
    "\n",
    "# replace some values\n",
    "letters[2:5] = ['C', 'D', 'E']\n",
    "print(letters)\n",
    "\n",
    "# now remove them\n",
    "letters[2:5] = []\n",
    "print(letters)\n",
    "\n",
    "# clear the list by replacing all the elements with an empty list\n",
    "letters[:] = []\n",
    "print(letters)"
   ]
  },
  {
   "cell_type": "markdown",
   "metadata": {},
   "source": [
    "### `map()` Function\n",
    "map() applies int() to every value in str_nums. Since map() returns an iterator (a map object), you’ll need call list() so that you can exhaust the iterator and turn it into a list object. Note that the original sequence doesn’t get modified in the process."
   ]
  },
  {
   "cell_type": "code",
   "execution_count": null,
   "metadata": {},
   "outputs": [
    {
     "data": {
      "text/plain": [
       "['4', '8', '6', '5', '3', '2', '8', '9', '2', '5']"
      ]
     },
     "metadata": {},
     "output_type": "display_data"
    }
   ],
   "source": [
    "str_nums = [\"4\", \"8\", \"6\", \"5\", \"3\", \"2\", \"8\", \"9\", \"2\", \"5\"]\n",
    "\n",
    "int_nums = map(int, str_nums)\n",
    "int_nums\n",
    "\n",
    "list(int_nums)\n",
    "str_nums"
   ]
  },
  {
   "cell_type": "code",
   "execution_count": 2,
   "metadata": {},
   "outputs": [
    {
     "data": {
      "text/plain": [
       "[1, 4, 9, 16, 25]"
      ]
     },
     "execution_count": 2,
     "metadata": {},
     "output_type": "execute_result"
    }
   ],
   "source": [
    "numbers = [1, 2, 3, 4, 5]\n",
    "\n",
    "squared = map(lambda num: num ** 2, numbers)\n",
    "\n",
    "list(squared)"
   ]
  },
  {
   "cell_type": "code",
   "execution_count": 5,
   "metadata": {},
   "outputs": [
    {
     "name": "stdout",
     "output_type": "stream",
     "text": [
      "[1, 32, 729]\n",
      "[1, 1, 1]\n",
      "[10, 15]\n"
     ]
    }
   ],
   "source": [
    "# If you supply multiple iterables to map(), then the transformation function \n",
    "# must take as many arguments as iterables you pass in. Each iteration of map() \n",
    "# will pass one value from each iterable as an argument to function. \n",
    "# The iteration stops at the end of the shortest iterable.\n",
    "\n",
    "# Consider the following example that uses pow():\n",
    "\n",
    "first_it = [1, 2, 3]\n",
    "second_it = [4, 5, 6, 7]\n",
    "\n",
    "print(list(map(pow, first_it, second_it)))\n",
    "\n",
    "print(list(map(lambda x, y: x - y, [2, 4, 6], [1, 3, 5])))\n",
    "\n",
    "print(list(map(lambda x, y, z: x + y + z, [2, 4], [1, 3], [7, 8])))"
   ]
  },
  {
   "cell_type": "code",
   "execution_count": 7,
   "metadata": {},
   "outputs": [
    {
     "data": {
      "text/plain": [
       "[12, 3, -15]"
      ]
     },
     "execution_count": 7,
     "metadata": {},
     "output_type": "execute_result"
    }
   ],
   "source": [
    "# Convert to floating-point\n",
    "list(map(float, [\"12.3\", \"3.3\", \"-15.2\"]))\n",
    "\n",
    "# Convert to integer\n",
    "list(map(int, [\"12\", \"3\", \"-15\"]))"
   ]
  },
  {
   "cell_type": "code",
   "execution_count": 6,
   "metadata": {},
   "outputs": [
    {
     "data": {
      "text/plain": [
       "'pb vhfuhw phvvdjh jrhv khuh.'"
      ]
     },
     "execution_count": 6,
     "metadata": {},
     "output_type": "execute_result"
    }
   ],
   "source": [
    "def rotate_chr(c):\n",
    "    \n",
    "    rot_by = 3\n",
    "    c = c.lower()\n",
    "    alphabet = \"abcdefghijklmnopqrstuvwxyz\"\n",
    "    \n",
    "    # Keep punctuation and whitespace\n",
    "    if c not in alphabet:\n",
    "        return c\n",
    "    rotated_pos = ord(c) + rot_by\n",
    "    \n",
    "    # If the rotation is inside the alphabet\n",
    "    if rotated_pos <= ord(alphabet[-1]):\n",
    "        return chr(rotated_pos)\n",
    "    \n",
    "    # If the rotation goes beyond the alphabet\n",
    "    return chr(rotated_pos - len(alphabet))\n",
    "\n",
    "\"\".join(map(rotate_chr, \"My secret message goes here.\"))"
   ]
  },
  {
   "cell_type": "markdown",
   "metadata": {},
   "source": [
    "### `filter()` Function\n",
    "Sometimes you need to process an input iterable and return another iterable that results from filtering out unwanted values in the input iterable. In that case, Python’s filter() can be a good option for you. filter() is a built-in function that takes two positional arguments:\n",
    "\n",
    "function will be a predicate or Boolean-valued function, a function that returns True or False according to the input data.\n",
    "iterable will be any Python iterable.\n",
    "filter() yields the items of the input iterable for which function returns True. If you pass None to function, then filter() uses the identity function. This means that filter() will check the truth value of each item in iterable and filter out all of the items that are falsy."
   ]
  },
  {
   "cell_type": "code",
   "execution_count": 8,
   "metadata": {},
   "outputs": [
    {
     "data": {
      "text/plain": [
       "[5.0, 3.0, 9.0, 0.0]"
      ]
     },
     "execution_count": 8,
     "metadata": {},
     "output_type": "execute_result"
    }
   ],
   "source": [
    "import math\n",
    "\n",
    "def is_positive(num):\n",
    "    return num >= 0\n",
    "\n",
    "\n",
    "def sanitized_sqrt(numbers):\n",
    "    cleaned_iter = map(math.sqrt, filter(is_positive, numbers))\n",
    "    return list(cleaned_iter)\n",
    "\n",
    "\n",
    "sanitized_sqrt([25, 9, 81, -16, 0])"
   ]
  },
  {
   "cell_type": "markdown",
   "metadata": {},
   "source": [
    "### `reduce()` Function\n",
    "Python’s reduce() is a function that lives in a module called functools in the Python standard library. reduce() is another core functional tool in Python that is useful when you need to apply a function to an iterable and reduce it to a single cumulative value. This kind of operation is commonly known as reduction or folding. reduce() takes two required arguments:\n",
    "\n",
    "function can be any Python callable that accepts two arguments and returns a value.\n",
    "iterable can be any Python iterable.\n",
    "reduce() will apply function to all the items in iterable and cumulatively compute a final value."
   ]
  },
  {
   "cell_type": "code",
   "execution_count": 9,
   "metadata": {},
   "outputs": [
    {
     "ename": "FileNotFoundError",
     "evalue": "[WinError 2] The system cannot find the file specified: '.android'",
     "output_type": "error",
     "traceback": [
      "\u001b[1;31m---------------------------------------------------------------------------\u001b[0m",
      "\u001b[1;31mFileNotFoundError\u001b[0m                         Traceback (most recent call last)",
      "\u001b[1;32m~\\AppData\\Local\\Temp/ipykernel_10920/1317025609.py\u001b[0m in \u001b[0;36m<module>\u001b[1;34m\u001b[0m\n\u001b[0;32m      6\u001b[0m \u001b[0mfiles\u001b[0m \u001b[1;33m=\u001b[0m \u001b[0mos\u001b[0m\u001b[1;33m.\u001b[0m\u001b[0mlistdir\u001b[0m\u001b[1;33m(\u001b[0m\u001b[0mos\u001b[0m\u001b[1;33m.\u001b[0m\u001b[0mpath\u001b[0m\u001b[1;33m.\u001b[0m\u001b[0mexpanduser\u001b[0m\u001b[1;33m(\u001b[0m\u001b[1;34m\"~\"\u001b[0m\u001b[1;33m)\u001b[0m\u001b[1;33m)\u001b[0m\u001b[1;33m\u001b[0m\u001b[1;33m\u001b[0m\u001b[0m\n\u001b[0;32m      7\u001b[0m \u001b[1;33m\u001b[0m\u001b[0m\n\u001b[1;32m----> 8\u001b[1;33m \u001b[0mfunctools\u001b[0m\u001b[1;33m.\u001b[0m\u001b[0mreduce\u001b[0m\u001b[1;33m(\u001b[0m\u001b[0moperator\u001b[0m\u001b[1;33m.\u001b[0m\u001b[0madd\u001b[0m\u001b[1;33m,\u001b[0m \u001b[0mmap\u001b[0m\u001b[1;33m(\u001b[0m\u001b[0mos\u001b[0m\u001b[1;33m.\u001b[0m\u001b[0mpath\u001b[0m\u001b[1;33m.\u001b[0m\u001b[0mgetsize\u001b[0m\u001b[1;33m,\u001b[0m \u001b[0mfiles\u001b[0m\u001b[1;33m)\u001b[0m\u001b[1;33m)\u001b[0m\u001b[1;33m\u001b[0m\u001b[1;33m\u001b[0m\u001b[0m\n\u001b[0m",
      "\u001b[1;32mc:\\Users\\chath\\anaconda3\\envs\\DL_ENV\\lib\\genericpath.py\u001b[0m in \u001b[0;36mgetsize\u001b[1;34m(filename)\u001b[0m\n\u001b[0;32m     48\u001b[0m \u001b[1;32mdef\u001b[0m \u001b[0mgetsize\u001b[0m\u001b[1;33m(\u001b[0m\u001b[0mfilename\u001b[0m\u001b[1;33m)\u001b[0m\u001b[1;33m:\u001b[0m\u001b[1;33m\u001b[0m\u001b[1;33m\u001b[0m\u001b[0m\n\u001b[0;32m     49\u001b[0m     \u001b[1;34m\"\"\"Return the size of a file, reported by os.stat().\"\"\"\u001b[0m\u001b[1;33m\u001b[0m\u001b[1;33m\u001b[0m\u001b[0m\n\u001b[1;32m---> 50\u001b[1;33m     \u001b[1;32mreturn\u001b[0m \u001b[0mos\u001b[0m\u001b[1;33m.\u001b[0m\u001b[0mstat\u001b[0m\u001b[1;33m(\u001b[0m\u001b[0mfilename\u001b[0m\u001b[1;33m)\u001b[0m\u001b[1;33m.\u001b[0m\u001b[0mst_size\u001b[0m\u001b[1;33m\u001b[0m\u001b[1;33m\u001b[0m\u001b[0m\n\u001b[0m\u001b[0;32m     51\u001b[0m \u001b[1;33m\u001b[0m\u001b[0m\n\u001b[0;32m     52\u001b[0m \u001b[1;33m\u001b[0m\u001b[0m\n",
      "\u001b[1;31mFileNotFoundError\u001b[0m: [WinError 2] The system cannot find the file specified: '.android'"
     ]
    }
   ],
   "source": [
    "import functools\n",
    "import operator\n",
    "import os\n",
    "import os.path\n",
    "\n",
    "files = os.listdir(os.path.expanduser(\"~\"))\n",
    "\n",
    "functools.reduce(operator.add, map(os.path.getsize, files))"
   ]
  },
  {
   "cell_type": "markdown",
   "metadata": {},
   "source": [
    "### `starmap()` Function\n",
    "\n",
    "Python’s itertools.starmap() makes an iterator that applies a function to the arguments obtained from an iterable of tuples and yields the results. It’s useful when you’re processing iterables that are already grouped in tuples.\n",
    "\n",
    "The main difference between map() and starmap() is that the latter calls its transformation function using the unpacking operator (*) to unpack each tuple of arguments into several positional arguments. So, the transformation function is called as function(*args) instead of function(arg1, arg2,... argN).\n",
    "\n",
    "`def starmap(function, iterable):`\n",
    "\n",
    "`    for args in iterable:`\n",
    "\n",
    "`        yield function(*args)`"
   ]
  },
  {
   "cell_type": "code",
   "execution_count": 10,
   "metadata": {},
   "outputs": [
    {
     "ename": "TypeError",
     "evalue": "ord() takes exactly one argument (2 given)",
     "output_type": "error",
     "traceback": [
      "\u001b[1;31m---------------------------------------------------------------------------\u001b[0m",
      "\u001b[1;31mTypeError\u001b[0m                                 Traceback (most recent call last)",
      "\u001b[1;32m~\\AppData\\Local\\Temp/ipykernel_10920/446367769.py\u001b[0m in \u001b[0;36m<module>\u001b[1;34m\u001b[0m\n\u001b[0;32m      4\u001b[0m \u001b[1;33m\u001b[0m\u001b[0m\n\u001b[0;32m      5\u001b[0m \u001b[1;33m\u001b[0m\u001b[0m\n\u001b[1;32m----> 6\u001b[1;33m \u001b[0mlist\u001b[0m\u001b[1;33m(\u001b[0m\u001b[0mstarmap\u001b[0m\u001b[1;33m(\u001b[0m\u001b[0mord\u001b[0m\u001b[1;33m,\u001b[0m \u001b[1;33m[\u001b[0m\u001b[1;33m(\u001b[0m\u001b[1;36m2\u001b[0m\u001b[1;33m,\u001b[0m \u001b[1;36m7\u001b[0m\u001b[1;33m)\u001b[0m\u001b[1;33m,\u001b[0m \u001b[1;33m(\u001b[0m\u001b[1;36m4\u001b[0m\u001b[1;33m,\u001b[0m \u001b[1;36m3\u001b[0m\u001b[1;33m)\u001b[0m\u001b[1;33m]\u001b[0m\u001b[1;33m)\u001b[0m\u001b[1;33m)\u001b[0m\u001b[1;33m\u001b[0m\u001b[1;33m\u001b[0m\u001b[0m\n\u001b[0m",
      "\u001b[1;31mTypeError\u001b[0m: ord() takes exactly one argument (2 given)"
     ]
    }
   ],
   "source": [
    "from itertools import starmap\n",
    "\n",
    "list(starmap(pow, [(2, 7), (4, 3)]))\n",
    "\n",
    "\n",
    "list(starmap(ord, [(2, 7), (4, 3)]))"
   ]
  },
  {
   "cell_type": "markdown",
   "metadata": {},
   "source": [
    "In the first example, you use pow() to calculate the power of the first value raised to the second value in each tuple. The tuples will be in the form (base, exponent).\n",
    "\n",
    "If every tuple in your iterable has two items, then function must take two arguments as well. If the tuples have three items, then function must take three arguments, and so on. Otherwise, you’ll get a TypeError.\n",
    "\n",
    "If you use map() instead of starmap(), then you’ll get a different result because map() takes one item from each tuple:"
   ]
  },
  {
   "cell_type": "code",
   "execution_count": 11,
   "metadata": {},
   "outputs": [
    {
     "data": {
      "text/plain": [
       "[16, 343]"
      ]
     },
     "execution_count": 11,
     "metadata": {},
     "output_type": "execute_result"
    }
   ],
   "source": [
    "list(map(pow, (2, 7), (4, 3)))"
   ]
  },
  {
   "cell_type": "markdown",
   "metadata": {},
   "source": [
    "## `list` del statement: https://docs.python.org/3/tutorial/datastructures.html#the-del-statement\n",
    "There is a way to remove an item from a list given its index instead of its value: the del statement. \n",
    "This differs from the pop() method which returns a value. The del statement can also be used to remove \n",
    "slices from a list or clear the entire list (which we did earlier by assignment of an empty list \n",
    "to the slice). For example:\n",
    "\n",
    "**NOTE: del is not a function but a reserved keyword in python**"
   ]
  },
  {
   "cell_type": "code",
   "execution_count": null,
   "metadata": {},
   "outputs": [],
   "source": [
    "a = [-1, 1, 66.25, 333, 333, 1234.5]\n",
    "del a[0]\n",
    "print(a)\n",
    "\n",
    "del a[2:4]\n",
    "print(a)\n",
    "\n",
    "del a[:] # delete the content of 'a' = a.clear(), \n",
    "# deltion of slicings is passed to the primary object involved, not the shallow copy\n",
    "print(a)"
   ]
  },
  {
   "cell_type": "code",
   "execution_count": null,
   "metadata": {},
   "outputs": [],
   "source": [
    "del a.copy() # ERROR !, SyntaxError: can't delete function call"
   ]
  },
  {
   "cell_type": "code",
   "execution_count": null,
   "metadata": {},
   "outputs": [],
   "source": [
    "# del can also be used to delete entire variables:\n",
    "del a # delete the reference variable 'a', reduce the ref count of the list object by 1"
   ]
  },
  {
   "cell_type": "markdown",
   "metadata": {},
   "source": [
    "### `del` statement specification: https://docs.python.org/3/reference/simple_stmts.html#the-del-statement\n",
    "\n",
    "`del_stmt ::=  \"del\" target_list`\n",
    "\n",
    "Deletion is recursively defined very similar to the way assignment is defined. Rather than spelling it out in \n",
    "full details, here are some hints.\n",
    "\n",
    "Deletion of a target list recursively deletes each target, from left to right.\n",
    "\n",
    "Deletion of a name removes the binding of that name from the local or global namespace, depending on whether \n",
    "the name occurs in a global statement in the same code block. If the name is unbound, a NameError exception will be raised.\n",
    "\n",
    "!!! Deletion of attribute references, subscriptions and slicings is passed to the primary object involved; deletion \n",
    "of a slicing is in general equivalent to assignment of an empty slice of the right type (but even this is determined by the sliced object).\n",
    "\n",
    "`target          ::=  identifier`\n",
    "                     `| \"(\" [target_list] \")\"`\n",
    "                     `| \"[\" [target_list] \"]\"`\n",
    "                     `| attributeref`\n",
    "                     `| subscription`\n",
    "                     `| slicing`\n",
    "                     `| \"*\" target`"
   ]
  },
  {
   "cell_type": "markdown",
   "metadata": {},
   "source": [
    "## `list` comprehensions"
   ]
  },
  {
   "cell_type": "code",
   "execution_count": null,
   "metadata": {},
   "outputs": [],
   "source": [
    "# List Comprehensions\n",
    "squares = [x**2 for x in range(10)]\n",
    "print(squares)"
   ]
  },
  {
   "cell_type": "markdown",
   "metadata": {},
   "source": [
    "## Data Structures - Equality"
   ]
  },
  {
   "cell_type": "code",
   "execution_count": 2,
   "metadata": {},
   "outputs": [
    {
     "name": "stdout",
     "output_type": "stream",
     "text": [
      "id(l1): 2350237097088 id(l2): 2350237097344 l1==l2 True\n",
      "id(t1): 2350232235008 id(t2): 2350232239040 t1==t2 True\n",
      "id(d1): 2350232330880 id(d2): 2350232307264 d1==d2 True\n",
      "d1==d3 False\n",
      "d1==d4 False\n"
     ]
    }
   ],
   "source": [
    "# List equality\n",
    "l1 = [3, 4]\n",
    "l2 = [3, 4]\n",
    "print(\"id(l1):\", id(l1), \"id(l2):\", id(l2), 'l1==l2', (l1==l2))\n",
    "\n",
    "# Tuple equality\n",
    "t1 = (3, 4)\n",
    "t2 = (3, 4)\n",
    "print(\"id(t1):\", id(t1), \"id(t2):\", id(t2), 't1==t2', (t1==t2))\n",
    "\n",
    "# Tuple equality\n",
    "d1 = {3:'', 4:''}\n",
    "d2 = {3:'', 4:''}\n",
    "d3 = {3:'', 4:'A'}\n",
    "d4 = {3:'', 4:4}\n",
    "print(\"id(d1):\", id(d1), \"id(d2):\", id(d2), 'd1==d2', (d1==d2))\n",
    "print('d1==d3', (d1==d3))\n",
    "print('d1==d4', (d1==d4))"
   ]
  },
  {
   "cell_type": "markdown",
   "metadata": {},
   "source": [
    "## `dict.fromkeys()` - Dictionary\n",
    "The fromkeys() method creates a new dictionary from the given sequence of elements with a value provided by the user."
   ]
  },
  {
   "cell_type": "code",
   "execution_count": 1,
   "metadata": {},
   "outputs": [
    {
     "name": "stdout",
     "output_type": "stream",
     "text": [
      "{'u': None, 'i': None, 'o': None, 'a': None, 'e': None}\n"
     ]
    }
   ],
   "source": [
    "# vowels keys\n",
    "keys = {'a', 'e', 'i', 'o', 'u' }\n",
    "\n",
    "vowels = dict.fromkeys(keys)\n",
    "print(vowels)"
   ]
  },
  {
   "cell_type": "code",
   "execution_count": 3,
   "metadata": {},
   "outputs": [
    {
     "name": "stdout",
     "output_type": "stream",
     "text": [
      "{'u': [1], 'i': [1], 'o': [1], 'a': [1], 'e': [1]}\n",
      "{'u': [1, 2], 'i': [1, 2], 'o': [1, 2], 'a': [1, 2], 'e': [1, 2]}\n"
     ]
    }
   ],
   "source": [
    "# vowels keys\n",
    "keys = {'a', 'e', 'i', 'o', 'u' }\n",
    "value = [1]\n",
    "\n",
    "vowels = dict.fromkeys(keys, value)\n",
    "print(vowels)\n",
    "\n",
    "# updating the value\n",
    "value.append(2)\n",
    "print(vowels)"
   ]
  },
  {
   "cell_type": "code",
   "execution_count": 2,
   "metadata": {},
   "outputs": [
    {
     "name": "stdout",
     "output_type": "stream",
     "text": [
      "{'u': [1], 'i': [1], 'o': [1], 'a': [1], 'e': [1]}\n",
      "{'u': [1], 'i': [1], 'o': [1], 'a': [1], 'e': [1]}\n"
     ]
    }
   ],
   "source": [
    "# vowels keys\n",
    "keys = {'a', 'e', 'i', 'o', 'u' }\n",
    "value = [1]\n",
    "\n",
    "vowels = { key : list(value) for key in keys }\n",
    "# you can also use { key : value[:] for key in keys }\n",
    "print(vowels)\n",
    "\n",
    "# updating the value\n",
    "value.append(2)\n",
    "print(vowels)"
   ]
  },
  {
   "cell_type": "markdown",
   "metadata": {},
   "source": [
    "### dict.update"
   ]
  },
  {
   "cell_type": "code",
   "execution_count": 3,
   "metadata": {},
   "outputs": [
    {
     "name": "stdout",
     "output_type": "stream",
     "text": [
      "{'a': 10, 'b': 20, 'c': 10, 'd': 20}\n"
     ]
    }
   ],
   "source": [
    "dct = {'a': 10, 'b':20}\n",
    "dct.update({'c': 10, 'd': 20})\n",
    "\n",
    "print(dct)"
   ]
  },
  {
   "cell_type": "markdown",
   "metadata": {},
   "source": [
    "## List Comprehensions"
   ]
  },
  {
   "cell_type": "code",
   "execution_count": 14,
   "metadata": {},
   "outputs": [
    {
     "name": "stdout",
     "output_type": "stream",
     "text": [
      "[{'a': 'value_a', 'b': 'value_b', 'c': 'value_c'}]\n",
      "{'a': 'value_a', 'b': 'value_b', 'c': 'value_c'}\n"
     ]
    }
   ],
   "source": [
    "ds = [None, {'a': 'value_a', 'b': 'value_b', 'c': 'value_c'}]\n",
    "\n",
    "print([d for d in ds if d is not None])\n",
    "\n",
    "print({k:v for d in ds if d is not None for k,v in d.items()})"
   ]
  }
 ],
 "metadata": {
  "interpreter": {
   "hash": "9882355bb464ee3d294aa16be20f61c34e7ccfd47bbe50446fb3d315dc24c3e5"
  },
  "kernelspec": {
   "display_name": "Python 3.8.12 ('DL_ENV')",
   "language": "python",
   "name": "python3"
  },
  "language_info": {
   "codemirror_mode": {
    "name": "ipython",
    "version": 3
   },
   "file_extension": ".py",
   "mimetype": "text/x-python",
   "name": "python",
   "nbconvert_exporter": "python",
   "pygments_lexer": "ipython3",
   "version": "3.8.12"
  },
  "orig_nbformat": 4
 },
 "nbformat": 4,
 "nbformat_minor": 2
}

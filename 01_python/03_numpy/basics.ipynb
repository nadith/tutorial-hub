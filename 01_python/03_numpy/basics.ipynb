{
 "cells": [
  {
   "cell_type": "markdown",
   "source": [
    "# Array Basics\n",
    "\n",
    "## Dimensions in Array:\n",
    "Numpy arrays could be of multiple dimensions."
   ],
   "metadata": {
    "collapsed": false
   }
  },
  {
   "cell_type": "code",
   "source": [
    "def dimensions_in_arrays():\n",
    "    a = np.array(42) # 0-D Arrays\n",
    "    b = np.array([1, 2, 3, 4, 5]) # 1-D Arrays\n",
    "    c = np.array([[1, 2, 3], [4, 5, 6]]) # 2-D Arrays\n",
    "    d = np.array([[[1, 2, 3], [4, 5, 6]], [[1, 2, 3], [4, 5, 6]]]) # 3-D arrays\n",
    "\n",
    "    # Check Number of Dimensions?\n",
    "    print(a.ndim)\n",
    "    print(b.ndim)\n",
    "    print(c.ndim)\n",
    "    print(d.ndim)\n",
    "\n",
    "    # Higher Dimensional Arrays\n",
    "    e = np.array([1, 2, 3, 4], ndmin=5)\n",
    "    print(e.ndim)\n",
    "    print(e)\n",
    "\n",
    "dimensions_in_arrays()\n"
   ],
   "metadata": {
    "collapsed": false,
    "pycharm": {
     "name": "#%%\n"
    }
   },
   "execution_count": 6,
   "outputs": [
    {
     "name": "stdout",
     "output_type": "stream",
     "text": [
      "0\n",
      "1\n",
      "2\n",
      "3\n",
      "5\n",
      "[[[[[1 2 3 4]]]]]\n"
     ]
    }
   ]
  },
  {
   "cell_type": "markdown",
   "source": [
    "## Copy vs View"
   ],
   "metadata": {
    "collapsed": false
   }
  },
  {
   "cell_type": "code",
   "execution_count": null,
   "outputs": [],
   "source": [
    "def copy_vs_view():\n",
    "    # Make a copy, change the original array, and display both arrays:\n",
    "    arr = np.array([1, 2, 3, 4, 5])\n",
    "    x = arr.copy()\n",
    "    arr[0] = 42\n",
    "    print(arr)\n",
    "    print(x)\n",
    "    print(id(arr), id(x), id(arr) == id(x), id(arr) is id(x))\n",
    "\n",
    "    # Make a view, change the original array, and display both arrays:\n",
    "    arr = np.array([1, 2, 3, 4, 5])\n",
    "    x = arr.view()\n",
    "    arr[0] = 42 # The view SHOULD be affected by the changes made to the original array.\n",
    "    x[2] = 100 # The original array SHOULD be affected by the changes made to the view.\n",
    "    print(arr)\n",
    "    print(x)\n",
    "    print(id(arr), id(x), id(arr) == id(x), id(arr) is id(x))\n",
    "\n",
    "    # Print the value of the base attribute to check if an array owns it's data or not:\n",
    "    # copies owns the data, and views does not own the data,\n",
    "    # Every NumPy array has the attribute base that returns None if the array owns the data.\n",
    "    # Otherwise, the base  attribute refers to the original object.\n",
    "    arr = np.array([1, 2, 3, 4, 5])\n",
    "    x = arr.copy()\n",
    "    y = arr.view()\n",
    "    print(x.base)\n",
    "    print(y.base)\n",
    "    print(id(arr), id(y.base))\n",
    "\n",
    "copy_vs_view()"
   ],
   "metadata": {
    "collapsed": false,
    "pycharm": {
     "name": "#%%\n"
    }
   }
  },
  {
   "cell_type": "markdown",
   "source": [
    "## Slicing\n",
    "\n",
    "Numpy array slices are views to the original array.\n",
    "\n",
    "### Slicing 1d array"
   ],
   "metadata": {
    "collapsed": false
   }
  },
  {
   "cell_type": "code",
   "execution_count": 7,
   "outputs": [
    {
     "name": "stdout",
     "output_type": "stream",
     "text": [
      "[2 3 4 5]\n",
      "[5 6 7]\n",
      "[1 2 3 4]\n",
      "[5 6]\n",
      "[1 3 5 7]\n",
      "[4]\n",
      "[]\n"
     ]
    }
   ],
   "source": [
    "def slice():\n",
    "    # We pass slice instead of index like this: [start:end].\n",
    "    # We can also define the step, like this: [start:end:step].\n",
    "    # If we don't pass start its considered 0\n",
    "    # If we don't pass end its considered length of array in that dimension\n",
    "    # If we don't pass step its considered 1\n",
    "\n",
    "    arr = np.array([1, 2, 3, 4, 5, 6, 7])\n",
    "    print(arr[1:5])\n",
    "\n",
    "    # Slice elements from index 4 to the end of the array:\n",
    "    arr = np.array([1, 2, 3, 4, 5, 6, 7])\n",
    "    print(arr[4:])\n",
    "\n",
    "    # Slice elements from the beginning to index 4 (not included):\n",
    "    arr = np.array([1, 2, 3, 4, 5, 6, 7])\n",
    "    print(arr[:4])\n",
    "\n",
    "    # Slice from the index 3 from the end to index 1 from the end:\n",
    "    arr = np.array([1, 2, 3, 4, 5, 6, 7])\n",
    "    print(arr[-3:-1]) # -3:-1 is converted to 4:6\n",
    "\n",
    "    arr = np.array([1, 2, 3, 4, 5, 6, 7])\n",
    "    print(arr[::2])\n",
    "\n",
    "    #### IMPORTANT #####\n",
    "    arr = np.array([1, 2, 3, 4, 5, 6, 7])\n",
    "    print(arr[3:5:2]) # prints 4\n",
    "    print(arr[3:1:2]) # prints nothing\n",
    "\n",
    "slice()"
   ],
   "metadata": {
    "collapsed": false,
    "pycharm": {
     "name": "#%%\n"
    }
   }
  },
  {
   "cell_type": "markdown",
   "source": [
    "### Slicing 2d array\n",
    "\n",
    "Whenever a range is used on a dimension when slicing, the `.shape` of the sliced array will\n",
    "be a tuple with some value (0 or non-zero) in place for the corresponding dimension.\n",
    "\n",
    "i.e.\n",
    "\n",
    "    a = np.array([[1, 2, 3], [10, 20, 30]])\n",
    "    a[1, :].shape       # (3,) <= ranged is not used in the first dimension\n",
    "    a[0:1, :].shape     # (1,3) <= ranged is used in the first dimension\n",
    "    a[0:0, :].shape     # (0,3) <= ranged is used in the first dimension\n"
   ],
   "metadata": {
    "collapsed": false,
    "pycharm": {
     "name": "#%% md\n"
    }
   }
  },
  {
   "cell_type": "code",
   "execution_count": 14,
   "outputs": [
    {
     "name": "stdout",
     "output_type": "stream",
     "text": [
      "[[ 1  2  3  4  5]\n",
      " [ 6  7  8  9 10]]\n",
      "[ 6  7  8  9 10]\n",
      "[ 6  7  8  9 10]\n",
      "[2 3 4]\n",
      "[[2 3 4]\n",
      " [7 8 9]]\n",
      "\n",
      "IMPORTANT\n",
      "arr[0:2, 1:4] =\n",
      " [[2 3 4]\n",
      " [7 8 9]] (2, 3)\n",
      "arr[1, 1:4] = [7 8 9] (3,)\n",
      "arr[0:1, 1:4] = [[2 3 4]] (1, 3)\n",
      "arr[0:0, 1:4] = [] (0, 3)\n"
     ]
    }
   ],
   "source": [
    "def slice_2d():\n",
    "    arr = np.array([[1, 2, 3, 4, 5], [6, 7, 8, 9, 10]])\n",
    "    print(arr[:])\n",
    "    print(arr[1])  # Other dimensions defaults to `:`, equivalent to arr[1,:]\n",
    "    print(arr[1,:])\n",
    "    print(arr[0, 1:4])\n",
    "\n",
    "    # From both elements, slice index 1 to index 4 (not included), this will return a 2-D array:\n",
    "    arr = np.array([[1, 2, 3, 4, 5], [6, 7, 8, 9, 10]])\n",
    "    print(arr[0:2, 1:4])\n",
    "\n",
    "    #### IMPORTANT #####\n",
    "    arr = np.array([[1, 2, 3, 4, 5], [6, 7, 8, 9, 10]])\n",
    "    print(\"\\nIMPORTANT\")\n",
    "    print('arr[0:2, 1:4] =\\n', arr[0:2, 1:4], arr[0:2, 1:4].shape)        # returns 2D array\n",
    "    print('arr[1, 1:4] =', arr[1, 1:4], arr[1, 1:4].shape)                # returns 1D array\n",
    "    print('arr[0:1, 1:4] =', arr[0:1, 1:4], arr[0:1, 1:4].shape)          # returns 2D array\n",
    "    print('arr[0:0, 1:4] =', arr[0:0, 1:4], arr[0:0, 1:4].shape)          # returns 2D array, prints [] (0, 3)\n",
    "\n",
    "slice_2d()"
   ],
   "metadata": {
    "collapsed": false,
    "pycharm": {
     "name": "#%%\n"
    }
   }
  },
  {
   "cell_type": "markdown",
   "source": [
    "## Mutable Numpy Arrays"
   ],
   "metadata": {
    "collapsed": false
   }
  },
  {
   "cell_type": "code",
   "execution_count": 23,
   "outputs": [
    {
     "name": "stdout",
     "output_type": "stream",
     "text": [
      "2264826810800 2264821684720\n",
      "2264826810800 2264821685968 2264821684720 2264821684720\n",
      "2264826810800 2264821685968 2264821684720 2264821685392\n",
      "[0 3 4]\n",
      "[3 4]\n",
      "[1 4 5]\n"
     ]
    }
   ],
   "source": [
    "import numpy as np\n",
    "\n",
    "a2 = a = np.array([2, 3, 4])\n",
    "a[0] = 0  # numpy arrays are mutable\n",
    "b = a + 1  # b is a new array object\n",
    "print(id(b), id(a))\n",
    "\n",
    "a = a[1:3]  # after the assignment `a` points to a view object of original a\n",
    "print(id(b), id(a), id(a.base), id(a2))\n",
    "\n",
    "a2 = a2 + 1  # after the assignment `a2` points to a new array object\n",
    "print(id(b), id(a), id(a.base), id(a2))\n",
    "\n",
    "print(a.base)\n",
    "print(a)\n",
    "print(a2)"
   ],
   "metadata": {
    "collapsed": false,
    "pycharm": {
     "name": "#%%\n"
    }
   }
  },
  {
   "cell_type": "markdown",
   "source": [
    "# Misc Functions"
   ],
   "metadata": {
    "collapsed": false
   }
  },
  {
   "cell_type": "markdown",
   "metadata": {
    "collapsed": true,
    "pycharm": {
     "name": "#%% md\n"
    }
   },
   "source": [
    "## [ravel() vs flattern()](https://www.geeksforgeeks.org/differences-flatten-ravel-numpy/)\n",
    "\n",
    "**a.ravel():**\n",
    "- Return only reference/view of original array\n",
    "- If you modify the array you would notice that the value of original array also changes.\n",
    "- Ravel is faster than flatten() as it does not occupy any memory.\n",
    "- Ravel is a library-level function.\n",
    "\n",
    "**a.flatten():**\n",
    "- Return copy of original array\n",
    "- If you modify any value of this array value of original array is not affected.\n",
    "- Flatten() is comparatively slower than ravel() as it occupies memory.\n",
    "- Flatten is a method of an ndarray object.\n"
   ]
  },
  {
   "cell_type": "markdown",
   "source": [
    "# Set printing options\n",
    "\n",
    "    numpy.set_printoptions(precision=None, \n",
    "                            threshold=None, \n",
    "                            edgeitems=None, \n",
    "                            linewidth=None, suppress=None, \n",
    "                            nanstr=None, \n",
    "                            infstr=None, \n",
    "                            formatter=None, \n",
    "                            sign=None, \n",
    "                            floatmode=None, \n",
    "                            *, \n",
    "                            legacy=None)[source]\n",
    " \n",
    "These options determine the way floating point numbers, arrays and other NumPy objects are displayed.\n",
    "\n",
    "https://numpy.org/doc/stable/reference/generated/numpy.set_printoptions.html"
   ],
   "metadata": {
    "collapsed": false
   }
  },
  {
   "cell_type": "code",
   "execution_count": 4,
   "outputs": [
    {
     "name": "stdout",
     "output_type": "stream",
     "text": [
      "[0.12 0.23]\n",
      "[0.123 0.234]\n"
     ]
    }
   ],
   "source": [
    "import numpy as np\n",
    "\n",
    "Y = np.array([0.123, 0.234])\n",
    "np.set_printoptions(formatter={'float': lambda x: \"{0:0.2f}\".format(x)})\n",
    "\n",
    "# From this point onwards the newly set print options will be used \n",
    "print(Y[:])\n",
    "\n",
    "# Reset back to defaults\n",
    "np.set_printoptions(edgeitems=3, infstr='inf', linewidth=75, nanstr='nan', precision=8,\n",
    "                    suppress=False, threshold=1000, formatter=None)\n",
    "# or\n",
    "# np.set_printoptions()\n",
    "\n",
    "print(Y[:])"
   ],
   "metadata": {
    "collapsed": false,
    "pycharm": {
     "name": "#%%\n"
    }
   }
  },
  {
   "cell_type": "markdown",
   "source": [
    "**Also to temporarily override options, use printoptions as a context manager:**"
   ],
   "metadata": {
    "collapsed": false,
    "pycharm": {
     "name": "#%% md\n"
    }
   }
  },
  {
   "cell_type": "code",
   "execution_count": 12,
   "outputs": [
    {
     "name": "stdout",
     "text": [
      "[ 0.    1.11  2.22 ...  7.78  8.89 10.  ]\n",
      "[int: 0 int: -1 int: -2]\n"
     ],
     "output_type": "stream"
    }
   ],
   "source": [
    "with np.printoptions(precision=2, suppress=True, threshold=5):\n",
    "    print(np.linspace(0, 10, 10))\n",
    "    \n",
    "    \n",
    "with np.printoptions(formatter={'all':lambda x: 'int: ' + str(-x)}):\n",
    "    print(np.arange(3))"
   ],
   "metadata": {
    "collapsed": false,
    "pycharm": {
     "name": "#%%\n",
     "is_executing": false
    }
   }
  }
 ],
 "metadata": {
  "kernelspec": {
   "display_name": "Python 3",
   "language": "python",
   "name": "python3"
  },
  "language_info": {
   "codemirror_mode": {
    "name": "ipython",
    "version": 2
   },
   "file_extension": ".py",
   "mimetype": "text/x-python",
   "name": "python",
   "nbconvert_exporter": "python",
   "pygments_lexer": "ipython2",
   "version": "2.7.6"
  }
 },
 "nbformat": 4,
 "nbformat_minor": 0
}
{
 "cells": [
  {
   "cell_type": "markdown",
   "metadata": {},
   "source": [
    "## `filter(f, iterable)`"
   ]
  },
  {
   "cell_type": "code",
   "execution_count": 2,
   "metadata": {},
   "outputs": [
    {
     "name": "stdout",
     "output_type": "stream",
     "text": [
      "The list of odd numbers is:  [5, 23, 53, 93, -13]\n",
      "The list of even numbers is:  [10, 64, 42, 2, 0, -14, 6, -22]\n"
     ]
    }
   ],
   "source": [
    "nums = [5, 10, 23, 64, 42, 53, 93, 2, 0, -14, 6, -22, -13]\n",
    "\n",
    "#Filter all the odd numbers from the list\n",
    "\n",
    "odd = filter(lambda p : p%2 != 0, nums)\n",
    "\n",
    "#Filter all the even numbers from the list\n",
    "\n",
    "even = filter(lambda p: p%2 == 0, nums)\n",
    "\n",
    "print(\"The list of odd numbers is: \", list(odd))\n",
    "\n",
    "print(\"The list of even numbers is: \", list(even))"
   ]
  }
 ],
 "metadata": {
  "interpreter": {
   "hash": "9882355bb464ee3d294aa16be20f61c34e7ccfd47bbe50446fb3d315dc24c3e5"
  },
  "kernelspec": {
   "display_name": "Python 3.8.12 ('DL_ENV')",
   "language": "python",
   "name": "python3"
  },
  "language_info": {
   "codemirror_mode": {
    "name": "ipython",
    "version": 3
   },
   "file_extension": ".py",
   "mimetype": "text/x-python",
   "name": "python",
   "nbconvert_exporter": "python",
   "pygments_lexer": "ipython3",
   "version": "3.8.12"
  },
  "orig_nbformat": 4
 },
 "nbformat": 4,
 "nbformat_minor": 2
}

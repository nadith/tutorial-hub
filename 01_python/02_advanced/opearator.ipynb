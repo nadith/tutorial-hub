{
 "cells": [
  {
   "cell_type": "markdown",
   "metadata": {},
   "source": [
    "# operator — Standard operators as functions\n",
    "https://docs.python.org/3/library/operator.html#operator.itemgetter\n",
    "\n",
    "\n",
    "The operator module exports a set of efficient functions corresponding to \n",
    "the intrinsic operators of Python. For example, operator.add(x, y) is \n",
    "equivalent to the expression x+y. Many function names are those used for \n",
    "special methods, without the double underscores. For backward compatibility, \n",
    "many of these have a variant with the double underscores kept. The variants \n",
    "without the double underscores are preferred for clarity."
   ]
  },
  {
   "cell_type": "markdown",
   "metadata": {},
   "source": [
    "## itemgetter(*items)\n",
    "Return a callable object that fetches item from its operand using the operand’s \n",
    "`__getitem__()` method. If multiple items are specified, returns a tuple of \n",
    "lookup values. For example:\n",
    "\n",
    "After `f = itemgetter(2)`, the call `f(r)` returns `r[2]`.\n",
    "\n",
    "After `g = itemgetter(2, 5, 3)`, the call `g(r)` returns `(r[2], r[5], r[3])`."
   ]
  },
  {
   "cell_type": "code",
   "execution_count": 2,
   "metadata": {},
   "outputs": [
    {
     "name": "stdout",
     "output_type": "stream",
     "text": [
      "B\n",
      "('B', 'D', 'F')\n",
      "CDEFG\n",
      "captain\n"
     ]
    }
   ],
   "source": [
    "import operator\n",
    "\n",
    "print(operator.itemgetter(1)('ABCDEFG'))\n",
    "\n",
    "print(operator.itemgetter(1, 3, 5)('ABCDEFG'))\n",
    "\n",
    "print(operator.itemgetter(slice(2, None))('ABCDEFG'))\n",
    "\n",
    "soldier = dict(rank='captain', name='dotterbart')\n",
    "print(operator.itemgetter('rank')(soldier))"
   ]
  },
  {
   "cell_type": "code",
   "execution_count": 3,
   "metadata": {},
   "outputs": [
    {
     "data": {
      "text/plain": [
       "[3, 2, 5, 1]"
      ]
     },
     "execution_count": 3,
     "metadata": {},
     "output_type": "execute_result"
    }
   ],
   "source": [
    "import operator\n",
    "inventory = [('apple', 3), ('banana', 2), ('pear', 5), ('orange', 1)]\n",
    "getcount = operator.itemgetter(1)\n",
    "list(map(getcount, inventory))"
   ]
  },
  {
   "cell_type": "markdown",
   "metadata": {},
   "source": []
  }
 ],
 "metadata": {
  "interpreter": {
   "hash": "9882355bb464ee3d294aa16be20f61c34e7ccfd47bbe50446fb3d315dc24c3e5"
  },
  "kernelspec": {
   "display_name": "Python 3.8.12 ('DL_ENV')",
   "language": "python",
   "name": "python3"
  },
  "language_info": {
   "codemirror_mode": {
    "name": "ipython",
    "version": 3
   },
   "file_extension": ".py",
   "mimetype": "text/x-python",
   "name": "python",
   "nbconvert_exporter": "python",
   "pygments_lexer": "ipython3",
   "version": "3.8.12"
  },
  "orig_nbformat": 4
 },
 "nbformat": 4,
 "nbformat_minor": 2
}

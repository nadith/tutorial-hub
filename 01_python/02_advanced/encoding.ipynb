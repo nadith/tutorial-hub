{
 "cells": [
  {
   "cell_type": "markdown",
   "metadata": {},
   "source": [
    "# UTF-8\n",
    "Ref: https://www.youtube.com/watch?v=MijmeoH9LT4\n",
    "\n",
    "* 65 = 01000001\n",
    "* 66 = 01000010\n",
    "* 67 = 01000011\n",
    "  \n",
    "if two bytes are required,\n",
    "\n",
    "`[110 xxxxx][10 xxxxxx]` headers are 110, 10 respectively.\n",
    "\n",
    "* 110 means, there are 2 blocks\n",
    "* 10 means, it's a continuation block\n",
    "\n",
    "if three bytes are required,\n",
    "\n",
    "`[1110 xxxx][10 xxxxxx][10 xxxxxx]` \n",
    "\n",
    "python by default uses utf-8"
   ]
  }
 ],
 "metadata": {
  "language_info": {
   "name": "python"
  },
  "orig_nbformat": 4
 },
 "nbformat": 4,
 "nbformat_minor": 2
}

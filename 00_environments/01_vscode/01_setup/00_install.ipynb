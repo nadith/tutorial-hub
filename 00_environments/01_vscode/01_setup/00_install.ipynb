{
 "cells": [
  {
   "cell_type": "markdown",
   "metadata": {},
   "source": [
    "<style>\n",
    "  r2 { color: #ff7171 }\n",
    "  o { color: Orange }\n",
    "  g { color: Green }\n",
    "</style>\n",
    "\n",
    "# 0.Install Anaconda\n",
    "\n",
    "Download anaconda and install it. Anaconda comes with: \n",
    "\n",
    "- `numpy` package (vectors, matrixes, etc.)\n",
    "- `skikit-learn` package (machine learning)\n",
    "- `jupyter` package (interactive python notebooks)\n",
    "- `matplotlib` package (plotting in python)\n",
    "\n",
    "\n",
    "Following packages are **<o>additions** to what comes with Anaconda:"
   ]
  },
  {
   "cell_type": "markdown",
   "metadata": {},
   "source": [
    "# 1.Jupyter Notebook (IPython) Additions"
   ]
  },
  {
   "cell_type": "code",
   "execution_count": 2,
   "metadata": {},
   "outputs": [
    {
     "name": "stdout",
     "output_type": "stream",
     "text": [
      "Requirement already satisfied: ipywidgets in c:\\users\\chath\\anaconda3\\lib\\site-packages (7.6.5)\n",
      "Requirement already satisfied: ipython>=4.0.0 in c:\\users\\chath\\anaconda3\\lib\\site-packages (from ipywidgets) (8.2.0)\n",
      "Requirement already satisfied: widgetsnbextension~=3.5.0 in c:\\users\\chath\\anaconda3\\lib\\site-packages (from ipywidgets) (3.5.2)\n",
      "Requirement already satisfied: jupyterlab-widgets>=1.0.0 in c:\\users\\chath\\anaconda3\\lib\\site-packages (from ipywidgets) (1.0.0)\n",
      "Requirement already satisfied: traitlets>=4.3.1 in c:\\users\\chath\\anaconda3\\lib\\site-packages (from ipywidgets) (5.1.1)\n",
      "Requirement already satisfied: ipython-genutils~=0.2.0 in c:\\users\\chath\\anaconda3\\lib\\site-packages (from ipywidgets) (0.2.0)\n",
      "Requirement already satisfied: ipykernel>=4.5.1 in c:\\users\\chath\\anaconda3\\lib\\site-packages (from ipywidgets) (6.9.1)\n",
      "Requirement already satisfied: nbformat>=4.2.0 in c:\\users\\chath\\anaconda3\\lib\\site-packages (from ipywidgets) (5.3.0)\n",
      "Requirement already satisfied: tornado<7.0,>=4.2 in c:\\users\\chath\\anaconda3\\lib\\site-packages (from ipykernel>=4.5.1->ipywidgets) (6.1)\n",
      "Requirement already satisfied: debugpy<2.0,>=1.0.0 in c:\\users\\chath\\anaconda3\\lib\\site-packages (from ipykernel>=4.5.1->ipywidgets) (1.5.1)\n",
      "Requirement already satisfied: matplotlib-inline<0.2.0,>=0.1.0 in c:\\users\\chath\\anaconda3\\lib\\site-packages (from ipykernel>=4.5.1->ipywidgets) (0.1.2)\n",
      "Requirement already satisfied: jupyter-client<8.0 in c:\\users\\chath\\anaconda3\\lib\\site-packages (from ipykernel>=4.5.1->ipywidgets) (6.1.12)\n",
      "Requirement already satisfied: nest-asyncio in c:\\users\\chath\\anaconda3\\lib\\site-packages (from ipykernel>=4.5.1->ipywidgets) (1.5.5)\n",
      "Requirement already satisfied: jedi>=0.16 in c:\\users\\chath\\anaconda3\\lib\\site-packages (from ipython>=4.0.0->ipywidgets) (0.18.1)\n",
      "Requirement already satisfied: backcall in c:\\users\\chath\\anaconda3\\lib\\site-packages (from ipython>=4.0.0->ipywidgets) (0.2.0)\n",
      "Requirement already satisfied: pygments>=2.4.0 in c:\\users\\chath\\anaconda3\\lib\\site-packages (from ipython>=4.0.0->ipywidgets) (2.11.2)\n",
      "Requirement already satisfied: colorama in c:\\users\\chath\\anaconda3\\lib\\site-packages (from ipython>=4.0.0->ipywidgets) (0.4.4)\n",
      "Requirement already satisfied: decorator in c:\\users\\chath\\anaconda3\\lib\\site-packages (from ipython>=4.0.0->ipywidgets) (5.1.1)\n",
      "Requirement already satisfied: setuptools>=18.5 in c:\\users\\chath\\anaconda3\\lib\\site-packages (from ipython>=4.0.0->ipywidgets) (61.2.0)\n",
      "Requirement already satisfied: stack-data in c:\\users\\chath\\anaconda3\\lib\\site-packages (from ipython>=4.0.0->ipywidgets) (0.2.0)\n",
      "Requirement already satisfied: pickleshare in c:\\users\\chath\\anaconda3\\lib\\site-packages (from ipython>=4.0.0->ipywidgets) (0.7.5)\n",
      "Requirement already satisfied: prompt-toolkit!=3.0.0,!=3.0.1,<3.1.0,>=2.0.0 in c:\\users\\chath\\anaconda3\\lib\\site-packages (from ipython>=4.0.0->ipywidgets) (3.0.20)\n",
      "Requirement already satisfied: parso<0.9.0,>=0.8.0 in c:\\users\\chath\\anaconda3\\lib\\site-packages (from jedi>=0.16->ipython>=4.0.0->ipywidgets) (0.8.3)\n",
      "Requirement already satisfied: python-dateutil>=2.1 in c:\\users\\chath\\anaconda3\\lib\\site-packages (from jupyter-client<8.0->ipykernel>=4.5.1->ipywidgets) (2.8.2)\n",
      "Requirement already satisfied: pyzmq>=13 in c:\\users\\chath\\anaconda3\\lib\\site-packages (from jupyter-client<8.0->ipykernel>=4.5.1->ipywidgets) (22.3.0)\n",
      "Requirement already satisfied: jupyter-core>=4.6.0 in c:\\users\\chath\\anaconda3\\lib\\site-packages (from jupyter-client<8.0->ipykernel>=4.5.1->ipywidgets) (4.9.2)\n",
      "Requirement already satisfied: pywin32>=1.0 in c:\\users\\chath\\anaconda3\\lib\\site-packages (from jupyter-core>=4.6.0->jupyter-client<8.0->ipykernel>=4.5.1->ipywidgets) (302)\n",
      "Requirement already satisfied: fastjsonschema in c:\\users\\chath\\anaconda3\\lib\\site-packages (from nbformat>=4.2.0->ipywidgets) (2.15.1)\n",
      "Requirement already satisfied: jsonschema>=2.6 in c:\\users\\chath\\anaconda3\\lib\\site-packages (from nbformat>=4.2.0->ipywidgets) (4.4.0)\n",
      "Requirement already satisfied: attrs>=17.4.0 in c:\\users\\chath\\anaconda3\\lib\\site-packages (from jsonschema>=2.6->nbformat>=4.2.0->ipywidgets) (21.4.0)\n",
      "Requirement already satisfied: pyrsistent!=0.17.0,!=0.17.1,!=0.17.2,>=0.14.0 in c:\\users\\chath\\anaconda3\\lib\\site-packages (from jsonschema>=2.6->nbformat>=4.2.0->ipywidgets) (0.18.0)\n",
      "Requirement already satisfied: wcwidth in c:\\users\\chath\\anaconda3\\lib\\site-packages (from prompt-toolkit!=3.0.0,!=3.0.1,<3.1.0,>=2.0.0->ipython>=4.0.0->ipywidgets) (0.2.5)\n",
      "Requirement already satisfied: six>=1.5 in c:\\users\\chath\\anaconda3\\lib\\site-packages (from python-dateutil>=2.1->jupyter-client<8.0->ipykernel>=4.5.1->ipywidgets) (1.16.0)\n",
      "Requirement already satisfied: notebook>=4.4.1 in c:\\users\\chath\\anaconda3\\lib\\site-packages (from widgetsnbextension~=3.5.0->ipywidgets) (6.4.8)\n",
      "Requirement already satisfied: nbconvert in c:\\users\\chath\\anaconda3\\lib\\site-packages (from notebook>=4.4.1->widgetsnbextension~=3.5.0->ipywidgets) (6.4.4)\n",
      "Requirement already satisfied: argon2-cffi in c:\\users\\chath\\anaconda3\\lib\\site-packages (from notebook>=4.4.1->widgetsnbextension~=3.5.0->ipywidgets) (21.3.0)\n",
      "Requirement already satisfied: terminado>=0.8.3 in c:\\users\\chath\\anaconda3\\lib\\site-packages (from notebook>=4.4.1->widgetsnbextension~=3.5.0->ipywidgets) (0.13.1)\n",
      "Requirement already satisfied: jinja2 in c:\\users\\chath\\anaconda3\\lib\\site-packages (from notebook>=4.4.1->widgetsnbextension~=3.5.0->ipywidgets) (2.11.3)\n",
      "Requirement already satisfied: Send2Trash>=1.8.0 in c:\\users\\chath\\anaconda3\\lib\\site-packages (from notebook>=4.4.1->widgetsnbextension~=3.5.0->ipywidgets) (1.8.0)\n",
      "Requirement already satisfied: prometheus-client in c:\\users\\chath\\anaconda3\\lib\\site-packages (from notebook>=4.4.1->widgetsnbextension~=3.5.0->ipywidgets) (0.13.1)\n",
      "Requirement already satisfied: pywinpty>=1.1.0 in c:\\users\\chath\\anaconda3\\lib\\site-packages (from terminado>=0.8.3->notebook>=4.4.1->widgetsnbextension~=3.5.0->ipywidgets) (2.0.2)\n",
      "Requirement already satisfied: argon2-cffi-bindings in c:\\users\\chath\\anaconda3\\lib\\site-packages (from argon2-cffi->notebook>=4.4.1->widgetsnbextension~=3.5.0->ipywidgets) (21.2.0)\n",
      "Requirement already satisfied: cffi>=1.0.1 in c:\\users\\chath\\anaconda3\\lib\\site-packages (from argon2-cffi-bindings->argon2-cffi->notebook>=4.4.1->widgetsnbextension~=3.5.0->ipywidgets) (1.15.0)\n",
      "Requirement already satisfied: pycparser in c:\\users\\chath\\anaconda3\\lib\\site-packages (from cffi>=1.0.1->argon2-cffi-bindings->argon2-cffi->notebook>=4.4.1->widgetsnbextension~=3.5.0->ipywidgets) (2.21)\n",
      "Requirement already satisfied: MarkupSafe>=0.23 in c:\\users\\chath\\anaconda3\\lib\\site-packages (from jinja2->notebook>=4.4.1->widgetsnbextension~=3.5.0->ipywidgets) (2.0.1)\n",
      "Requirement already satisfied: entrypoints>=0.2.2 in c:\\users\\chath\\anaconda3\\lib\\site-packages (from nbconvert->notebook>=4.4.1->widgetsnbextension~=3.5.0->ipywidgets) (0.4)\n",
      "Requirement already satisfied: beautifulsoup4 in c:\\users\\chath\\anaconda3\\lib\\site-packages (from nbconvert->notebook>=4.4.1->widgetsnbextension~=3.5.0->ipywidgets) (4.11.1)\n",
      "Requirement already satisfied: pandocfilters>=1.4.1 in c:\\users\\chath\\anaconda3\\lib\\site-packages (from nbconvert->notebook>=4.4.1->widgetsnbextension~=3.5.0->ipywidgets) (1.5.0)\n",
      "Requirement already satisfied: nbclient<0.6.0,>=0.5.0 in c:\\users\\chath\\anaconda3\\lib\\site-packages (from nbconvert->notebook>=4.4.1->widgetsnbextension~=3.5.0->ipywidgets) (0.5.13)\n",
      "Requirement already satisfied: bleach in c:\\users\\chath\\anaconda3\\lib\\site-packages (from nbconvert->notebook>=4.4.1->widgetsnbextension~=3.5.0->ipywidgets) (4.1.0)\n",
      "Requirement already satisfied: defusedxml in c:\\users\\chath\\anaconda3\\lib\\site-packages (from nbconvert->notebook>=4.4.1->widgetsnbextension~=3.5.0->ipywidgets) (0.7.1)\n",
      "Requirement already satisfied: jupyterlab-pygments in c:\\users\\chath\\anaconda3\\lib\\site-packages (from nbconvert->notebook>=4.4.1->widgetsnbextension~=3.5.0->ipywidgets) (0.1.2)\n",
      "Requirement already satisfied: mistune<2,>=0.8.1 in c:\\users\\chath\\anaconda3\\lib\\site-packages (from nbconvert->notebook>=4.4.1->widgetsnbextension~=3.5.0->ipywidgets) (0.8.4)\n",
      "Requirement already satisfied: testpath in c:\\users\\chath\\anaconda3\\lib\\site-packages (from nbconvert->notebook>=4.4.1->widgetsnbextension~=3.5.0->ipywidgets) (0.5.0)\n",
      "Requirement already satisfied: soupsieve>1.2 in c:\\users\\chath\\anaconda3\\lib\\site-packages (from beautifulsoup4->nbconvert->notebook>=4.4.1->widgetsnbextension~=3.5.0->ipywidgets) (2.3.1)\n",
      "Requirement already satisfied: packaging in c:\\users\\chath\\anaconda3\\lib\\site-packages (from bleach->nbconvert->notebook>=4.4.1->widgetsnbextension~=3.5.0->ipywidgets) (21.3)\n",
      "Requirement already satisfied: webencodings in c:\\users\\chath\\anaconda3\\lib\\site-packages (from bleach->nbconvert->notebook>=4.4.1->widgetsnbextension~=3.5.0->ipywidgets) (0.5.1)\n",
      "Requirement already satisfied: pyparsing!=3.0.5,>=2.0.2 in c:\\users\\chath\\anaconda3\\lib\\site-packages (from packaging->bleach->nbconvert->notebook>=4.4.1->widgetsnbextension~=3.5.0->ipywidgets) (3.0.4)\n",
      "Requirement already satisfied: asttokens in c:\\users\\chath\\anaconda3\\lib\\site-packages (from stack-data->ipython>=4.0.0->ipywidgets) (2.0.5)\n",
      "Requirement already satisfied: pure-eval in c:\\users\\chath\\anaconda3\\lib\\site-packages (from stack-data->ipython>=4.0.0->ipywidgets) (0.2.2)\n",
      "Requirement already satisfied: executing in c:\\users\\chath\\anaconda3\\lib\\site-packages (from stack-data->ipython>=4.0.0->ipywidgets) (0.8.3)\n"
     ]
    }
   ],
   "source": [
    "!pip install ipywidgets"
   ]
  },
  {
   "cell_type": "markdown",
   "metadata": {},
   "source": [
    "# 2.Deep Learning / Machine Learning Frameworks\n",
    "\n",
    "Make sure to satisfy the other requirement such as `CUDA` installation, etc before you install the following."
   ]
  },
  {
   "cell_type": "markdown",
   "metadata": {},
   "source": [
    "## 2.1 Pytorch Packages\n",
    "\n",
    "pytorch & related packages."
   ]
  },
  {
   "cell_type": "markdown",
   "metadata": {},
   "source": [
    "### 2.2.1 `pytorch` package\n",
    "\n",
    "Choose the correct pytorch installation command from:\\\n",
    "https://pytorch.org/get-started/locally/\n",
    "\n",
    "![Pytorch Installation](imgs/pytorch_installation.png)"
   ]
  },
  {
   "cell_type": "code",
   "execution_count": 3,
   "metadata": {},
   "outputs": [],
   "source": [
    "# Pytorch Installation (CUDA v11.0)\n",
    "!conda install pytorch torchvision torchaudio cudatoolkit=11.3 -c pytorch"
   ]
  },
  {
   "cell_type": "markdown",
   "metadata": {},
   "source": [
    "### 2.2.2 `fastai` package\n",
    "Ref: https://docs.fast.ai/\n",
    "\n",
    "fastai is a deep learning library which provides practitioners with high-level components that can quickly and easily provide state-of-the-art results"
   ]
  },
  {
   "cell_type": "code",
   "execution_count": 1,
   "metadata": {},
   "outputs": [
    {
     "name": "stdout",
     "output_type": "stream",
     "text": [
      "Collecting fastai\n",
      "  Downloading fastai-2.7.3-py3-none-any.whl (213 kB)\n",
      "Requirement already satisfied: requests in c:\\users\\chath\\anaconda3\\lib\\site-packages (from fastai) (2.27.1)\n",
      "Requirement already satisfied: torch<1.12,>=1.7.0 in c:\\users\\chath\\anaconda3\\lib\\site-packages (from fastai) (1.11.0)\n",
      "Requirement already satisfied: pillow>6.0.0 in c:\\users\\chath\\anaconda3\\lib\\site-packages (from fastai) (9.0.1)\n",
      "Requirement already satisfied: pip in c:\\users\\chath\\anaconda3\\lib\\site-packages (from fastai) (21.2.4)\n",
      "Collecting fastdownload<2,>=0.0.5\n",
      "  Using cached fastdownload-0.0.6-py3-none-any.whl (12 kB)\n",
      "Requirement already satisfied: matplotlib in c:\\users\\chath\\anaconda3\\lib\\site-packages (from fastai) (3.5.1)\n",
      "Collecting fastprogress>=0.2.4\n",
      "  Using cached fastprogress-1.0.2-py3-none-any.whl (12 kB)\n",
      "Requirement already satisfied: pyyaml in c:\\users\\chath\\anaconda3\\lib\\site-packages (from fastai) (6.0)\n",
      "Requirement already satisfied: scikit-learn in c:\\users\\chath\\anaconda3\\lib\\site-packages (from fastai) (1.0.2)\n",
      "Collecting spacy<4\n",
      "  Using cached spacy-3.3.1-cp39-cp39-win_amd64.whl (11.7 MB)\n",
      "Requirement already satisfied: torchvision>=0.8.2 in c:\\users\\chath\\anaconda3\\lib\\site-packages (from fastai) (0.12.0)\n",
      "Requirement already satisfied: scipy in c:\\users\\chath\\anaconda3\\lib\\site-packages (from fastai) (1.7.3)\n",
      "Requirement already satisfied: pandas in c:\\users\\chath\\anaconda3\\lib\\site-packages (from fastai) (1.4.2)\n",
      "Requirement already satisfied: packaging in c:\\users\\chath\\anaconda3\\lib\\site-packages (from fastai) (21.3)\n",
      "Collecting fastcore<1.5,>=1.4.5\n",
      "  Downloading fastcore-1.4.5-py3-none-any.whl (61 kB)\n",
      "Collecting pydantic!=1.8,!=1.8.1,<1.9.0,>=1.7.4\n",
      "  Using cached pydantic-1.8.2-cp39-cp39-win_amd64.whl (1.9 MB)\n",
      "Collecting blis<0.8.0,>=0.4.0\n",
      "  Using cached blis-0.7.7-cp39-cp39-win_amd64.whl (6.6 MB)\n",
      "Collecting typer<0.5.0,>=0.3.0\n",
      "  Using cached typer-0.4.1-py3-none-any.whl (27 kB)\n",
      "Collecting spacy-loggers<2.0.0,>=1.0.0\n",
      "  Using cached spacy_loggers-1.0.2-py3-none-any.whl (7.2 kB)\n",
      "Requirement already satisfied: setuptools in c:\\users\\chath\\anaconda3\\lib\\site-packages (from spacy<4->fastai) (61.2.0)\n",
      "Collecting thinc<8.1.0,>=8.0.14\n",
      "  Using cached thinc-8.0.17-cp39-cp39-win_amd64.whl (1.0 MB)\n",
      "Collecting preshed<3.1.0,>=3.0.2\n",
      "  Using cached preshed-3.0.6-cp39-cp39-win_amd64.whl (112 kB)\n",
      "Requirement already satisfied: tqdm<5.0.0,>=4.38.0 in c:\\users\\chath\\anaconda3\\lib\\site-packages (from spacy<4->fastai) (4.64.0)\n",
      "Collecting pathy>=0.3.5\n",
      "  Using cached pathy-0.6.1-py3-none-any.whl (42 kB)\n",
      "Collecting srsly<3.0.0,>=2.4.3\n",
      "  Using cached srsly-2.4.3-cp39-cp39-win_amd64.whl (448 kB)\n",
      "Requirement already satisfied: jinja2 in c:\\users\\chath\\anaconda3\\lib\\site-packages (from spacy<4->fastai) (2.11.3)\n",
      "Collecting wasabi<1.1.0,>=0.9.1\n",
      "  Using cached wasabi-0.9.1-py3-none-any.whl (26 kB)\n",
      "Collecting langcodes<4.0.0,>=3.2.0\n",
      "  Using cached langcodes-3.3.0-py3-none-any.whl (181 kB)\n",
      "Collecting murmurhash<1.1.0,>=0.28.0\n",
      "  Using cached murmurhash-1.0.7-cp39-cp39-win_amd64.whl (18 kB)\n",
      "Collecting spacy-legacy<3.1.0,>=3.0.9\n",
      "  Using cached spacy_legacy-3.0.9-py2.py3-none-any.whl (20 kB)\n",
      "Collecting cymem<2.1.0,>=2.0.2\n",
      "  Using cached cymem-2.0.6-cp39-cp39-win_amd64.whl (36 kB)\n",
      "Requirement already satisfied: numpy>=1.15.0 in c:\\users\\chath\\anaconda3\\lib\\site-packages (from spacy<4->fastai) (1.21.5)\n",
      "Collecting catalogue<2.1.0,>=2.0.6\n",
      "  Using cached catalogue-2.0.7-py3-none-any.whl (17 kB)\n",
      "Requirement already satisfied: pyparsing!=3.0.5,>=2.0.2 in c:\\users\\chath\\anaconda3\\lib\\site-packages (from packaging->fastai) (3.0.4)\n",
      "Requirement already satisfied: smart-open<6.0.0,>=5.0.0 in c:\\users\\chath\\anaconda3\\lib\\site-packages (from pathy>=0.3.5->spacy<4->fastai) (5.1.0)\n",
      "Requirement already satisfied: typing-extensions>=3.7.4.3 in c:\\users\\chath\\anaconda3\\lib\\site-packages (from pydantic!=1.8,!=1.8.1,<1.9.0,>=1.7.4->spacy<4->fastai) (4.1.1)\n",
      "Requirement already satisfied: urllib3<1.27,>=1.21.1 in c:\\users\\chath\\anaconda3\\lib\\site-packages (from requests->fastai) (1.26.9)\n",
      "Requirement already satisfied: charset-normalizer~=2.0.0 in c:\\users\\chath\\anaconda3\\lib\\site-packages (from requests->fastai) (2.0.4)\n",
      "Requirement already satisfied: idna<4,>=2.5 in c:\\users\\chath\\anaconda3\\lib\\site-packages (from requests->fastai) (3.3)\n",
      "Requirement already satisfied: certifi>=2017.4.17 in c:\\users\\chath\\anaconda3\\lib\\site-packages (from requests->fastai) (2021.10.8)\n",
      "Requirement already satisfied: colorama in c:\\users\\chath\\anaconda3\\lib\\site-packages (from tqdm<5.0.0,>=4.38.0->spacy<4->fastai) (0.4.4)\n",
      "Requirement already satisfied: click<9.0.0,>=7.1.1 in c:\\users\\chath\\anaconda3\\lib\\site-packages (from typer<0.5.0,>=0.3.0->spacy<4->fastai) (8.0.4)\n",
      "Requirement already satisfied: MarkupSafe>=0.23 in c:\\users\\chath\\anaconda3\\lib\\site-packages (from jinja2->spacy<4->fastai) (2.0.1)\n",
      "Requirement already satisfied: cycler>=0.10 in c:\\users\\chath\\anaconda3\\lib\\site-packages (from matplotlib->fastai) (0.11.0)\n",
      "Requirement already satisfied: fonttools>=4.22.0 in c:\\users\\chath\\anaconda3\\lib\\site-packages (from matplotlib->fastai) (4.25.0)\n",
      "Requirement already satisfied: python-dateutil>=2.7 in c:\\users\\chath\\anaconda3\\lib\\site-packages (from matplotlib->fastai) (2.8.2)\n",
      "Requirement already satisfied: kiwisolver>=1.0.1 in c:\\users\\chath\\anaconda3\\lib\\site-packages (from matplotlib->fastai) (1.3.2)\n",
      "Requirement already satisfied: six>=1.5 in c:\\users\\chath\\anaconda3\\lib\\site-packages (from python-dateutil>=2.7->matplotlib->fastai) (1.16.0)\n",
      "Requirement already satisfied: pytz>=2020.1 in c:\\users\\chath\\anaconda3\\lib\\site-packages (from pandas->fastai) (2021.3)\n",
      "Requirement already satisfied: threadpoolctl>=2.0.0 in c:\\users\\chath\\anaconda3\\lib\\site-packages (from scikit-learn->fastai) (2.2.0)\n",
      "Requirement already satisfied: joblib>=0.11 in c:\\users\\chath\\anaconda3\\lib\\site-packages (from scikit-learn->fastai) (1.1.0)\n",
      "Installing collected packages: murmurhash, cymem, catalogue, wasabi, typer, srsly, pydantic, preshed, blis, thinc, spacy-loggers, spacy-legacy, pathy, langcodes, fastprogress, fastcore, spacy, fastdownload, fastai\n",
      "Successfully installed blis-0.7.7 catalogue-2.0.7 cymem-2.0.6 fastai-2.7.3 fastcore-1.4.5 fastdownload-0.0.6 fastprogress-1.0.2 langcodes-3.3.0 murmurhash-1.0.7 pathy-0.6.1 preshed-3.0.6 pydantic-1.8.2 spacy-3.3.1 spacy-legacy-3.0.9 spacy-loggers-1.0.2 srsly-2.4.3 thinc-8.0.17 typer-0.4.1 wasabi-0.9.1\n"
     ]
    }
   ],
   "source": [
    "!pip install fastai"
   ]
  },
  {
   "cell_type": "markdown",
   "metadata": {},
   "source": [
    "## 2.2 Tensorflow Packages\n",
    "\n",
    "`tensorflow` comes with `tensorboard`"
   ]
  },
  {
   "cell_type": "code",
   "execution_count": 2,
   "metadata": {},
   "outputs": [
    {
     "name": "stdout",
     "output_type": "stream",
     "text": [
      "Collecting tensorflow\n",
      "  Using cached tensorflow-2.9.1-cp39-cp39-win_amd64.whl (444.0 MB)\n",
      "Collecting keras-preprocessing>=1.1.1\n",
      "  Using cached Keras_Preprocessing-1.1.2-py2.py3-none-any.whl (42 kB)\n",
      "Requirement already satisfied: wrapt>=1.11.0 in c:\\users\\chath\\anaconda3\\lib\\site-packages (from tensorflow) (1.12.1)\n",
      "Requirement already satisfied: six>=1.12.0 in c:\\users\\chath\\anaconda3\\lib\\site-packages (from tensorflow) (1.16.0)\n",
      "Requirement already satisfied: numpy>=1.20 in c:\\users\\chath\\anaconda3\\lib\\site-packages (from tensorflow) (1.21.5)\n",
      "Collecting google-pasta>=0.1.1\n",
      "  Using cached google_pasta-0.2.0-py3-none-any.whl (57 kB)\n",
      "Collecting flatbuffers<2,>=1.12\n",
      "  Using cached flatbuffers-1.12-py2.py3-none-any.whl (15 kB)\n",
      "Requirement already satisfied: setuptools in c:\\users\\chath\\anaconda3\\lib\\site-packages (from tensorflow) (61.2.0)\n",
      "Collecting gast<=0.4.0,>=0.2.1\n",
      "  Using cached gast-0.4.0-py3-none-any.whl (9.8 kB)\n",
      "Collecting tensorflow-estimator<2.10.0,>=2.9.0rc0\n",
      "  Using cached tensorflow_estimator-2.9.0-py2.py3-none-any.whl (438 kB)\n",
      "Collecting absl-py>=1.0.0\n",
      "  Using cached absl_py-1.1.0-py3-none-any.whl (123 kB)\n",
      "Collecting tensorboard<2.10,>=2.9\n",
      "  Using cached tensorboard-2.9.1-py3-none-any.whl (5.8 MB)\n",
      "Collecting libclang>=13.0.0\n",
      "  Using cached libclang-14.0.1-py2.py3-none-win_amd64.whl (14.2 MB)\n",
      "Requirement already satisfied: packaging in c:\\users\\chath\\anaconda3\\lib\\site-packages (from tensorflow) (21.3)\n",
      "Collecting keras<2.10.0,>=2.9.0rc0\n",
      "  Using cached keras-2.9.0-py2.py3-none-any.whl (1.6 MB)\n",
      "Collecting tensorflow-io-gcs-filesystem>=0.23.1\n",
      "  Using cached tensorflow_io_gcs_filesystem-0.26.0-cp39-cp39-win_amd64.whl (1.5 MB)\n",
      "Collecting opt-einsum>=2.3.2\n",
      "  Using cached opt_einsum-3.3.0-py3-none-any.whl (65 kB)\n",
      "Requirement already satisfied: typing-extensions>=3.6.6 in c:\\users\\chath\\anaconda3\\lib\\site-packages (from tensorflow) (4.1.1)\n",
      "Requirement already satisfied: protobuf<3.20,>=3.9.2 in c:\\users\\chath\\anaconda3\\lib\\site-packages (from tensorflow) (3.19.1)\n",
      "Requirement already satisfied: h5py>=2.9.0 in c:\\users\\chath\\anaconda3\\lib\\site-packages (from tensorflow) (3.6.0)\n",
      "Requirement already satisfied: grpcio<2.0,>=1.24.3 in c:\\users\\chath\\anaconda3\\lib\\site-packages (from tensorflow) (1.42.0)\n",
      "Collecting astunparse>=1.6.0\n",
      "  Using cached astunparse-1.6.3-py2.py3-none-any.whl (12 kB)\n",
      "Collecting termcolor>=1.1.0\n",
      "  Using cached termcolor-1.1.0-py3-none-any.whl\n",
      "Requirement already satisfied: wheel<1.0,>=0.23.0 in c:\\users\\chath\\anaconda3\\lib\\site-packages (from astunparse>=1.6.0->tensorflow) (0.37.1)\n",
      "Requirement already satisfied: markdown>=2.6.8 in c:\\users\\chath\\anaconda3\\lib\\site-packages (from tensorboard<2.10,>=2.9->tensorflow) (3.3.4)\n",
      "Collecting google-auth-oauthlib<0.5,>=0.4.1\n",
      "  Using cached google_auth_oauthlib-0.4.6-py2.py3-none-any.whl (18 kB)\n",
      "Requirement already satisfied: google-auth<3,>=1.6.3 in c:\\users\\chath\\anaconda3\\lib\\site-packages (from tensorboard<2.10,>=2.9->tensorflow) (1.33.0)\n",
      "Requirement already satisfied: requests<3,>=2.21.0 in c:\\users\\chath\\anaconda3\\lib\\site-packages (from tensorboard<2.10,>=2.9->tensorflow) (2.27.1)\n",
      "Requirement already satisfied: werkzeug>=1.0.1 in c:\\users\\chath\\anaconda3\\lib\\site-packages (from tensorboard<2.10,>=2.9->tensorflow) (2.0.3)\n",
      "Collecting tensorboard-plugin-wit>=1.6.0\n",
      "  Using cached tensorboard_plugin_wit-1.8.1-py3-none-any.whl (781 kB)\n",
      "Collecting tensorboard-data-server<0.7.0,>=0.6.0\n",
      "  Using cached tensorboard_data_server-0.6.1-py3-none-any.whl (2.4 kB)\n",
      "Requirement already satisfied: cachetools<5.0,>=2.0.0 in c:\\users\\chath\\anaconda3\\lib\\site-packages (from google-auth<3,>=1.6.3->tensorboard<2.10,>=2.9->tensorflow) (4.2.2)\n",
      "Requirement already satisfied: rsa<5,>=3.1.4 in c:\\users\\chath\\anaconda3\\lib\\site-packages (from google-auth<3,>=1.6.3->tensorboard<2.10,>=2.9->tensorflow) (4.7.2)\n",
      "Requirement already satisfied: pyasn1-modules>=0.2.1 in c:\\users\\chath\\anaconda3\\lib\\site-packages (from google-auth<3,>=1.6.3->tensorboard<2.10,>=2.9->tensorflow) (0.2.8)\n",
      "Collecting requests-oauthlib>=0.7.0\n",
      "  Using cached requests_oauthlib-1.3.1-py2.py3-none-any.whl (23 kB)\n",
      "Requirement already satisfied: pyasn1<0.5.0,>=0.4.6 in c:\\users\\chath\\anaconda3\\lib\\site-packages (from pyasn1-modules>=0.2.1->google-auth<3,>=1.6.3->tensorboard<2.10,>=2.9->tensorflow) (0.4.8)\n",
      "Requirement already satisfied: urllib3<1.27,>=1.21.1 in c:\\users\\chath\\anaconda3\\lib\\site-packages (from requests<3,>=2.21.0->tensorboard<2.10,>=2.9->tensorflow) (1.26.9)\n",
      "Requirement already satisfied: certifi>=2017.4.17 in c:\\users\\chath\\anaconda3\\lib\\site-packages (from requests<3,>=2.21.0->tensorboard<2.10,>=2.9->tensorflow) (2021.10.8)\n",
      "Requirement already satisfied: charset-normalizer~=2.0.0 in c:\\users\\chath\\anaconda3\\lib\\site-packages (from requests<3,>=2.21.0->tensorboard<2.10,>=2.9->tensorflow) (2.0.4)\n",
      "Requirement already satisfied: idna<4,>=2.5 in c:\\users\\chath\\anaconda3\\lib\\site-packages (from requests<3,>=2.21.0->tensorboard<2.10,>=2.9->tensorflow) (3.3)\n",
      "Collecting oauthlib>=3.0.0\n",
      "  Using cached oauthlib-3.2.0-py3-none-any.whl (151 kB)\n",
      "Requirement already satisfied: pyparsing!=3.0.5,>=2.0.2 in c:\\users\\chath\\anaconda3\\lib\\site-packages (from packaging->tensorflow) (3.0.4)\n",
      "Installing collected packages: oauthlib, requests-oauthlib, tensorboard-plugin-wit, tensorboard-data-server, google-auth-oauthlib, absl-py, termcolor, tensorflow-io-gcs-filesystem, tensorflow-estimator, tensorboard, opt-einsum, libclang, keras-preprocessing, keras, google-pasta, gast, flatbuffers, astunparse, tensorflow\n",
      "Successfully installed absl-py-1.1.0 astunparse-1.6.3 flatbuffers-1.12 gast-0.4.0 google-auth-oauthlib-0.4.6 google-pasta-0.2.0 keras-2.9.0 keras-preprocessing-1.1.2 libclang-14.0.1 oauthlib-3.2.0 opt-einsum-3.3.0 requests-oauthlib-1.3.1 tensorboard-2.9.1 tensorboard-data-server-0.6.1 tensorboard-plugin-wit-1.8.1 tensorflow-2.9.1 tensorflow-estimator-2.9.0 tensorflow-io-gcs-filesystem-0.26.0 termcolor-1.1.0\n"
     ]
    }
   ],
   "source": [
    "# Tensorflow Installation (CUDA v11.0)\n",
    "# Current stable release for CPU and GPU\n",
    "!pip install tensorflow"
   ]
  },
  {
   "cell_type": "markdown",
   "metadata": {},
   "source": [
    "## 2.3 `opencv` package\n",
    "\n",
    "OpenCV (Open Source Computer Vision Library) is an open source computer vision and machine learning software library. OpenCV was built to provide a common infrastructure for computer vision applications and to accelerate the use of machine perception in the commercial products."
   ]
  },
  {
   "cell_type": "code",
   "execution_count": 3,
   "metadata": {},
   "outputs": [
    {
     "name": "stdout",
     "output_type": "stream",
     "text": [
      "Collecting opencv-python\n",
      "  Using cached opencv_python-4.6.0.66-cp36-abi3-win_amd64.whl (35.6 MB)\n",
      "Requirement already satisfied: numpy>=1.19.3 in c:\\users\\chath\\anaconda3\\lib\\site-packages (from opencv-python) (1.21.5)\n",
      "Installing collected packages: opencv-python\n",
      "Successfully installed opencv-python-4.6.0.66\n",
      "4.6.0\n"
     ]
    }
   ],
   "source": [
    "# To Install the Current Latest version of \n",
    "# OpenCV\n",
    "!pip install --upgrade opencv-python\n",
    "\n",
    "# Check the version\n",
    "import cv2\n",
    "print(cv2.__version__)"
   ]
  },
  {
   "cell_type": "markdown",
   "metadata": {},
   "source": [
    "## 2.4 Debugging Tools\n",
    "\n",
    "These tools will help you to visualize the output of your model, debug your model, etc.\n",
    "`tensorboard` comes with `tensorflow` installation."
   ]
  },
  {
   "cell_type": "markdown",
   "metadata": {},
   "source": [
    "### 2.4.1 `wandb` package\n",
    "Ref: https://docs.wandb.ai/quickstart\n",
    "\n",
    "Weights and Bias to build better models faster with experiment tracking, dataset versioning, and model management, etc.\n",
    "\n",
    "![wand Platform Features](imgs/wandb_platform.png)\n",
    "Ref: https://wandb.ai/site\n",
    "\n",
    "**Set up wandb**\n",
    "\n",
    "1. Sign up for a free account at https://wandb.ai/site and then login to your wandb account.\n",
    "2. Install the wandb library on your machine in a Python 3 environment using pip\n",
    "3. Login to the wandb library on your machine. You will find your API key here: https://wandb.ai/authorize. "
   ]
  },
  {
   "cell_type": "code",
   "execution_count": 4,
   "metadata": {},
   "outputs": [
    {
     "name": "stdout",
     "output_type": "stream",
     "text": [
      "Collecting wandb\n",
      "  Using cached wandb-0.12.18-py2.py3-none-any.whl (1.8 MB)\n",
      "Requirement already satisfied: requests<3,>=2.0.0 in c:\\users\\chath\\anaconda3\\lib\\site-packages (from wandb) (2.27.1)\n",
      "Collecting docker-pycreds>=0.4.0\n",
      "  Using cached docker_pycreds-0.4.0-py2.py3-none-any.whl (9.0 kB)\n",
      "Requirement already satisfied: PyYAML in c:\\users\\chath\\anaconda3\\lib\\site-packages (from wandb) (6.0)\n",
      "Collecting promise<3,>=2.0\n",
      "  Using cached promise-2.3-py3-none-any.whl\n",
      "Requirement already satisfied: six>=1.13.0 in c:\\users\\chath\\anaconda3\\lib\\site-packages (from wandb) (1.16.0)\n",
      "Requirement already satisfied: protobuf<4.0dev,>=3.12.0 in c:\\users\\chath\\anaconda3\\lib\\site-packages (from wandb) (3.19.1)\n",
      "Collecting setproctitle\n",
      "  Using cached setproctitle-1.2.3-cp39-cp39-win_amd64.whl (10 kB)\n",
      "Collecting shortuuid>=0.5.0\n",
      "  Using cached shortuuid-1.0.9-py3-none-any.whl (9.4 kB)\n",
      "Collecting pathtools\n",
      "  Using cached pathtools-0.1.2-py3-none-any.whl\n",
      "Requirement already satisfied: setuptools in c:\\users\\chath\\anaconda3\\lib\\site-packages (from wandb) (61.2.0)\n",
      "Collecting sentry-sdk>=1.0.0\n",
      "  Using cached sentry_sdk-1.5.12-py2.py3-none-any.whl (145 kB)\n",
      "Requirement already satisfied: psutil>=5.0.0 in c:\\users\\chath\\anaconda3\\lib\\site-packages (from wandb) (5.8.0)\n",
      "Requirement already satisfied: Click!=8.0.0,>=7.0 in c:\\users\\chath\\anaconda3\\lib\\site-packages (from wandb) (8.0.4)\n",
      "Collecting GitPython>=1.0.0\n",
      "  Using cached GitPython-3.1.27-py3-none-any.whl (181 kB)\n",
      "Requirement already satisfied: colorama in c:\\users\\chath\\anaconda3\\lib\\site-packages (from Click!=8.0.0,>=7.0->wandb) (0.4.4)\n",
      "Collecting gitdb<5,>=4.0.1\n",
      "  Using cached gitdb-4.0.9-py3-none-any.whl (63 kB)\n",
      "Collecting smmap<6,>=3.0.1\n",
      "  Using cached smmap-5.0.0-py3-none-any.whl (24 kB)\n",
      "Requirement already satisfied: idna<4,>=2.5 in c:\\users\\chath\\anaconda3\\lib\\site-packages (from requests<3,>=2.0.0->wandb) (3.3)\n",
      "Requirement already satisfied: certifi>=2017.4.17 in c:\\users\\chath\\anaconda3\\lib\\site-packages (from requests<3,>=2.0.0->wandb) (2021.10.8)\n",
      "Requirement already satisfied: charset-normalizer~=2.0.0 in c:\\users\\chath\\anaconda3\\lib\\site-packages (from requests<3,>=2.0.0->wandb) (2.0.4)\n",
      "Requirement already satisfied: urllib3<1.27,>=1.21.1 in c:\\users\\chath\\anaconda3\\lib\\site-packages (from requests<3,>=2.0.0->wandb) (1.26.9)\n",
      "Installing collected packages: smmap, gitdb, shortuuid, setproctitle, sentry-sdk, promise, pathtools, GitPython, docker-pycreds, wandb\n",
      "Successfully installed GitPython-3.1.27 docker-pycreds-0.4.0 gitdb-4.0.9 pathtools-0.1.2 promise-2.3 sentry-sdk-1.5.12 setproctitle-1.2.3 shortuuid-1.0.9 smmap-5.0.0 wandb-0.12.18\n"
     ]
    }
   ],
   "source": [
    "!pip install wandb"
   ]
  },
  {
   "cell_type": "markdown",
   "metadata": {},
   "source": [
    "## 2.5 `nltk` package\n",
    "Ref: https://www.nltk.org/install.html\n",
    "\n",
    "NLTK is a leading platform for building Python programs to work with human language data. It provides easy-to-use interfaces to over 50 corpora and lexical resources such as WordNet, along with a suite of text processing libraries for classification, tokenization, stemming, tagging, parsing, and semantic reasoning, wrappers for industrial-strength NLP libraries, and an active discussion forum.\n",
    "\n",
    "![Natural Language Toolkit](imgs/natural-language-toolkit.png)"
   ]
  },
  {
   "cell_type": "code",
   "execution_count": null,
   "metadata": {},
   "outputs": [],
   "source": [
    "#!pip install --user -U nltk"
   ]
  },
  {
   "cell_type": "markdown",
   "metadata": {},
   "source": [
    "# 3.Parallel Computing"
   ]
  },
  {
   "cell_type": "markdown",
   "metadata": {},
   "source": [
    "## 3.1 `ray` package\n",
    "Parallel computing made easy with ray.\n",
    "\n",
    "![ray Framework](imgs/ray_framework.png)"
   ]
  },
  {
   "cell_type": "code",
   "execution_count": 5,
   "metadata": {},
   "outputs": [
    {
     "name": "stdout",
     "output_type": "stream",
     "text": [
      "Collecting ray\n",
      "  Downloading ray-1.13.0-cp39-cp39-win_amd64.whl (20.3 MB)\n",
      "Requirement already satisfied: msgpack<2.0.0,>=1.0.0 in c:\\users\\chath\\anaconda3\\lib\\site-packages (from ray) (1.0.2)\n",
      "Requirement already satisfied: jsonschema in c:\\users\\chath\\anaconda3\\lib\\site-packages (from ray) (4.4.0)\n",
      "Requirement already satisfied: pyyaml in c:\\users\\chath\\anaconda3\\lib\\site-packages (from ray) (6.0)\n",
      "Collecting virtualenv\n",
      "  Using cached virtualenv-20.14.1-py2.py3-none-any.whl (8.8 MB)\n",
      "Requirement already satisfied: filelock in c:\\users\\chath\\anaconda3\\lib\\site-packages (from ray) (3.6.0)\n",
      "Requirement already satisfied: protobuf<4.0.0,>=3.15.3 in c:\\users\\chath\\anaconda3\\lib\\site-packages (from ray) (3.19.1)\n",
      "Requirement already satisfied: attrs in c:\\users\\chath\\anaconda3\\lib\\site-packages (from ray) (21.4.0)\n",
      "Requirement already satisfied: frozenlist in c:\\users\\chath\\anaconda3\\lib\\site-packages (from ray) (1.2.0)\n",
      "Requirement already satisfied: click<=8.0.4,>=7.0 in c:\\users\\chath\\anaconda3\\lib\\site-packages (from ray) (8.0.4)\n",
      "Requirement already satisfied: numpy>=1.19.3 in c:\\users\\chath\\anaconda3\\lib\\site-packages (from ray) (1.21.5)\n",
      "Requirement already satisfied: aiosignal in c:\\users\\chath\\anaconda3\\lib\\site-packages (from ray) (1.2.0)\n",
      "Requirement already satisfied: requests in c:\\users\\chath\\anaconda3\\lib\\site-packages (from ray) (2.27.1)\n",
      "Requirement already satisfied: grpcio<=1.43.0,>=1.28.1 in c:\\users\\chath\\anaconda3\\lib\\site-packages (from ray) (1.42.0)\n",
      "Requirement already satisfied: colorama in c:\\users\\chath\\anaconda3\\lib\\site-packages (from click<=8.0.4,>=7.0->ray) (0.4.4)\n",
      "Requirement already satisfied: six>=1.5.2 in c:\\users\\chath\\anaconda3\\lib\\site-packages (from grpcio<=1.43.0,>=1.28.1->ray) (1.16.0)\n",
      "Requirement already satisfied: pyrsistent!=0.17.0,!=0.17.1,!=0.17.2,>=0.14.0 in c:\\users\\chath\\anaconda3\\lib\\site-packages (from jsonschema->ray) (0.18.0)\n",
      "Requirement already satisfied: urllib3<1.27,>=1.21.1 in c:\\users\\chath\\anaconda3\\lib\\site-packages (from requests->ray) (1.26.9)\n",
      "Requirement already satisfied: charset-normalizer~=2.0.0 in c:\\users\\chath\\anaconda3\\lib\\site-packages (from requests->ray) (2.0.4)\n",
      "Requirement already satisfied: certifi>=2017.4.17 in c:\\users\\chath\\anaconda3\\lib\\site-packages (from requests->ray) (2021.10.8)\n",
      "Requirement already satisfied: idna<4,>=2.5 in c:\\users\\chath\\anaconda3\\lib\\site-packages (from requests->ray) (3.3)\n",
      "Collecting platformdirs<3,>=2\n",
      "  Using cached platformdirs-2.5.2-py3-none-any.whl (14 kB)\n",
      "Collecting distlib<1,>=0.3.1\n",
      "  Using cached distlib-0.3.4-py2.py3-none-any.whl (461 kB)\n",
      "Installing collected packages: platformdirs, distlib, virtualenv, ray\n",
      "Successfully installed distlib-0.3.4 platformdirs-2.5.2 ray-1.13.0 virtualenv-20.14.1\n"
     ]
    }
   ],
   "source": [
    "!pip install ray"
   ]
  },
  {
   "cell_type": "markdown",
   "metadata": {},
   "source": [
    "# 4.Python Graphs, Visualization"
   ]
  },
  {
   "cell_type": "markdown",
   "metadata": {},
   "source": [
    "## 4.1 `networkx` package\n",
    "Ref: https://networkx.org/documentation/stable/install.html\n",
    "\n",
    "NetworkX is a Python package for the creation, manipulation, and study of the structure, dynamics, and functions of complex networks."
   ]
  },
  {
   "cell_type": "code",
   "execution_count": 6,
   "metadata": {},
   "outputs": [
    {
     "name": "stdout",
     "output_type": "stream",
     "text": [
      "Requirement already satisfied: networkx in c:\\users\\chath\\anaconda3\\lib\\site-packages (2.7.1)\n"
     ]
    }
   ],
   "source": [
    "!pip install networkx"
   ]
  },
  {
   "cell_type": "markdown",
   "metadata": {},
   "source": [
    "**`networkx` Comparison**\n",
    "\n",
    "![networkx Comparison](imgs/networkx_comparison.png)"
   ]
  },
  {
   "cell_type": "markdown",
   "metadata": {},
   "source": [
    "## 4.2 `graphviz` package\n",
    "\n",
    "This package facilitates the creation and rendering of graph descriptions in the DOT language of the Graphviz graph drawing software (upstream repo) from Python.\n",
    "\n",
    "Some other libraries/functions (i.e. `PlantUML` local rendering requires java and `graphviz`)\n",
    "\n",
    "This is also useful for `tensorflow` model visualization function via `keras` library."
   ]
  },
  {
   "cell_type": "code",
   "execution_count": 7,
   "metadata": {},
   "outputs": [],
   "source": [
    "#!pip install graphviz"
   ]
  },
  {
   "cell_type": "markdown",
   "metadata": {},
   "source": [
    "## 4.3 `seaborn` package\n",
    "Ref: https://seaborn.pydata.org/\n",
    "\n",
    "Seaborn is a Python data visualization library based on matplotlib. It provides a high-level interface for drawing attractive and informative statistical graphics.\n",
    "\n",
    "> built on top of `matplotlib`\n",
    "\n",
    "![Seaborn Package](imgs/seaborn.png)"
   ]
  },
  {
   "cell_type": "code",
   "execution_count": 8,
   "metadata": {},
   "outputs": [
    {
     "name": "stdout",
     "output_type": "stream",
     "text": [
      "Requirement already satisfied: seaborn in c:\\users\\chath\\anaconda3\\lib\\site-packages (0.11.2)\n",
      "Requirement already satisfied: scipy>=1.0 in c:\\users\\chath\\anaconda3\\lib\\site-packages (from seaborn) (1.7.3)\n",
      "Requirement already satisfied: pandas>=0.23 in c:\\users\\chath\\anaconda3\\lib\\site-packages (from seaborn) (1.4.2)\n",
      "Requirement already satisfied: numpy>=1.15 in c:\\users\\chath\\anaconda3\\lib\\site-packages (from seaborn) (1.21.5)\n",
      "Requirement already satisfied: matplotlib>=2.2 in c:\\users\\chath\\anaconda3\\lib\\site-packages (from seaborn) (3.5.1)\n",
      "Requirement already satisfied: fonttools>=4.22.0 in c:\\users\\chath\\anaconda3\\lib\\site-packages (from matplotlib>=2.2->seaborn) (4.25.0)\n",
      "Requirement already satisfied: packaging>=20.0 in c:\\users\\chath\\anaconda3\\lib\\site-packages (from matplotlib>=2.2->seaborn) (21.3)\n",
      "Requirement already satisfied: pyparsing>=2.2.1 in c:\\users\\chath\\anaconda3\\lib\\site-packages (from matplotlib>=2.2->seaborn) (3.0.4)\n",
      "Requirement already satisfied: pillow>=6.2.0 in c:\\users\\chath\\anaconda3\\lib\\site-packages (from matplotlib>=2.2->seaborn) (9.0.1)\n",
      "Requirement already satisfied: python-dateutil>=2.7 in c:\\users\\chath\\anaconda3\\lib\\site-packages (from matplotlib>=2.2->seaborn) (2.8.2)\n",
      "Requirement already satisfied: cycler>=0.10 in c:\\users\\chath\\anaconda3\\lib\\site-packages (from matplotlib>=2.2->seaborn) (0.11.0)\n",
      "Requirement already satisfied: kiwisolver>=1.0.1 in c:\\users\\chath\\anaconda3\\lib\\site-packages (from matplotlib>=2.2->seaborn) (1.3.2)\n",
      "Requirement already satisfied: pytz>=2020.1 in c:\\users\\chath\\anaconda3\\lib\\site-packages (from pandas>=0.23->seaborn) (2021.3)\n",
      "Requirement already satisfied: six>=1.5 in c:\\users\\chath\\anaconda3\\lib\\site-packages (from python-dateutil>=2.7->matplotlib>=2.2->seaborn) (1.16.0)\n"
     ]
    }
   ],
   "source": [
    "!pip install seaborn"
   ]
  },
  {
   "cell_type": "markdown",
   "metadata": {},
   "source": [
    "# 5.Python Formatting"
   ]
  },
  {
   "cell_type": "code",
   "execution_count": 9,
   "metadata": {},
   "outputs": [
    {
     "name": "stdout",
     "output_type": "stream",
     "text": [
      "Collecting rich\n",
      "  Using cached rich-12.4.4-py3-none-any.whl (232 kB)\n",
      "Requirement already satisfied: pygments<3.0.0,>=2.6.0 in c:\\users\\chath\\anaconda3\\lib\\site-packages (from rich) (2.11.2)\n",
      "Collecting commonmark<0.10.0,>=0.9.0\n",
      "  Using cached commonmark-0.9.1-py2.py3-none-any.whl (51 kB)\n",
      "Installing collected packages: commonmark, rich\n",
      "Successfully installed commonmark-0.9.1 rich-12.4.4\n"
     ]
    }
   ],
   "source": [
    "# Add colors to output window during print(), etc\n",
    "!pip install rich"
   ]
  },
  {
   "cell_type": "markdown",
   "metadata": {},
   "source": [
    "# 6.Python Automation"
   ]
  },
  {
   "cell_type": "markdown",
   "metadata": {},
   "source": [
    "## 6.1 `pyautogui` package\n",
    "\n",
    "Automate GUI actions."
   ]
  },
  {
   "cell_type": "code",
   "execution_count": 10,
   "metadata": {},
   "outputs": [
    {
     "name": "stdout",
     "output_type": "stream",
     "text": [
      "Collecting pyautogui\n",
      "  Using cached PyAutoGUI-0.9.53-py3-none-any.whl\n",
      "Collecting pygetwindow>=0.0.5\n",
      "  Using cached PyGetWindow-0.0.9-py3-none-any.whl\n",
      "Collecting pyscreeze>=0.1.21\n",
      "  Using cached PyScreeze-0.1.28-py3-none-any.whl\n",
      "Collecting pymsgbox\n",
      "  Using cached PyMsgBox-1.0.9-py3-none-any.whl\n",
      "Collecting mouseinfo\n",
      "  Using cached MouseInfo-0.1.3-py3-none-any.whl\n",
      "Collecting PyTweening>=1.0.1\n",
      "  Using cached pytweening-1.0.4-py3-none-any.whl\n",
      "Collecting pyrect\n",
      "  Using cached PyRect-0.2.0-py2.py3-none-any.whl\n",
      "Collecting pyperclip\n",
      "  Using cached pyperclip-1.8.2-py3-none-any.whl\n",
      "Installing collected packages: pyrect, pyperclip, PyTweening, pyscreeze, pymsgbox, pygetwindow, mouseinfo, pyautogui\n",
      "Successfully installed PyTweening-1.0.4 mouseinfo-0.1.3 pyautogui-0.9.53 pygetwindow-0.0.9 pymsgbox-1.0.9 pyperclip-1.8.2 pyrect-0.2.0 pyscreeze-0.1.28\n"
     ]
    }
   ],
   "source": [
    "!pip install pyautogui"
   ]
  },
  {
   "cell_type": "markdown",
   "metadata": {},
   "source": [
    "# 7.IPython (Jupyter Notebook) Packages"
   ]
  },
  {
   "cell_type": "markdown",
   "metadata": {},
   "source": [
    "## 7.1 PlantUML for Jupyter"
   ]
  },
  {
   "cell_type": "code",
   "execution_count": 11,
   "metadata": {},
   "outputs": [
    {
     "name": "stdout",
     "output_type": "stream",
     "text": [
      "Collecting iplantuml\n",
      "  Using cached IPlantUML-0.1.1-py2.py3-none-any.whl\n",
      "Collecting plantweb\n",
      "  Using cached plantweb-1.2.1-py3-none-any.whl (20 kB)\n",
      "Requirement already satisfied: docutils in c:\\users\\chath\\anaconda3\\lib\\site-packages (from plantweb->iplantuml) (0.17.1)\n",
      "Requirement already satisfied: requests in c:\\users\\chath\\anaconda3\\lib\\site-packages (from plantweb->iplantuml) (2.27.1)\n",
      "Requirement already satisfied: six in c:\\users\\chath\\anaconda3\\lib\\site-packages (from plantweb->iplantuml) (1.16.0)\n",
      "Requirement already satisfied: idna<4,>=2.5 in c:\\users\\chath\\anaconda3\\lib\\site-packages (from requests->plantweb->iplantuml) (3.3)\n",
      "Requirement already satisfied: certifi>=2017.4.17 in c:\\users\\chath\\anaconda3\\lib\\site-packages (from requests->plantweb->iplantuml) (2021.10.8)\n",
      "Requirement already satisfied: charset-normalizer~=2.0.0 in c:\\users\\chath\\anaconda3\\lib\\site-packages (from requests->plantweb->iplantuml) (2.0.4)\n",
      "Requirement already satisfied: urllib3<1.27,>=1.21.1 in c:\\users\\chath\\anaconda3\\lib\\site-packages (from requests->plantweb->iplantuml) (1.26.9)\n",
      "Installing collected packages: plantweb, iplantuml\n",
      "Successfully installed iplantuml-0.1.1 plantweb-1.2.1\n"
     ]
    }
   ],
   "source": [
    "!pip install iplantuml"
   ]
  },
  {
   "cell_type": "markdown",
   "metadata": {},
   "source": [
    "# 8.(Optional) Python Libraries"
   ]
  },
  {
   "cell_type": "markdown",
   "metadata": {},
   "source": [
    "## 8.1 `youtube-dl` package"
   ]
  },
  {
   "cell_type": "code",
   "execution_count": 12,
   "metadata": {},
   "outputs": [],
   "source": [
    "#!sudo apt-get install mpv youtube-dl"
   ]
  },
  {
   "cell_type": "markdown",
   "metadata": {},
   "source": [
    "TODO: Other libraries to study:\n",
    "\n",
    "- scapy (web crawler)\n",
    "- beautiful soap (web scrapping)"
   ]
  },
  {
   "cell_type": "markdown",
   "metadata": {},
   "source": []
  }
 ],
 "metadata": {
  "kernelspec": {
   "display_name": "Python 3.9.12 ('base')",
   "language": "python",
   "name": "python3"
  },
  "language_info": {
   "codemirror_mode": {
    "name": "ipython",
    "version": 3
   },
   "file_extension": ".py",
   "mimetype": "text/x-python",
   "name": "python",
   "nbconvert_exporter": "python",
   "pygments_lexer": "ipython3",
   "version": "3.9.12"
  },
  "orig_nbformat": 4,
  "vscode": {
   "interpreter": {
    "hash": "9080d0d9e876040599225a99b678a70781bb2b706bedc1f7d8bf7d473d9175b9"
   }
  }
 },
 "nbformat": 4,
 "nbformat_minor": 2
}

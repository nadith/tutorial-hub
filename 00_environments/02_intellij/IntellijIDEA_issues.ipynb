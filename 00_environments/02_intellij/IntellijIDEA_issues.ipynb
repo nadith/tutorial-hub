{
 "cells": [
  {
   "cell_type": "markdown",
   "source": [
    "## IntelliJ Idea Issue:\n",
    "\n",
    "**During imports,**\n",
    "\n",
    "    from torch import nn\n",
    "\n",
    "    # intelli-sense will not pick up Flattern class defined in torch.nn.modules.flattern\n",
    "\n",
    "    nn.Flatten()\n",
    "\n",
    "**Solution 1:**\n",
    "\n",
    "    from torch.nn import module as nn\n",
    "\n",
    "**Solution 2:**\n",
    "\n",
    "    import torch.nn as nn"
   ],
   "metadata": {
    "collapsed": false
   }
  }
 ],
 "metadata": {
  "kernelspec": {
   "display_name": "Python 3",
   "language": "python",
   "name": "python3"
  },
  "language_info": {
   "codemirror_mode": {
    "name": "ipython",
    "version": 2
   },
   "file_extension": ".py",
   "mimetype": "text/x-python",
   "name": "python",
   "nbconvert_exporter": "python",
   "pygments_lexer": "ipython2",
   "version": "2.7.6"
  }
 },
 "nbformat": 4,
 "nbformat_minor": 0
}
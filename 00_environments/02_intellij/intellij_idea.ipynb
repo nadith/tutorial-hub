{
 "cells": [
  {
   "cell_type": "markdown",
   "metadata": {
    "collapsed": true,
    "pycharm": {
     "name": "#%% md\n"
    }
   },
   "source": [
    "# Intellij Idea 2019.3\n",
    "# General Overview of the Interface\n",
    "[link1](https://youtu.be/IGgED_ihY5c)\n",
    "\n",
    "## Projects and modules overview\n",
    "- Project is a container of modules. Project defines settings that can  be shared across multiple modules. \n",
    "\n",
    "- Modules are independent entities. They define their own settings as well. May override project setting.\n",
    "Module may depend on another module\n",
    "\n",
    "- Module contain 1 or many **content roots** (where store all your source codes)\n",
    "\n",
    "- Module dependencies (library, another module): \n",
    "        Project Structure -> <module> -> dependencies"
   ]
  },
  {
   "cell_type": "markdown",
   "source": [
    "## Shortcuts\n",
    "#### Ctrl + TAB : Switcher Window\n",
    "\n",
    "#### Alt + \n",
    "- 2 : Project window\n",
    "- 3 : Favorites\n",
    "- \n",
    "- 6 : TODO\n",
    "- 7 : Structure\n",
    "- 8 : Services\n",
    "- 9 : Version control\n",
    "\n",
    "### Custom Commands\n",
    "\n",
    "#### Ctrl + Alt +\n",
    "- ~ : git gui on nnf\n",
    "- 1 : git gui on  \n",
    "- 2 : git gui on  "
   ],
   "metadata": {
    "collapsed": false
   }
  }
 ],
 "metadata": {
  "kernelspec": {
   "display_name": "Python 3",
   "language": "python",
   "name": "python3"
  },
  "language_info": {
   "codemirror_mode": {
    "name": "ipython",
    "version": 2
   },
   "file_extension": ".py",
   "mimetype": "text/x-python",
   "name": "python",
   "nbconvert_exporter": "python",
   "pygments_lexer": "ipython2",
   "version": "2.7.6"
  },
  "pycharm": {
   "stem_cell": {
    "cell_type": "raw",
    "source": [],
    "metadata": {
     "collapsed": false
    }
   }
  }
 },
 "nbformat": 4,
 "nbformat_minor": 0
}
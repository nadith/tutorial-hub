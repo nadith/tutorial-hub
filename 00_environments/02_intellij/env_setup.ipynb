{
 "cells": [
  {
   "cell_type": "markdown",
   "source": [
    "## wget\n",
    "\n",
    "Download wget\n",
    "\n",
    "https://eternallybored.org/misc/wget/\n",
    "\n",
    "Set environment path to wget download folder\n",
    "\n",
    "## Installing TensorRT\n",
    "\n",
    "https://docs.nvidia.com/deeplearning/tensorrt/quick-start-guide/index.html#install\n",
    "\n",
    "pip install --upgrade setuptools pip\n",
    "\n",
    "pip install nvidia-pyindex\n",
    "\n",
    "pip install nvidia-tensorrt\n",
    "\n",
    "\n",
    "## Installing TensorFlow\n",
    "\n",
    "pip install tensorflow\n",
    "\n",
    "## Installing PyTorch\n",
    "\n",
    "pip3 install torch==1.9.0+cu111 torchvision==0.10.0+cu111 torchaudio===0.9.0 -f https://download.pytorch.org/whl/torch_stable.html\n",
    "\n",
    "\n",
    "# pip installs\n",
    "\n",
    "pip3 install opencv-python"
   ],
   "metadata": {
    "collapsed": false,
    "pycharm": {
     "name": "#%% md\n"
    }
   }
  },
  {
   "cell_type": "markdown",
   "metadata": {
    "collapsed": true,
    "pycharm": {
     "name": "#%% md\n"
    }
   },
   "source": [
    "# Jupyter Environment Setup\n",
    "\n",
    "## Latex Equation Auto Numbering\n",
    "\n",
    "For equation numbering, you need to add jupyter_contib_nbextensions to Jupyter Notebook (not Jupyter Lab) "
   ]
  },
  {
   "cell_type": "code",
   "execution_count": null,
   "outputs": [],
   "source": [
    "!pip install jupyter_contrib_nbextensions\n",
    "!jupyter contrib nbextension install --user"
   ],
   "metadata": {
    "collapsed": false,
    "pycharm": {
     "name": "#%%\n"
    }
   }
  },
  {
   "cell_type": "code",
   "execution_count": null,
   "outputs": [],
   "source": [
    "# or \n",
    "!conda install -c conda-forge jupyter_contrib_nbextension"
   ],
   "metadata": {
    "collapsed": false,
    "pycharm": {
     "name": "#%%\n"
    }
   }
  },
  {
   "cell_type": "code",
   "execution_count": null,
   "outputs": [],
   "source": [
    "!jupyter nbextension enable varInspector/main"
   ],
   "metadata": {
    "collapsed": false,
    "pycharm": {
     "name": "#%%\n"
    }
   }
  },
  {
   "cell_type": "markdown",
   "source": [
    "after this you will see \"Vaildating: ok\" Now you can open jupyter notebook you will see the require changes"
   ],
   "metadata": {
    "collapsed": false,
    "pycharm": {
     "name": "#%% md\n"
    }
   }
  },
  {
   "cell_type": "markdown",
   "source": [
    "**Activation**\n",
    "\n",
    "Equation numbering is activated this way:\n",
    "\n",
    "    MathJax.Hub.Config({\n",
    "        TeX: { equationNumbers: { autoNumber: \"AMS\" } }\n",
    "    });\n",
    "    \n",
    "Equation numbers are reset and math equations rerendered using this code:\n",
    "\n",
    "    MathJax.Hub.Queue(\n",
    "      [\"resetEquationNumbers\", MathJax.InputJax.TeX],\n",
    "      [\"PreProcess\", MathJax.Hub],\n",
    "      [\"Reprocess\", MathJax.Hub]\n",
    "    );\n"
   ],
   "metadata": {
    "collapsed": false,
    "pycharm": {
     "name": "#%% md\n",
     "is_executing": false
    }
   }
  },
  {
   "cell_type": "markdown",
   "source": [
    "# IntelliJ Plugins\n",
    "\n",
    "## LaTeX and BibTeX Support\n",
    "\n",
    "https://plugins.jetbrains.com/plugin/9473-texify-idea\n",
    "\n",
    "## Color Highlighter\n",
    "\n",
    "This plugin highlights colors (color codes) in editors in order to make them more stand out. \n",
    "\n",
    "https://plugins.jetbrains.com/plugin/13309-color-highlighter\n",
    "\n",
    "## MultiHighlight\n",
    "\n",
    "Highlight identifiers with custom colors (like \"Highlight Usages in File\").\n",
    "\n",
    "You can customize your highlight text style, it's helpful when reading source code.\n",
    "\n",
    "https://plugins.jetbrains.com/plugin/9511-multihighlight\n",
    "\n",
    "## Ace Jump\n",
    "\n",
    "AceJump allows you to quickly navigate the caret to any position visible in the editor. See a demo of AceJump in \n",
    "action! Simply hit \"ctrl+;\", type a character, then type the matching character to Ace Jump.\n",
    "\n",
    "https://plugins.jetbrains.com/plugin/7086-acejump\n",
    "\n",
    "\n",
    "## Open CV Image Viewer\n",
    "\n",
    "\n",
    "## VS Code\n",
    "https://marp.app/\n",
    "https://stymied.medium.com/what-slides-from-markdown-5239ed31e7ac\n",
    "\n",
    "Markdown to Presentation\n",
    "\n",
    "\n",
    "## Atom Material Icons\n",
    "https://plugins.jetbrains.com/plugin/10044-atom-material-icons\n",
    "\n",
    "## Material Theme UI Lite (free version)\n"
   ],
   "metadata": {
    "collapsed": false,
    "pycharm": {
     "name": "#%% md\n"
    }
   }
  },
  {
   "cell_type": "markdown",
   "source": [
    "## Graphviz for model visualization with keras"
   ],
   "metadata": {
    "collapsed": false
   }
  },
  {
   "cell_type": "code",
   "execution_count": null,
   "outputs": [],
   "source": [
    "pip install pydot\n",
    "\n",
    "# install graphviz for windows\n",
    "# set the environment path to graphviz/bin\n"
   ],
   "metadata": {
    "collapsed": false,
    "pycharm": {
     "name": "#%%\n"
    }
   }
  },
  {
   "cell_type": "markdown",
   "source": [
    "Issue: No module named click._bashcomplete\n",
    "(fast ai needs this for tensorboardcallback imports)\n",
    "\n",
    "Ref: https://stackoverflow.com/questions/67987569/jupyter-notebook-python-error-while-importing-spacy-no-module-named-click-bas\n",
    "\n",
    "pip install -U spacy"
   ],
   "metadata": {
    "collapsed": false
   }
  },
  {
   "cell_type": "markdown",
   "source": [
    "Issue: No module named click._bashcomplete\n",
    "(fast ai needs this for tensorboardcallback imports)\n",
    "\n",
    "Ref: https://stackoverflow.com/questions/67987569/jupyter-notebook-python-error-while-importing-spacy-no-module-named-click-bas\n",
    "\n",
    "pip install -U spacy"
   ],
   "metadata": {
    "collapsed": false,
    "pycharm": {
     "name": "#%% md\n"
    }
   }
  },
  {
   "cell_type": "code",
   "execution_count": null,
   "outputs": [],
   "source": [
    "pip install pydot\n",
    "\n",
    "# install graphviz for windows\n",
    "# set the environment path to graphviz/bin\n"
   ],
   "metadata": {
    "collapsed": false,
    "pycharm": {
     "name": "#%%\n"
    }
   }
  },
  {
   "cell_type": "markdown",
   "source": [
    "Issue: No module named click._bashcomplete\n",
    "(fast ai needs this for tensorboardcallback imports)\n",
    "\n",
    "Ref: https://stackoverflow.com/questions/67987569/jupyter-notebook-python-error-while-importing-spacy-no-module-named-click-bas\n",
    "\n",
    "pip install -U spacy\n"
   ],
   "metadata": {
    "collapsed": false,
    "pycharm": {
     "name": "#%% md\n"
    }
   }
  },
  {
   "cell_type": "markdown",
   "source": [
    "# Install Matlab Engine\n",
    "\n",
    "Ref: https://au.mathworks.com/help/matlab/matlab_external/install-the-matlab-engine-for-python.html\n",
    "\n",
    "Python - Matlab Version Compatibility\n",
    "https://www.mathworks.com/content/dam/mathworks/mathworks-dot-com/support/sysreq/files/python-compatibility.pdf\n",
    "\n",
    "Find the path to the MATLAB folder. Start MATLAB and type matlabroot in the command window. Copy the path returned by matlabroot.\n",
    "\n",
    "At a Windows operating system prompt (you might need administrator privileges to execute these commands) —\n",
    "\n",
    "cd \"matlabroot\\extern\\engines\\python\"\n",
    "\n",
    "python setup.py install"
   ],
   "metadata": {
    "collapsed": false,
    "pycharm": {
     "name": "#%% md\n"
    }
   }
  }
 ],
 "metadata": {
  "kernelspec": {
   "display_name": "Python 3",
   "language": "python",
   "name": "python3"
  },
  "language_info": {
   "codemirror_mode": {
    "name": "ipython",
    "version": 2
   },
   "file_extension": ".py",
   "mimetype": "text/x-python",
   "name": "python",
   "nbconvert_exporter": "python",
   "pygments_lexer": "ipython2",
   "version": "2.7.6"
  }
 },
 "nbformat": 4,
 "nbformat_minor": 0
}
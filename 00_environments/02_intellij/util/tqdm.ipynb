{
 "cells": [
  {
   "cell_type": "markdown",
   "metadata": {
    "collapsed": true,
    "pycharm": {
     "name": "#%% md\n"
    }
   },
   "source": [
    "# Terminal progress bar using tqdm\n",
    "\n",
    "https://www.geeksforgeeks.org/python-how-to-make-a-terminal-progress-bar-using-tqdm/\n"
   ]
  },
  {
   "cell_type": "code",
   "execution_count": 4,
   "outputs": [
    {
     "name": "stderr",
     "text": [
      "100%|██████████| 9000000/9000000 [00:03<00:00, 2763558.29it/s]\n"
     ],
     "output_type": "stream"
    }
   ],
   "source": [
    "from tqdm import tqdm\n",
    "    \n",
    "for i in tqdm(range(int(9e6))):\n",
    "    pass"
   ],
   "metadata": {
    "collapsed": false,
    "pycharm": {
     "name": "#%%\n",
     "is_executing": false
    }
   }
  },
  {
   "cell_type": "markdown",
   "source": [
    "**desc:** You can use this parameter to specify the description of your progress bar as follows:"
   ],
   "metadata": {
    "collapsed": false,
    "pycharm": {
     "name": "#%% md\n",
     "is_executing": false
    }
   }
  },
  {
   "cell_type": "code",
   "execution_count": 2,
   "outputs": [
    {
     "name": "stderr",
     "output_type": "stream",
     "text": [
      "Text You Want: 200it [00:21,  9.22it/s]\n"
     ]
    }
   ],
   "source": [
    "from tqdm import tqdm\n",
    "from time import sleep\n",
    "    \n",
    "for i in tqdm(range(0, 200), desc =\"Text You Want\"):\n",
    "    sleep(.1)\n",
    "\n",
    "for i in tqdm(enumerate(range(0, 200)), desc =\"Text You Want\"):\n",
    "    sleep(.1)"
   ],
   "metadata": {
    "collapsed": false,
    "pycharm": {
     "name": "#%%\n"
    }
   }
  },
  {
   "cell_type": "markdown",
   "source": [
    "**total:** This is used to specify the total number of expected iterations if not specified already or needs modification."
   ],
   "metadata": {
    "collapsed": false,
    "pycharm": {
     "name": "#%% md\n"
    }
   }
  },
  {
   "cell_type": "code",
   "execution_count": 5,
   "outputs": [
    {
     "name": "stderr",
     "output_type": "stream",
     "text": [
      "Text You Want:  20%|██        | 100/500 [00:10<00:43,  9.27it/s]\n"
     ]
    }
   ],
   "source": [
    "from tqdm import tqdm\n",
    "from time import sleep\n",
    "    \n",
    "for i in tqdm(range(0, 100), total = 500,\n",
    "              desc =\"Text You Want\"):\n",
    "    sleep(.1)\n",
    "    "
   ],
   "metadata": {
    "collapsed": false,
    "pycharm": {
     "name": "#%%\n"
    }
   }
  },
  {
   "cell_type": "markdown",
   "source": [
    "**ncols:** This parameter is used to specify the entire width of the output message. If left unspecified it remains \n",
    "dynamic to the size of the window. This can be fixed through the ncols parameter."
   ],
   "metadata": {
    "collapsed": false,
    "pycharm": {
     "name": "#%% md\n"
    }
   }
  },
  {
   "cell_type": "code",
   "execution_count": 7,
   "outputs": [
    {
     "name": "stderr",
     "text": [
      "Text You Want: 100%|██████████████████████████████████████████████| 100/100 [00:11<00:00,  8.96it/s]\n"
     ],
     "output_type": "stream"
    }
   ],
   "source": [
    "from tqdm import tqdm\n",
    "from time import sleep\n",
    "    \n",
    "for i in tqdm(range(0, 100), ncols = 100,\n",
    "               desc =\"Text You Want\"):\n",
    "    sleep(.1)"
   ],
   "metadata": {
    "collapsed": false,
    "pycharm": {
     "name": "#%%\n",
     "is_executing": false
    }
   }
  },
  {
   "cell_type": "markdown",
   "source": [
    "**mininterval:** You can easily change the minimum progress display update using this option. The default is \n",
    "to 0.1 seconds."
   ],
   "metadata": {
    "collapsed": false,
    "pycharm": {
     "name": "#%% md\n"
    }
   }
  },
  {
   "cell_type": "code",
   "execution_count": 3,
   "outputs": [
    {
     "name": "stderr",
     "output_type": "stream",
     "text": [
      "Text You Want: 100%|██████████| 100/100 [00:10<00:00,  9.24it/s]\n"
     ]
    }
   ],
   "source": [
    "from tqdm import tqdm\n",
    "from time import sleep\n",
    "  \n",
    "for i in tqdm(range(0, 100), mininterval = 5, \n",
    "              desc =\"Text You Want\"):\n",
    "    sleep(.1)\n",
    "    "
   ],
   "metadata": {
    "collapsed": false,
    "pycharm": {
     "name": "#%%\n"
    }
   }
  },
  {
   "cell_type": "markdown",
   "source": [
    "**initial:** The initial value of the progress bar starts from 0. If you wish to change this, you can use this \n",
    "parameter to initialize the progress bar from the value you wish"
   ],
   "metadata": {
    "collapsed": false,
    "pycharm": {
     "name": "#%% md\n"
    }
   }
  },
  {
   "cell_type": "code",
   "execution_count": 4,
   "outputs": [
    {
     "name": "stderr",
     "output_type": "stream",
     "text": [
      "Text You Want: 150it [00:10,  9.26it/s]                         \n"
     ]
    }
   ],
   "source": [
    "from tqdm import tqdm\n",
    "from time import sleep\n",
    "  \n",
    "for i in tqdm(range(0, 100), initial = 50, \n",
    "              desc =\"Text You Want\"):\n",
    "    sleep(.1)"
   ],
   "metadata": {
    "collapsed": false,
    "pycharm": {
     "name": "#%%\n"
    }
   }
  }
 ],
 "metadata": {
  "kernelspec": {
   "display_name": "Python 3",
   "language": "python",
   "name": "python3"
  },
  "language_info": {
   "codemirror_mode": {
    "name": "ipython",
    "version": 2
   },
   "file_extension": ".py",
   "mimetype": "text/x-python",
   "name": "python",
   "nbconvert_exporter": "python",
   "pygments_lexer": "ipython2",
   "version": "2.7.6"
  }
 },
 "nbformat": 4,
 "nbformat_minor": 0
}
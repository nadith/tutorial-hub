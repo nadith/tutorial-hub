{
 "cells": [
  {
   "cell_type": "code",
   "execution_count": 5,
   "metadata": {
    "collapsed": true,
    "pycharm": {
     "is_executing": false
    }
   },
   "outputs": [
    {
     "name": "stdout",
     "text": [
      " Language    Files    %     Code    %     Comment    %   \n",
      "\n",
      "-----------  -----  ------  ----  ------  -------  ------\n",
      "\n",
      "Python          91   80.53  9596  100.00    10685  100.00\n",
      "\n",
      "__unknown__      2    1.77     0    0.00        0    0.00\n",
      "\n",
      "__empty__       19   16.81     0    0.00        0    0.00\n",
      "\n",
      "__binary__       1    0.88     0    0.00        0    0.00\n",
      "\n",
      "-----------  -----  ------  ----  ------  -------  ------\n",
      "\n",
      "Sum total      113          9596            10685\n",
      "\n"
     ],
     "output_type": "stream"
    }
   ],
   "source": [
    "# !pygount --format=summary ./your-directory\n",
    "!pygount --format=summary \"E:\\dev\\dl\\python\\DLN\\nnf\""
   ]
  }
 ],
 "metadata": {
  "kernelspec": {
   "display_name": "Python 3",
   "language": "python",
   "name": "python3"
  },
  "language_info": {
   "codemirror_mode": {
    "name": "ipython",
    "version": 2
   },
   "file_extension": ".py",
   "mimetype": "text/x-python",
   "name": "python",
   "nbconvert_exporter": "python",
   "pygments_lexer": "ipython2",
   "version": "2.7.6"
  },
  "pycharm": {
   "stem_cell": {
    "cell_type": "raw",
    "source": [],
    "metadata": {
     "collapsed": false
    }
   }
  }
 },
 "nbformat": 4,
 "nbformat_minor": 0
}
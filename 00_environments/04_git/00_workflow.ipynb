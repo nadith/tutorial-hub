{
 "cells": [
  {
   "cell_type": "markdown",
   "metadata": {},
   "source": [
    "# Git Workflow\n",
    "\n",
    "[![Git 0 to Production](./imgs/git_workflow.PNG)](http://www.youtube.com/watch?v=NA4HAdBmfjE&t=2689s \"Git 0 to Production\")"
   ]
  },
  {
   "cell_type": "markdown",
   "metadata": {},
   "source": [
    "# Git for Professionals <span style=\"color:#00ffff\">(*must watch*)</span>\n",
    "\n",
    "[![Git for Professionals Tutorial](http://img.youtube.com/vi/Uszj_k0DGsg/0.jpg)](http://www.youtube.com/watch?v=Uszj_k0DGsg \"Git for Professionals Tutorial\")"
   ]
  },
  {
   "cell_type": "markdown",
   "metadata": {},
   "source": [
    "Workflow\n",
    "\n",
    "https://blog.osteele.com/2008/05/my-git-workflow/"
   ]
  },
  {
   "cell_type": "markdown",
   "metadata": {},
   "source": [
    "# Working with GitHub\n",
    "\n",
    "Following is the workflow for working with Git Hub."
   ]
  },
  {
   "cell_type": "markdown",
   "metadata": {},
   "source": [
    "## [01.Push repo to GitHub](https://www.digitalocean.com/community/tutorials/how-to-push-an-existing-project-to-github)\n",
    "\n",
    "* `git init`\n",
    "* `git add -A` or `git add *` // -A argument means \"include all\"\n",
    "* `git commit -m 'Added my project'`\n",
    "* `git remote add origin git@github.com:sammy/my-new-project.git`\n",
    "* `git push -u -f origin master` or `git push -f origin master`"
   ]
  },
  {
   "cell_type": "markdown",
   "metadata": {},
   "source": [
    "## 02.Fetch or Pull from GitHub\n",
    "\n",
    "* `git fetch` or `git fetch --all`\n",
    "* `git merge`\n",
    " \n",
    "or \n",
    "  \n",
    "* `git pull` = `fetch` & `merge`\n",
    "\n",
    "> `git fetch` is the command that tells the local repository that there are changes available in the remote repository without bringing the changes into the local repository. `git pull` on the other hand brings the copy of the remote directory changes into the local repository.\n",
    "\n",
    "Once pulled, can perform changes locally and push it to the main repo\n",
    "\n",
    "if need to delete the refs to branches that don't exist on the remote. This is highly desirable when working in a team workflow in which remote branches are deleted after merge to main. The second command, `git fetch --prune` will connect to the remote and fetch the latest remote state before pruning. It is essentially a combination of commands:\n",
    "\n",
    "`git fetch --prune` = `git fetch --all && git remote prune`"
   ]
  },
  {
   "cell_type": "markdown",
   "metadata": {},
   "source": [
    "## 03.SSH into GitHub\n",
    "\n",
    "[![SSH into GitHub](http://img.youtube.com/vi/s6KTbytdNgs/0.jpg)](http://www.youtube.com/watch?v=YOUTUBE_VIDEO_ID_HERE \"SSH into GitHub\")"
   ]
  },
  {
   "cell_type": "markdown",
   "metadata": {},
   "source": [
    "### GitHub SSH key generation\n",
    "\n",
    "One sure fire way to guarantee you’ll see GitHub’s Permission denied (`publickey`) error is if you don’t have any SSH keys at all.\n",
    "\n",
    "Check for the `.ssh` folder under the user’s home directory. Regardless of whether you run on Windows or Linux, there should be a public and private key file in this folder. If it is empty, you’ll need to create an SSH `keypair` and then register the public key in GitHub\n",
    "\n",
    "    C:\\fix\\permission\\denied> ssh-keygen -o -t rsa -C \"ssh-keygen@mcnz.com\" \n",
    "\n",
    "or\n",
    "\n",
    "    C:\\fix\\permission\\denied> ssh-keygen\n",
    "\n",
    "Once the GitHub SSH keys are created, copy the value of the public key and configure it in your GitHub account settings. Then attempt to SSH to GitHub again.\n",
    "\n",
    "It’s always frustrating when you encounter an error, especially when it’s your first time connecting to a remote resource. Fortunately, if you’ve hit GitHub’s Permission denied (`publickey`) SSH error, follow one of the three resolutions suggested above and that should fix the problem."
   ]
  },
  {
   "cell_type": "markdown",
   "metadata": {},
   "source": [
    "#### `ssh-keygen` in Windows 10\n",
    "\n",
    "https://phoenixnap.com/kb/generate-ssh-key-windows-10\n",
    "\n",
    "![](./imgs/windows10_open-ssh.png)\n",
    "\n",
    "Once installed:\n",
    "\n",
    "Step 02: Open Command Prompt\n",
    "\n",
    "1. Press the Windows key.\n",
    "2. Type cmd.\n",
    "3. Under Best Match, right-click Command Prompt.\n",
    "4. Click **Run as Administrator.**\n",
    "\n",
    "Step 03: Use OpenSSH to Generate an SSH Key Pair\n",
    "1. In the command prompt, type the following:\n",
    "\n",
    "`ssh-keygen` or `ssh-keygen --help` for options \n",
    "\n",
    "![](./imgs/windows10_gen-key.png)\n",
    "\n",
    "2. By default, the system will save the keys to C:\\Users\\your_username/.ssh/id_rsa. You can use the default name, or you can choose more descriptive names. This can help distinguish between keys, if you are using multiple key pairs. To stick to the default option, press Enter.\n",
    "\n",
    "3. You’ll be asked to enter a passphrase. Hit Enter to skip this step.\n",
    "\n",
    "4. The system will generate the key pair, and display the key fingerprint and a randomart image.\n",
    "\n",
    "5. Open your file browser.\n",
    "\n",
    "6. Navigate to C:\\Users\\your_username/.ssh.\n",
    "\n",
    "7. You should see two files. The identification is saved in the id_rsa file and the public key is labeled id_rsa.pub. This is your SSH key pair.\n",
    "\n",
    "![](./imgs/windows10_ssh-key.png)\n",
    "\n",
    "\n",
    "##### Why passphrase?\n",
    "\n",
    "SSH uses private/public key pairs to protect your communication with the server. SSH passphrases protect your private key from being used by someone who doesn't know the passphrase. Without a passphrase, anyone who gains access to your computer has the potential to copy your private key.\n"
   ]
  },
  {
   "cell_type": "markdown",
   "metadata": {},
   "source": [
    "### GitHub SSH configuration\n",
    "\n",
    "Your public SSH key must be registered in your account setting in order to avoid GitHub’s Permission denied (`publickey`) SSH error.\n",
    "\n",
    "Confirm that your public key has been configured correctly by checking the SSH and GPG link in your account settings. If no keys are listed, add your public key and try to connect to GitHub over SSH again. The error should go away.\n",
    "\n",
    "![](./imgs/git_workflow_github-ssh-key-config.jpg)"
   ]
  },
  {
   "cell_type": "markdown",
   "metadata": {},
   "source": [
    "## 04.GitHub Pull Request *(send changes to original repo)*\n",
    "\n",
    "<span style=\"color:#ff7171\">This is not a core git feature.</span> This is provided by the git hosting platform. The pull request mechanisms could differ from GitHub to BitBucket to GitLab to etc.\n",
    "\n",
    "[![Github pull requests](./imgs/github_pull_requests.PNG)](https://youtu.be/Uszj_k0DGsg?t=1036 \"Github pull requests\")"
   ]
  }
 ],
 "metadata": {
  "kernelspec": {
   "display_name": "Python 3.9.12 ('base')",
   "language": "python",
   "name": "python3"
  },
  "language_info": {
   "codemirror_mode": {
    "name": "ipython",
    "version": 3
   },
   "file_extension": ".py",
   "mimetype": "text/x-python",
   "name": "python",
   "nbconvert_exporter": "python",
   "pygments_lexer": "ipython3",
   "version": "3.9.12"
  },
  "orig_nbformat": 4,
  "vscode": {
   "interpreter": {
    "hash": "9080d0d9e876040599225a99b678a70781bb2b706bedc1f7d8bf7d473d9175b9"
   }
  }
 },
 "nbformat": 4,
 "nbformat_minor": 2
}

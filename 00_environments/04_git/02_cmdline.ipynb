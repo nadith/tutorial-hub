{
 "cells": [
  {
   "cell_type": "markdown",
   "metadata": {},
   "source": [
    "# `git log`\n",
    "\n",
    "Check the history."
   ]
  },
  {
   "cell_type": "markdown",
   "metadata": {},
   "source": [
    "# `git status`\n",
    "\n",
    "Check the current status of git (staged, unstaged, untracked files, `HEAD` at or detached)\n",
    "\n",
    "`detach_head` : checkout a commit (not a branch) will detach the `HEAD`"
   ]
  },
  {
   "cell_type": "markdown",
   "metadata": {},
   "source": [
    "# `git checkout`\n",
    "\n",
    "`git checkout -b temporary-branch` will checkout the current branch to a new branch called `temporary-branch`.\n",
    "\n",
    "This is particularly important when checkout a remote branch"
   ]
  },
  {
   "cell_type": "markdown",
   "metadata": {},
   "source": [
    "# `git switch`\n",
    "\n",
    "To switch from one branch to another"
   ]
  },
  {
   "cell_type": "markdown",
   "metadata": {},
   "source": [
    "# `git stash` ??"
   ]
  },
  {
   "cell_type": "markdown",
   "metadata": {},
   "source": [
    "# [`git fetch --prune`](https://www.atlassian.com/git/tutorials/git-prune)\n",
    "\n",
    "## What’s the Difference Between Git Prune, Git Fetch --prune, and Git Remote Prune?\n",
    "\n",
    "`git remote prune` and `git fetch --prune` do the same thing: delete the refs to branches that don't exist on the remote. This is highly desirable when working in a team workflow in which remote branches are deleted after merge to main. The second command, `git fetch --prune` will connect to the remote and fetch the latest remote state before pruning. It is essentially a combination of commands:\n",
    "\n",
    "`git fetch --all && git remote prune`\n",
    "\n",
    "The generic `git prune` command is entirely different. As discussed in the overview section, `git prune` will delete locally detached commits.\n",
    "\n",
    "## How Do I Clean Outdated Branches?\n",
    "\n",
    "`git fetch --prune` is the best utility for cleaning outdated branches. It will connect to a shared remote repository remote and fetch all remote branch refs. It will then delete remote refs that are no longer in use on the remote repository.\n",
    "\n",
    "## Does Git Remote Prune Origin Delete the Local Branch?\n",
    "\n",
    "No `git remote prune origin` will only delete the refs to remote branches that no longer exist. Git stores both local and remote refs. A repository will have `local/origin` and `remote/origin` ref collections. `git remote prune origin` will only prune the refs in ``remote/origin``. This safely leaves local work in local/origin.\n",
    "\n",
    "## Git Prune Summary\n",
    "\n",
    "The `git prune` command is intended to be invoked as a child command to `git gc`. It is highly unlikely you will ever need to invoke `git prune` in a day to day software engineering capacity. Other commands are needed to understand the effects of `git prune`. Some commands used in this article were git log, `git reflog`, and `git checkout`."
   ]
  },
  {
   "cell_type": "markdown",
   "metadata": {},
   "source": [
    "# 13 Advanced (but useful) Git Techniques and Shortcuts\n",
    "\n",
    "[![Git Techniques and Shortcuts](http://img.youtube.com/vi/ecK3EnyGD8o/0.jpg)](http://www.youtube.com/watch?v=ecK3EnyGD8o \"Git Techniques and Shortcuts\")"
   ]
  },
  {
   "cell_type": "markdown",
   "metadata": {},
   "source": [
    "# Advanced git\n",
    "\n",
    "[![Advanced git](http://img.youtube.com/vi/qsTthZi23VE/0.jpg)](http://www.youtube.com/watch?v=qsTthZi23VE \"Advanced git\")"
   ]
  },
  {
   "cell_type": "markdown",
   "metadata": {},
   "source": [
    "# Random Questions"
   ]
  },
  {
   "cell_type": "markdown",
   "metadata": {},
   "source": [
    "## 01.Remove a file or folder from git index (stop tracking)?\n",
    "\n",
    "`git rm --cached <filename>`\n",
    "\n",
    "`git rm -r --cached <folder>`\n",
    "\n",
    "* This will add delete `<filename>` as a new commit\n",
    "* Deleted `<filename>` will be added to untracked area\n",
    "\n"
   ]
  },
  {
   "cell_type": "markdown",
   "metadata": {},
   "source": [
    "## [02.What happen if I put staged or committed files to .gitignore?](https://stackoverflow.com/questions/34481439/what-happen-if-i-put-staged-or-committed-files-to-gitignore)\n",
    "\n",
    "You cannot ignore a file from the staging area by simply adding it to .gitignore.\n",
    "\n",
    "Adding a file to `.gitignore` \"ensure that certain files not tracked by Git remain untracked\". You should first `git rm --cached` the files you want to ignore:\n",
    "\n",
    "`git rm --cached file`\n",
    "\n",
    "Then they'll be \"considered\" in the `.gitignore` See the Ignoring files:\n",
    "\n",
    "If you already have a file checked in, and you want to ignore it, Git will not ignore the file if you add a rule later. In those cases, you must untrack the file first, by running the following command in your terminal."
   ]
  },
  {
   "cell_type": "markdown",
   "metadata": {},
   "source": [
    "### Example\n",
    "\n",
    "The series of commands below will remove all of the items from the Git index (not from the working directory or local repository), and then will update the Git index, while respecting Git ignores. PS. `Index = Cache`\n",
    "\n",
    "**First**\n",
    "\n",
    "    git rm -r --cached .\n",
    "    git add .\n",
    "\n",
    "**Then**\n",
    "\n",
    "    git commit -am \"Remove ignored files\""
   ]
  }
 ],
 "metadata": {
  "kernelspec": {
   "display_name": "Python 3.9.12 ('base')",
   "language": "python",
   "name": "python3"
  },
  "language_info": {
   "name": "python",
   "version": "3.9.12"
  },
  "orig_nbformat": 4,
  "vscode": {
   "interpreter": {
    "hash": "9080d0d9e876040599225a99b678a70781bb2b706bedc1f7d8bf7d473d9175b9"
   }
  }
 },
 "nbformat": 4,
 "nbformat_minor": 2
}

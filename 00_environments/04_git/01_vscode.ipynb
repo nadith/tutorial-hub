{
 "cells": [
  {
   "cell_type": "markdown",
   "metadata": {},
   "source": []
  },
  {
   "cell_type": "markdown",
   "metadata": {},
   "source": [
    "## [Using Git with Visual Studio Code (Official Beginner Tutorial)](https://www.youtube.com/watch?v=i_23KUAEtUM)\n",
    "\n"
   ]
  },
  {
   "cell_type": "markdown",
   "metadata": {},
   "source": [
    "## Amending a Commit"
   ]
  },
  {
   "cell_type": "markdown",
   "metadata": {},
   "source": [
    "### [Method 01](https://www.youtube.com/watch?v=tXZc6-fH2pg)\n",
    "\n",
    "* You must have at least one file staged  \n",
    "* Enter a message\n",
    "* Click on `...` and press `Commit Staged (Amend)`\n",
    "* Last commit will be changed to the message entered + the staged file will be included\n",
    "\n",
    "![Git Amend Method 01](imgs/git_amend.PNG)"
   ]
  },
  {
   "cell_type": "markdown",
   "metadata": {},
   "source": [
    "### Method 02\n",
    "\n",
    "Use git rebase command in VS Code"
   ]
  }
 ],
 "metadata": {
  "language_info": {
   "name": "python"
  },
  "orig_nbformat": 4
 },
 "nbformat": 4,
 "nbformat_minor": 2
}

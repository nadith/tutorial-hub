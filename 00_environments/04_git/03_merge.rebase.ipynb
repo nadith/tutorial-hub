{
 "cells": [
  {
   "cell_type": "markdown",
   "metadata": {},
   "source": [
    "# [`Git Rebase`](https://www.atlassian.com/git/tutorials/rewriting-history/git-rebase#:~:text=What%20is%20git%20rebase%3F,of%20a%20feature%20branching%20workflow.)"
   ]
  },
  {
   "cell_type": "markdown",
   "metadata": {},
   "source": [
    "## Git rebase in standard mode \n",
    "\n",
    "will automatically take the commits in your current working branch and apply them to the head of the passed branch.\n",
    "\n",
    "`git rebase <base>`\n",
    "\n",
    "This automatically rebases the current branch onto , which can be any kind of commit reference (for example an ID, a branch name, a tag, or a relative reference to HEAD)."
   ]
  },
  {
   "cell_type": "markdown",
   "metadata": {},
   "source": [
    "## Git rebase interactive\n",
    "\n",
    "Running git rebase with the -i flag begins an interactive rebasing session. Instead of blindly moving all of the commits to the new base, interactive rebasing gives you the opportunity to alter individual commits in the process. This lets you clean up history by removing, splitting, and altering an existing series of commits. It's like Git `commit --amend` on steroids.\n",
    "\n",
    "`git rebase --interactive <base>`\n",
    "\n",
    "This rebases the current branch onto  but uses an interactive rebasing session. This opens an editor where you can enter commands (described below) for each commit to be rebased. These commands determine how individual commits will be transferred to the new base. You can also reorder the commit listing to change the order of the commits themselves. Once you've specified commands for each commit in the rebase, Git will begin playing back commits applying the rebase commands. "
   ]
  },
  {
   "cell_type": "markdown",
   "metadata": {},
   "source": [
    "## Advanced Rebase Application\n",
    "\n",
    "The command line argument `--onto` can be passed to git rebase. When in `git rebase --onto` mode the command expands to:\n",
    "\n",
    "`git rebase --onto <newbase> <oldbase>`\n",
    "\n",
    "The `--onto` command **enables a more powerful** form or rebase that allows passing specific refs to be the tips of a rebase.\n",
    "Let’s say we have an example repo with branches like:\n",
    "\n",
    "![](./imgs/git_rebase1.PNG)\n",
    "\n",
    "`featureB` is based on `featureA`, however, we realize `featureB` is not dependent on any of the changes in `featureA` and could just be branched off main.\n",
    "\n",
    "<span style=\"color:#00ffff\">git rebase --onto main featureA featureB</span>\n",
    "\n",
    "`featureA` is the `<oldbase>`. `main` becomes the `<newbase>` and `featureB` is reference for what `HEAD` of the `<newbase>` will point to. The results are then:\n",
    "\n",
    "![](./imgs/git_rebase2.PNG)"
   ]
  },
  {
   "cell_type": "markdown",
   "metadata": {},
   "source": [
    "## `git rebase --reapply-cherry-picks master`\n",
    "\n",
    "if current branch is `dev`, the commits in `dev` branch will be applied to `master`"
   ]
  },
  {
   "cell_type": "markdown",
   "metadata": {},
   "source": [
    "## Dangers of rebase\n",
    "\n",
    "A more serious rebase caveat is lost commits from interactive history rewriting. Running rebase in interactive mode and executing subcommands like squash or drop will remove commits from your branche's immediate log. At first glance this can appear as though the commits are permanently gone. Using `git reflog` these commits can be restored and the entire rebase can be undone. For more info on using `git reflog` to find lost commits, visit our Git reflog documentation page."
   ]
  },
  {
   "cell_type": "markdown",
   "metadata": {},
   "source": [
    "# [Merging vs Rebase](https://www.atlassian.com/git/tutorials/merging-vs-rebasing#the-golden-rule-of-rebasing)\n",
    "\n",
    "The `git rebase` command has a reputation for being magical Git voodoo that beginners should stay away from, but it can actually make life much easier for a development team when used with care. In this article, we’ll compare `git rebase` with the related `git merge` command and identify all of the potential opportunities to incorporate rebasing into the typical Git workflow."
   ]
  },
  {
   "cell_type": "markdown",
   "metadata": {},
   "source": [
    "## Fast Forward Merge\n",
    "\n",
    "Both branches share the exact same history. No merge conflicts when merged or no new \n",
    "merge commit will be created.\n",
    "\n",
    "[![Merge simple case](./imgs/git_merge_simple_case.PNG)](https://youtu.be/Uszj_k0DGsg?t=2057 \"Merge simple case\")\n",
    "\n",
    "[![Merge fast forward merge](./imgs/git_merge_ffwd.PNG)](https://youtu.be/Uszj_k0DGsg?t=2111 \"Merge fast forward merge\")"
   ]
  },
  {
   "cell_type": "markdown",
   "metadata": {},
   "source": [
    "## Typical Merge <span style=\"color:#00ffff\">*(most common case)*</span>  \n",
    "\n",
    "Commit will be automatically created after a merge by default.\n",
    "\n",
    "[![Merge realistic case](./imgs/git_merge_realistic_case.PNG)](https://youtu.be/Uszj_k0DGsg?t=2135 \"Merge realistic case\")\n",
    "\n",
    "[![Merge commit](./imgs/git_merge_commit.PNG)](https://youtu.be/Uszj_k0DGsg?t=2135 \"Merge commit\")"
   ]
  },
  {
   "cell_type": "markdown",
   "metadata": {},
   "source": [
    "## Merge conflicts\n",
    "\n",
    "Merge conflicts occurs only when merging branches, where each branch modifies the same segment of code. **Adding a code will not result in a merge conflict!**\n",
    "\n",
    "Modifications could be:\n",
    "\n",
    "    branch1 -> code_seg1, code_seg2, code_seg3\n",
    "    branch2 -> code_seg1, modified_code_seg2, code_seg3\n",
    "\n",
    "**or deletion**\n",
    "\n",
    "    branch1 -> code_seg1, code_seg2, code_seg3\n",
    "    branch2 -> code_seg1, code_seg3\n",
    "\n",
    "\n",
    "\n",
    "[![Merge conflicts](./imgs/git_merge_conflicts.PNG)](https://youtu.be/Uszj_k0DGsg?t=1467 \"Merge conflicts\")"
   ]
  },
  {
   "cell_type": "markdown",
   "metadata": {},
   "source": [
    "### **Undo** a conflict and start over\n",
    "\n",
    "    git merge --abort\n",
    "    git rebase --abort"
   ]
  },
  {
   "cell_type": "markdown",
   "metadata": {},
   "source": [
    "# FAQ"
   ]
  },
  {
   "cell_type": "markdown",
   "metadata": {},
   "source": [
    "## [01.Add changes to commits in the middle in Git](https://stackoverflow.com/questions/6942979/add-changes-to-commits-in-the-middle-in-git)\n",
    "\n",
    "> How to add the new changes to the commits which are in the middle, I mean not adding to the top commit.\n",
    "> \n",
    ">     git log\n",
    ">     commit1 <--- HEAD\n",
    ">     commit2\n",
    ">     commit3\n",
    ">     How to add the changes directly to commit3, without removing commit1 and commit2 and then adding changes to the commit3.\n",
    "> \n",
    "> Do I need to use stash?\n",
    "> \n",
    "> If possible, please provide the link.\n",
    "\n",
    "---\n",
    "\n",
    "You can do this with git-rebase:\n",
    "\n",
    "`git rebase -i commit3^`\n",
    "\n",
    "In the file that pops up, change `pick commit3` to `edit commit3`. Save and quit, then make your changes. Commit them as you would normally, then use `git rebase --continue`. When you’re done, you’ll see your new changes between commit3 and commit2.\n",
    "\n",
    "---\n",
    "\n",
    "You have to do an interactive rebase. Read the help page for git rebase for the details. The short answer is that you'll go ahead and commit your \"middle\" changes as usual, then run `git rebase -i HEAD~4`. It'll bring up a list of the last 3 commits in a text editor. Simply reorder the commits where the newest commit is put in the middle, and then save and exit the editor. Git will then attempt to rebuild the history in the new order. It might stop with conflicts. If so, fix them like you would for a merge conflict and then run `git rebase --continue` after they are all fixed and added. It tells you all this when you have a conflict, so just read the error messages and you should be fine.\n",
    "\n",
    "`EDIT:` actually, it looks like you want to edit an existing commit. In that case, when the editor comes up, move your new temporary commit to be next to commit3 and then change the command to \"squash\" from \"pick\":\n",
    "\n",
    "    pick 123456 commit3\n",
    "    squash 541343 tmpcommit\n",
    "    pick 654321 commit2\n",
    "    pick 431523 commit1\n",
    "\n",
    "`EDIT2:` if the branch and commit1, commit2 and commit3 are already public, then you shouldn't be rebasing. Then again, you shouldn't be modifying commits anyway, so the whole question would be moot. I'm assuming that this is a private branch or one that is expected by others to be rebased and rewound.\n",
    "\n",
    "---\n",
    "\n",
    "You could use `git reset --soft HEAD [commit3-hash]`. this command remove the commit1 and commit2 from the history but its changes is still in there."
   ]
  }
 ],
 "metadata": {
  "language_info": {
   "name": "python"
  },
  "orig_nbformat": 4
 },
 "nbformat": 4,
 "nbformat_minor": 2
}

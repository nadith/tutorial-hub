{
 "cells": [
  {
   "cell_type": "markdown",
   "metadata": {},
   "source": [
    "# [Licenses](https://choosealicense.com/licenses/)"
   ]
  },
  {
   "cell_type": "markdown",
   "metadata": {},
   "source": [
    "Open source licenses grant permission for anybody to use, modify, and share licensed software for any purpose, subject to conditions preserving the provenance and openness of the software. The following licenses are sorted by the number of conditions, from most (GNU AGPLv3) to none (Unlicense). Notice that the popular licenses featured on the home page (GNU GPLv3 and MIT) fall within this spectrum.\n",
    "\n",
    "If you’re looking for a reference table of every license on choose a license.com, see the appendix.\n",
    "\n",
    "![](./imgs/licenses.jpg)"
   ]
  },
  {
   "cell_type": "markdown",
   "metadata": {},
   "source": [
    "# Creative Common Licenses (CC)\n",
    "\n",
    "https://creativecommons.org/licenses/"
   ]
  },
  {
   "cell_type": "markdown",
   "metadata": {},
   "source": [
    "## [No License](https://choosealicense.com/no-permission/)\n",
    "\n",
    "When you make a creative work (which includes code), the work is under exclusive copyright by default. Unless you include a license that specifies otherwise, nobody else can copy, distribute, or modify your work without being at risk of take-downs, shake-downs, or litigation. Once the work has other contributors (each a copyright holder), “nobody” starts including you.\n",
    "\n",
    "Even in the absence of a license file, you may grant some rights in cases where you publish your source code to a site that requires accepting terms of service. For example, if you publish your source code in a public repository on GitHub, you have accepted the Terms of Service, by which you allow others to view and fork your repository. Others may not need your permission if limitations and exceptions to copyright apply to their particular situation. Neither site terms nor jurisdiction-specific copyright limitations are sufficient for the kinds of collaboration that people usually seek on a public code host, such as experimentation, modification, and sharing as fostered by an open source license.\n",
    "\n",
    "You don’t have to do anything to not offer a license. You may, however, wish to add a copyright notice and statement that you are not offering any license in a prominent place (e.g., your project’s README) so that users don’t assume you made an oversight. If you’re going to accept others’ contributions to your non-licensed project, you may wish to explore adding a contributor agreement to your project with your lawyer so that you maintain copyright permission from contributors, even though you’re not granting the same.\n",
    "\n",
    "Disallowing use of your code might not be what you intend by “no license.” An open source license allows reuse of your code while retaining copyright. If your goal is to completely opt-out of copyright restrictions, try a public domain dedication instead.\n",
    "\n",
    "For users\n",
    "If you find software that doesn’t have a license, that generally means you have no permission from the creators of the software to use, modify, or share the software. Although a code host such as GitHub may allow you to view and fork the code, this does not imply that you are permitted to use, modify, or share the software for any purpose.\n",
    "\n",
    "Your options:\n",
    "\n",
    "* Ask the maintainers nicely to add a license. Unless the software includes strong indications to the contrary, lack of a license is probably an oversight. If the software is hosted on a site like GitHub, open an issue requesting a license and include a link to this site. If you’re bold and it’s fairly obvious what license is most appropriate, open a pull request to add a license – see “suggest this license” in the sidebar of the page for each license on this site (e.g., MIT).\n",
    "* Don’t use the software. Find or create an alternative that is under an open source license.\n",
    "* Negotiate a private license. Bring your lawyer."
   ]
  },
  {
   "cell_type": "markdown",
   "metadata": {},
   "source": [
    "# FAQ"
   ]
  },
  {
   "cell_type": "markdown",
   "metadata": {},
   "source": [
    "## Open-source license to prevent commercial use?\n",
    "\n",
    "> I could really use some help picking the right license for my project. The project is already released on github under the GPLv3 license but I have been made aware that this prevents uses that I want to allow.\n",
    ">\n",
    "> My requirements are like this:\n",
    ">\n",
    "> * The project is a native windows library that will, due to it's nature, always be linked dynamically.\n",
    "> * I want to allow the use of this lib in source or binary form for any not-for-profit use (open-source, closed-source, educational, company-internal is all fine to me) putting as little restrictions on the application license as possible.\n",
    "> * I want to ensure that if someone makes changes to the lib or forks it they have to release those changes under a \"similar\" open-source license as mine\n",
    "> * If someone contributes to my project (say via pull requests in contrast to a fork) I'd like to maintain control over the license of the project.\n",
    "> * In case there is demand for commercial for-profit use (that is: a company want to sells software that has my library as an integral component), I want to be able to dual-license for that with different conditions, but I'd rather cross that bridge if/when I get there - which is probably never anyway. And I wouldn't then want to have to consult anyone who has ever contributed a 2-line diff.\n",
    "> * Can I use Qt (which seems to work similarly) as a model? (LGPL for non-commercial use, contributor agreement to maintain ownership of the whole project, separate commercial license)\n",
    "\n",
    "[Answer:](https://opensource.stackexchange.com/questions/4875/open-source-license-to-prevent-commercial-use)\n"
   ]
  },
  {
   "cell_type": "markdown",
   "metadata": {},
   "source": [
    "## [Searching GitHub by license type?](https://docs.github.com/en/repositories/managing-your-repositorys-settings-and-features/customizing-your-repository/licensing-a-repository)\n",
    "\n",
    "You can filter repositories based on their license or license family using the license qualifier and the exact license keyword:"
   ]
  },
  {
   "cell_type": "markdown",
   "metadata": {},
   "source": [
    "# [Best existing license for closed-source code?](https://softwareengineering.stackexchange.com/questions/68134/best-existing-license-for-closed-source-code)\n",
    "\n",
    "> I'm creating a few closed-source applications on my own (no big company behind me) and am wondering exactly how to protect them. At the top of all the source code files I have this pretty basic copyright notice:\n",
    ">\n",
    ">    /*******************************************************\n",
    ">    * Copyright (C) 2010-2011 {name} <{email}>\n",
    ">    * \n",
    ">    * This file is part of {project}.\n",
    ">    * \n",
    ">    * {project} can not be copied and/or distributed without the express\n",
    ">    * permission of {name}\n",
    ">    *******************************************************/\n",
    "> \n",
    "> However I'm really starting to think that's not enough. Without the money to get a lawyer, I'm interested in any closed-source > > license that essentially says \"You can use it, and that's it\". Finding one has been extremely difficult as I can only find open > source license comparisons or \"Find a lawyer\" answers.\n",
    "\n",
    "---\n",
    "\n",
    "Something like this is adequate, depending on where you live:\n",
    "\n",
    "    /* Copyright (C) YoYoDyne Systems, Inc - All Rights Reserved\n",
    "    * Unauthorized copying of this file, via any medium is strictly prohibited\n",
    "    * Proprietary and confidential\n",
    "    * Written by Elmer Fudd <efudd@yoyodyne.com>, September 1943\n",
    "    */\n",
    "\n",
    "> (2016 update: The phrase \"All Rights Reserved\" used to be required in some nations but is now not legally needed most places. In some countries it may help preserve some of the \"moral rights.\")\n",
    "\n",
    "This means you can't:\n",
    "\n",
    "* Copy the file\n",
    "* Print the file out, scan it and copy the image\n",
    "* Print the file out, take pictures of it and distribute the film\n",
    "* etc ...\n",
    "\n",
    "However, take care to note that in some countries, there is no such thing as copyright. This is also completely in addition to a strong license that you ship with your product, which should go into greater detail.\n",
    "\n",
    "These sort of 'license headers' are designed simply to alert someone who happens upon a file that they should not distribute it.\n",
    "\n",
    "We use something very much like that in stuff that we have that needs to stay behind closed doors. For instance, it alerts someone to not post functions on Stack Overflow.\n",
    "\n",
    "Someone who p0wns your dev server to get your code probably isn't going to pay attention to it, however. Note, again, what you're describing is NOT a license, it's a per file assertion of copyright and specifically stating that the code is proprietary.\n"
   ]
  }
 ],
 "metadata": {
  "language_info": {
   "name": "python"
  },
  "orig_nbformat": 4
 },
 "nbformat": 4,
 "nbformat_minor": 2
}

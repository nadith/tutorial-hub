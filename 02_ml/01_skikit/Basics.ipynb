{
 "cells": [
  {
   "cell_type": "markdown",
   "source": [
    "# Create a Temporary Directory\n",
    "directory -> C:\\\\...\\\\AppData\\\\&lt;unique_directory_name&gt;"
   ],
   "metadata": {
    "collapsed": false,
    "pycharm": {
     "name": "#%% md\n"
    }
   }
  },
  {
   "cell_type": "code",
   "execution_count": 9,
   "metadata": {
    "collapsed": true,
    "pycharm": {
     "is_executing": false
    }
   },
   "outputs": [
    {
     "name": "stdout",
     "text": [
      "C:\\Users\\chath\\AppData\\Local\\Temp\\tmplumfuls3\n"
     ],
     "output_type": "stream"
    }
   ],
   "source": [
    "from os import rmdir\n",
    "from tempfile import mkdtemp\n",
    "cache_dir = mkdtemp() \n",
    "print(cache_dir)\n",
    "rmdir(cache_dir)"
   ]
  },
  {
   "cell_type": "markdown",
   "source": [
    "# Loading Files\n",
    "\n",
    "Load text files with categories as subfolder names.\n",
    "\n",
    "Individual samples are assumed to be files stored a two levels folder structure such as the following:\n",
    "\n",
    "    container_folder/\n",
    "        category_1_folder/\n",
    "            file_1.txt file_2.txt … file_42.txt\n",
    "    \n",
    "        category_2_folder/\n",
    "            file_43.txt file_44.txt …"
   ],
   "metadata": {
    "collapsed": false,
    "pycharm": {
     "name": "#%% md\n"
    }
   }
  },
  {
   "cell_type": "code",
   "execution_count": null,
   "outputs": [],
   "source": [
    "sklearn.datasets.load_files"
   ],
   "metadata": {
    "collapsed": false,
    "pycharm": {
     "name": "#%%\n"
    }
   }
  }
 ],
 "metadata": {
  "kernelspec": {
   "display_name": "Python 3",
   "language": "python",
   "name": "python3"
  },
  "language_info": {
   "codemirror_mode": {
    "name": "ipython",
    "version": 2
   },
   "file_extension": ".py",
   "mimetype": "text/x-python",
   "name": "python",
   "nbconvert_exporter": "python",
   "pygments_lexer": "ipython2",
   "version": "2.7.6"
  },
  "pycharm": {
   "stem_cell": {
    "cell_type": "raw",
    "source": [],
    "metadata": {
     "collapsed": false
    }
   }
  }
 },
 "nbformat": 4,
 "nbformat_minor": 0
}
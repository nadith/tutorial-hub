{
 "cells": [
  {
   "cell_type": "markdown",
   "metadata": {
    "pycharm": {
     "name": "#%% md\n"
    }
   },
   "source": [
    "### IMPORTANT: Use Browser's Print (do not use any other)\n",
    "\n",
    "https://towardsdatascience.com/7-essential-tips-for-writing-with-jupyter-notebook-60972a1a8901#87e5"
   ]
  },
  {
   "cell_type": "markdown",
   "metadata": {
    "collapsed": true,
    "pycharm": {
     "name": "#%% md\n"
    }
   },
   "source": [
    "<div class=\"row\">\n",
    "  <div class=\"column\">\n",
    "Lorem ipsum dolor sit amet, consectetur adipiscing elit. Maecenas quis nunc pulvinar urna faucibus tincidunt ut vestibulum ligula. Sed placerat sollicitudin erat, quis dapibus nibh tempor non. Lorem ipsum dolor sit amet, consectetur adipiscing elit.    Maecenas quis nunc pulvinar urna faucibus tincidunt ut vestibulum ligula. Sed placerat sollicitudin erat, quis dapibus nibh tempor non. Lorem ipsum dolor sit amet, consectetur adipiscing elit.    Maecenas quis nunc pulvinar urna faucibus tincidunt ut vestibulum ligula. Sed placerat sollicitudin erat, quis dapibus nibh tempor non. Lorem ipsum dolor sit amet, consectetur adipiscing elit.    Maecenas quis nunc pulvinar urna faucibus tincidunt ut vestibulum ligula. Sed placerat sollicitudin erat, quis dapibus nibh tempor non. Lorem ipsum dolor sit amet, consectetur adipiscing elit.    Maecenas quis nunc pulvinar urna faucibus tincidunt ut vestibulum ligula. Sed placerat sollicitudin erat, quis dapibus nibh tempor non. Lorem ipsum dolor sit amet, consectetur adipiscing elit.    Maecenas quis nunc pulvinar urna faucibus tincidunt ut vestibulum ligula. Sed placerat sollicitudin erat, quis dapibus nibh tempor non. Lorem ipsum dolor sit amet, consectetur adipiscing elit. \n",
    "      <br/>\n",
    "    \n",
    "Id | Syntax      | Description \n",
    "--|:---------:|:-----------:\n",
    "1|Header      | Something  here\n",
    "2|More here   | Text\n",
    "    \n",
    "  </div>\n",
    "    \n",
    "  <div class=\"column\">\n",
    "Lorem ipsum dolor sit amet, consectetur adipiscing elit. Maecenas quis nunc pulvinar urna faucibus tincidunt ut vestibulum ligula. Sed placerat sollicitudin erat, quis dapibus nibh tempor non. Lorem ipsum dolor sit amet, consectetur adipiscing elit.    Maecenas quis nunc pulvinar urna faucibus tincidunt ut vestibulum ligula. Sed placerat sollicitudin erat, quis dapibus nibh tempor non. Lorem ipsum dolor sit amet, consectetur adipiscing elit.    Maecenas quis nunc pulvinar urna faucibus tincidunt ut vestibulum ligula. Sed placerat sollicitudin erat, quis dapibus nibh tempor non. Lorem ipsum dolor sit amet, consectetur adipiscing elit.    Maecenas quis nunc pulvinar urna faucibus tincidunt ut vestibulum ligula. Sed placerat sollicitudin erat, quis dapibus nibh tempor non. Lorem ipsum dolor sit amet, consectetur adipiscing elit.    Maecenas quis nunc pulvinar urna faucibus tincidunt ut vestibulum ligula. Sed placerat sollicitudin erat, quis dapibus nibh tempor non. Lorem ipsum dolor sit amet, consectetur adipiscing elit.    Maecenas quis nunc pulvinar urna faucibus tincidunt ut vestibulum ligula. Sed placerat sollicitudin erat, quis dapibus nibh tempor non. Lorem ipsum dolor sit amet, consectetur adipiscing elit. \n",
    "  <br/>\n",
    "    \n",
    "  $$\n",
    "  \\begin{align}\n",
    "  {x} & = \\sigma(y-x) \\tag{3-1}\\\\\n",
    "  {y} & = \\rho x - y - xz \\tag{3-2}\\\\\n",
    "  {x+y+z} & = -\\beta z + xy \\tag{3-3}\n",
    "  \\end{align}\n",
    "  $$\n",
    "    \n",
    "  </div>\n",
    "</div>\n"
   ]
  },
  {
   "cell_type": "raw",
   "metadata": {},
   "source": [
    "<div style=\"page-break-after: always;\"></div>"
   ]
  },
  {
   "cell_type": "markdown",
   "metadata": {},
   "source": [
    "<div class=\"row\">\n",
    "  <div class=\"column\">\n",
    "Lorem ipsum dolor sit amet, consectetur adipiscing elit. Maecenas quis nunc pulvinar urna faucibus tincidunt ut vestibulum ligula. Sed placerat sollicitudin erat, quis dapibus nibh tempor non. Lorem ipsum dolor sit amet, consectetur adipiscing elit.    Maecenas quis nunc pulvinar urna faucibus tincidunt ut vestibulum ligula. Sed placerat sollicitudin erat, quis dapibus nibh tempor non. Lorem ipsum dolor sit amet, consectetur adipiscing elit.    Maecenas quis nunc pulvinar urna faucibus tincidunt ut vestibulum ligula. Sed placerat sollicitudin erat, quis dapibus nibh tempor non. Lorem ipsum dolor sit amet, consectetur adipiscing elit.    Maecenas quis nunc pulvinar urna faucibus tincidunt ut vestibulum ligula. Sed placerat sollicitudin erat, quis dapibus nibh tempor non. Lorem ipsum dolor sit amet, consectetur adipiscing elit.    Maecenas quis nunc pulvinar urna faucibus tincidunt ut vestibulum ligula. Sed placerat sollicitudin erat, quis dapibus nibh tempor non. Lorem ipsum dolor sit amet, consectetur adipiscing elit.    Maecenas quis nunc pulvinar urna faucibus tincidunt ut vestibulum ligula. Sed placerat sollicitudin erat, quis dapibus nibh tempor non. Lorem ipsum dolor sit amet, consectetur adipiscing elit.    Maecenas quis nunc pulvinar urna faucibus tincidunt ut vestibulum ligula. Sed placerat sollicitudin erat, quis dapibus nibh tempor non. Lorem ipsum dolor sit amet, consectetur adipiscing elit.    Maecenas quis nunc pulvinar urna faucibus tincidunt ut vestibulum ligula. Sed placerat sollicitudin erat, quis dapibus nibh tempor non. Lorem ipsum dolor sit amet, consectetur adipiscing elit.    Maecenas quis nunc pulvinar urna faucibus tincidunt ut vestibulum ligula. Sed placerat sollicitudin erat, quis dapibus nibh tempor non. Lorem ipsum dolor sit amet, consectetur adipiscing elit.    Maecenas quis nunc pulvinar urna faucibus tincidunt ut vestibulum ligula. Sed placerat sollicitudin erat, quis dapibus nibh tempor non. Lorem ipsum dolor sit amet, consectetur adipiscing elit. \n",
    "      <br/>\n",
    "    \n",
    "Id | Syntax      | Description \n",
    "--|:---------:|:-----------:\n",
    "1|Header      | Something  here\n",
    "2|More here   | Text\n",
    "    \n",
    "  </div>\n",
    "    \n",
    "  <div class=\"column\">\n",
    "Lorem ipsum dolor sit amet, consectetur adipiscing elit. Maecenas quis nunc pulvinar urna faucibus tincidunt ut vestibulum ligula. Sed placerat sollicitudin erat, quis dapibus nibh tempor non. Lorem ipsum dolor sit amet, consectetur adipiscing elit.    Maecenas quis nunc pulvinar urna faucibus tincidunt ut vestibulum ligula. Sed placerat sollicitudin erat, quis dapibus nibh tempor non. Lorem ipsum dolor sit amet, consectetur adipiscing elit.    Maecenas quis nunc pulvinar urna faucibus tincidunt ut vestibulum ligula. Sed placerat sollicitudin erat, quis dapibus nibh tempor non. Lorem ipsum dolor sit amet, consectetur adipiscing elit.    Maecenas quis nunc pulvinar urna faucibus tincidunt ut vestibulum ligula. Sed placerat sollicitudin erat, quis dapibus nibh tempor non. Lorem ipsum dolor sit amet, consectetur adipiscing elit.    Maecenas quis nunc pulvinar urna faucibus tincidunt ut vestibulum ligula. Sed placerat sollicitudin erat, quis dapibus nibh tempor non. Lorem ipsum dolor sit amet, consectetur adipiscing elit.    Maecenas quis nunc pulvinar urna faucibus tincidunt ut vestibulum ligula. Sed placerat sollicitudin erat, quis dapibus nibh tempor non. Lorem ipsum dolor sit amet, consectetur adipiscing elit.    Maecenas quis nunc pulvinar urna faucibus tincidunt ut vestibulum ligula. Sed placerat sollicitudin erat, quis dapibus nibh tempor non. Lorem ipsum dolor sit amet, consectetur adipiscing elit.    Maecenas quis nunc pulvinar urna faucibus tincidunt ut vestibulum ligula. Sed placerat sollicitudin erat, quis dapibus nibh tempor non. Lorem ipsum dolor sit amet, consectetur adipiscing elit.    Maecenas quis nunc pulvinar urna faucibus tincidunt ut vestibulum ligula. Sed placerat sollicitudin erat, quis dapibus nibh tempor non. Lorem ipsum dolor sit amet, consectetur adipiscing elit.    Maecenas quis nunc pulvinar urna faucibus tincidunt ut vestibulum ligula. Sed placerat sollicitudin erat, quis dapibus nibh tempor non. Lorem ipsum dolor sit amet, consectetur adipiscing elit. \n",
    "  <br/>\n",
    "    \n",
    "  $$\n",
    "  \\begin{align}\n",
    "  {x} & = \\sigma(y-x) \\tag{3-1}\\\\\n",
    "  {y} & = \\rho x - y - xz \\tag{3-2}\\\\\n",
    "  {x+y+z} & = -\\beta z + xy \\tag{3-3}\n",
    "  \\end{align}\n",
    "  $$\n",
    "    \n",
    "  </div>\n",
    "</div>\n"
   ]
  },
  {
   "cell_type": "raw",
   "metadata": {
    "pycharm": {
     "is_executing": false,
     "name": "#%%\n"
    }
   },
   "source": [
    "<div style=\"page-break-after: always;\"></div>"
   ]
  },
  {
   "cell_type": "code",
   "execution_count": 27,
   "metadata": {},
   "outputs": [
    {
     "data": {
      "text/html": [
       "<style>\n",
       "    @media print { \n",
       "        * {\n",
       "             box-sizing: border-box;\n",
       "          }\n",
       "        .row {\n",
       "             display: flex;\n",
       "         }\n",
       "       /* Create two equal columns that sits next to each other */\n",
       "       .column {\n",
       "          flex: 50%;\n",
       "          padding: 10px;\n",
       "  \n",
       "        }\n",
       "        \n",
       "        div.input {\n",
       "          display: none;\n",
       "          padding: 0;\n",
       "        }\n",
       "        div.output_prompt {\n",
       "          display: none;\n",
       "          padding: 0;\n",
       "        }\n",
       "        div.text_cell_render {\n",
       "          padding: 1pt;\n",
       "        }\n",
       "        div#notebook p,\n",
       "        div#notebook,\n",
       "        div#notebook li,\n",
       "        p {\n",
       "          font-size: 10pt;\n",
       "          line-height: 115%;\n",
       "          margin: 0;\n",
       "        }\n",
       "        .rendered_html h1,\n",
       "        .rendered_html h1:first-child {\n",
       "          font-size: 10pt;\n",
       "          margin: 3pt 0;\n",
       "        }\n",
       "       .rendered_html h2,\n",
       "       .rendered_html h2:first-child {\n",
       "          font-size: 10pt;\n",
       "          margin: 3pt 0;\n",
       "       }\n",
       "       .rendered_html h3,\n",
       "       .rendered_html h3:first-child {\n",
       "         font-size: 10pt;\n",
       "         margin: 3pt 0;\n",
       "       }\n",
       "       div.output_subarea {\n",
       "         padding: 0;\n",
       "       }\n",
       "       div.input_prompt{\n",
       "         display: none;\n",
       "         padding: 0;\n",
       "      }\n",
       "}\n",
       "      </style>\n"
      ],
      "text/plain": [
       "<IPython.core.display.HTML object>"
      ]
     },
     "metadata": {},
     "output_type": "display_data"
    }
   ],
   "source": [
    "%%html\n",
    "<style>\n",
    "    @media print { \n",
    "        * {\n",
    "             box-sizing: border-box;\n",
    "          }\n",
    "        .row {\n",
    "             display: flex;\n",
    "         }\n",
    "       /* Create two equal columns that sits next to each other */\n",
    "       .column {\n",
    "          flex: 50%;\n",
    "          padding: 10px;\n",
    "  \n",
    "        }\n",
    "        \n",
    "        div.input {\n",
    "          display: none;\n",
    "          padding: 0;\n",
    "        }\n",
    "        div.output_prompt {\n",
    "          display: none;\n",
    "          padding: 0;\n",
    "        }\n",
    "        div.text_cell_render {\n",
    "          padding: 1pt;\n",
    "        }\n",
    "        div#notebook p,\n",
    "        div#notebook,\n",
    "        div#notebook li,\n",
    "        p {\n",
    "          font-size: 10pt;\n",
    "          line-height: 115%;\n",
    "          margin: 0;\n",
    "        }\n",
    "        .rendered_html h1,\n",
    "        .rendered_html h1:first-child {\n",
    "          font-size: 10pt;\n",
    "          margin: 3pt 0;\n",
    "        }\n",
    "       .rendered_html h2,\n",
    "       .rendered_html h2:first-child {\n",
    "          font-size: 10pt;\n",
    "          margin: 3pt 0;\n",
    "       }\n",
    "       .rendered_html h3,\n",
    "       .rendered_html h3:first-child {\n",
    "         font-size: 10pt;\n",
    "         margin: 3pt 0;\n",
    "       }\n",
    "       div.output_subarea {\n",
    "         padding: 0;\n",
    "       }\n",
    "       div.input_prompt{\n",
    "         display: none;\n",
    "         padding: 0;\n",
    "      }\n",
    "}\n",
    "      </style>"
   ]
  },
  {
   "cell_type": "raw",
   "metadata": {},
   "source": [
    "<div style=\"page-break-after: always;\"></div>"
   ]
  },
  {
   "cell_type": "markdown",
   "metadata": {},
   "source": [
    "## How to print out from Jupyter Notebook without code blocks\n",
    "\n",
    "Once you are done with your writing and if you want to export it to a PDF file, you can print it out as a PDF.\n",
    "\n",
    "There are several ways to do this. But I came up with a method that is the easiest and flexible.\n",
    "You need to copy and paste the following code into one of your cells. Then go to File, Print Preview. The code blocks and Output blocks will be removed. Heading paddings and margins are adjusted for printing. You can adjust the codes whatever you like using this method.\n",
    "\n",
    "I found that the Raw NBConvert block will have no div or class in a print view, so it is hard to control the blocks. I recommend not using Raw NBConvert for printing."
   ]
  },
  {
   "cell_type": "code",
   "execution_count": 28,
   "metadata": {},
   "outputs": [
    {
     "data": {
      "text/html": [
       " <style>\n",
       "    @media print { \n",
       "    div.input {\n",
       "      display: none;\n",
       "      padding: 0;\n",
       "    }\n",
       "    div.output_prompt {\n",
       "      display: none;\n",
       "      padding: 0;\n",
       "    }\n",
       "    div.text_cell_render {\n",
       "      padding: 1pt;\n",
       "    }\n",
       "    div#notebook p,\n",
       "    div#notebook,\n",
       "    div#notebook li,\n",
       "    p {\n",
       "      font-size: 11pt;\n",
       "      line-height: 135%;\n",
       "      margin: 0;\n",
       "    }\n",
       "    .rendered_html h1,\n",
       "    .rendered_html h1:first-child {\n",
       "      font-size: 16pt;\n",
       "      margin: 7pt 0;\n",
       "    }\n",
       "    .rendered_html h2,\n",
       "    .rendered_html h2:first-child {\n",
       "      font-size: 14pt;\n",
       "      margin: 6pt 0;\n",
       "    }\n",
       "    .rendered_html h3,\n",
       "    .rendered_html h3:first-child {\n",
       "      font-size: 13pt;\n",
       "      margin: 6pt 0;\n",
       "    }\n",
       "    div.output_subarea {\n",
       "      padding: 0;\n",
       "    }\n",
       "  }\n",
       "  @page {\n",
       "      size: A4;\n",
       "  }\n",
       "  </style>\n"
      ],
      "text/plain": [
       "<IPython.core.display.HTML object>"
      ]
     },
     "metadata": {},
     "output_type": "display_data"
    }
   ],
   "source": [
    "%%html\n",
    " <style>\n",
    "    @media print { \n",
    "    div.input {\n",
    "      display: none;\n",
    "      padding: 0;\n",
    "    }\n",
    "    div.output_prompt {\n",
    "      display: none;\n",
    "      padding: 0;\n",
    "    }\n",
    "    div.text_cell_render {\n",
    "      padding: 1pt;\n",
    "    }\n",
    "    div#notebook p,\n",
    "    div#notebook,\n",
    "    div#notebook li,\n",
    "    p {\n",
    "      font-size: 11pt;\n",
    "      line-height: 135%;\n",
    "      margin: 0;\n",
    "    }\n",
    "    .rendered_html h1,\n",
    "    .rendered_html h1:first-child {\n",
    "      font-size: 16pt;\n",
    "      margin: 7pt 0;\n",
    "    }\n",
    "    .rendered_html h2,\n",
    "    .rendered_html h2:first-child {\n",
    "      font-size: 14pt;\n",
    "      margin: 6pt 0;\n",
    "    }\n",
    "    .rendered_html h3,\n",
    "    .rendered_html h3:first-child {\n",
    "      font-size: 13pt;\n",
    "      margin: 6pt 0;\n",
    "    }\n",
    "    div.output_subarea {\n",
    "      padding: 0;\n",
    "    }\n",
    "  }\n",
    "  @page {\n",
    "      size: A4;\n",
    "  }\n",
    "  </style>"
   ]
  },
  {
   "cell_type": "code",
   "execution_count": 29,
   "metadata": {
    "pycharm": {
     "name": "#%%\n"
    }
   },
   "outputs": [
    {
     "data": {
      "text/plain": [
       "10"
      ]
     },
     "execution_count": 29,
     "metadata": {},
     "output_type": "execute_result"
    }
   ],
   "source": [
    "# Sample Code (which will be hidden from Ctrl+P in browser)\n",
    "t=10\n",
    "t"
   ]
  }
 ],
 "metadata": {
  "kernelspec": {
   "display_name": "Python 3",
   "language": "python",
   "name": "python3"
  },
  "language_info": {
   "codemirror_mode": {
    "name": "ipython",
    "version": 3
   },
   "file_extension": ".py",
   "mimetype": "text/x-python",
   "name": "python",
   "nbconvert_exporter": "python",
   "pygments_lexer": "ipython3",
   "version": "3.8.8"
  },
  "pycharm": {
   "stem_cell": {
    "cell_type": "raw",
    "metadata": {
     "collapsed": false
    },
    "source": []
   }
  },
  "varInspector": {
   "cols": {
    "lenName": 16,
    "lenType": 16,
    "lenVar": 40
   },
   "kernels_config": {
    "python": {
     "delete_cmd_postfix": "",
     "delete_cmd_prefix": "del ",
     "library": "var_list.py",
     "varRefreshCmd": "print(var_dic_list())"
    },
    "r": {
     "delete_cmd_postfix": ") ",
     "delete_cmd_prefix": "rm(",
     "library": "var_list.r",
     "varRefreshCmd": "cat(var_dic_list()) "
    }
   },
   "types_to_exclude": [
    "module",
    "function",
    "builtin_function_or_method",
    "instance",
    "_Feature"
   ],
   "window_display": false
  }
 },
 "nbformat": 4,
 "nbformat_minor": 1
}

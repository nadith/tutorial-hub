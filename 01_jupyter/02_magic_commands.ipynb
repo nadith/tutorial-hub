{
 "cells": [
  {
   "cell_type": "markdown",
   "metadata": {
    "collapsed": true,
    "pycharm": {
     "name": "#%% md\n"
    }
   },
   "source": [
    "# [Magic Commands](https://ipython.readthedocs.io/en/stable/interactive/magics.html)\n",
    "\n",
    "To Jupyter users: Magics are specific to and provided by the IPython kernel. Whether Magics are available on a kernel \n",
    "is a decision that is made by the kernel developer on a per-kernel basis. To work properly, Magics must use a syntax \n",
    "element which is not valid in the underlying language. For example, the IPython kernel uses the % syntax element for \n",
    "Magics as % is not a valid unary operator in Python. However, % might have meaning in other languages."
   ]
  },
  {
   "cell_type": "code",
   "execution_count": 2,
   "outputs": [
    {
     "name": "stdout",
     "text": [
      "2.4.1\n",
      "Wall time: 3.14 s\n"
     ],
     "output_type": "stream"
    }
   ],
   "source": [
    "%%time \n",
    "import tensorflow as tf\n",
    "print(tf.__version__)"
   ],
   "metadata": {
    "collapsed": false,
    "pycharm": {
     "name": "#%%\n",
     "is_executing": false
    }
   }
  },
  {
   "cell_type": "code",
   "execution_count": 5,
   "outputs": [],
   "source": [
    "%magic"
   ],
   "metadata": {
    "collapsed": false,
    "pycharm": {
     "name": "#%%\n",
     "is_executing": false
    }
   }
  },
  {
   "cell_type": "markdown",
   "source": [
    "## Documentation"
   ],
   "metadata": {
    "collapsed": false
   }
  },
  {
   "cell_type": "code",
   "execution_count": 7,
   "outputs": [],
   "source": [
    "import random\n",
    "? random"
   ],
   "metadata": {
    "collapsed": false,
    "pycharm": {
     "name": "#%%\n",
     "is_executing": false
    }
   }
  },
  {
   "cell_type": "markdown",
   "source": [
    "## To run commands in the command line"
   ],
   "metadata": {
    "collapsed": false
   }
  },
  {
   "cell_type": "code",
   "execution_count": 1,
   "outputs": [
    {
     "name": "stdout",
     "text": [
      " Volume in drive E is dev.research_QVO\n",
      " Volume Serial Number is 9C6B-27A8\n",
      "\n",
      " Directory of E:\\dev\\dl\\python\\DLN\\Scripts\\Jupyter\n",
      "\n",
      "05/30/2021  04:07 AM    <DIR>          .\n",
      "05/30/2021  04:07 AM    <DIR>          ..\n",
      "05/30/2021  12:32 AM    <DIR>          .ipynb_checkpoints\n",
      "05/30/2021  01:39 AM            13,874 01_basics.ipynb\n",
      "05/30/2021  04:07 AM             2,283 02_magic_commands.ipynb\n",
      "               2 File(s)         16,157 bytes\n",
      "               3 Dir(s)  922,552,320,000 bytes free\n"
     ],
     "output_type": "stream"
    }
   ],
   "source": [
    "!dir"
   ],
   "metadata": {
    "collapsed": false,
    "pycharm": {
     "name": "#%%\n",
     "is_executing": false
    }
   }
  },
  {
   "cell_type": "code",
   "execution_count": null,
   "outputs": [],
   "source": [
    "!tensorboard --logdir=/temp/data\n"
   ],
   "metadata": {
    "collapsed": false,
    "pycharm": {
     "name": "#%%\n"
    }
   }
  },
  {
   "cell_type": "markdown",
   "source": [
    "### Purpose of “%matplotlib inline”\n",
    "\n",
    "https://stackoverflow.com/questions/43027980/purpose-of-matplotlib-inline"
   ],
   "metadata": {
    "collapsed": false,
    "pycharm": {
     "name": "#%% md\n"
    }
   }
  }
 ],
 "metadata": {
  "kernelspec": {
   "display_name": "Python 3",
   "language": "python",
   "name": "python3"
  },
  "language_info": {
   "codemirror_mode": {
    "name": "ipython",
    "version": 2
   },
   "file_extension": ".py",
   "mimetype": "text/x-python",
   "name": "python",
   "nbconvert_exporter": "python",
   "pygments_lexer": "ipython2",
   "version": "2.7.6"
  },
  "pycharm": {
   "stem_cell": {
    "cell_type": "raw",
    "source": [
     "\n"
    ],
    "metadata": {
     "collapsed": false
    }
   }
  }
 },
 "nbformat": 4,
 "nbformat_minor": 0
}
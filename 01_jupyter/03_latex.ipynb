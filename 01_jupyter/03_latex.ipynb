{
 "cells": [
  {
   "cell_type": "markdown",
   "metadata": {
    "collapsed": false
   },
   "source": [
    "## Latex Equation Numbers with Reference\n",
    "\n",
    "Must Use `\\begin{equation}`\n",
    "\n",
    "\\begin{equation}\\label{eq:vector_ray1} \n",
    "\\mathbf{r} \\equiv\n",
    "\\begin{bmatrix}\n",
    "y \\\\ \n",
    "\\theta \n",
    "\\end{bmatrix}\n",
    "\\end{equation}\n",
    " \n",
    "Vector **r** is defined by equation $\\eqref{eq:vector_ray1}$\n",
    "\n",
    "\\begin{equation}\\label{eq:vector_ray2}\n",
    "\\begin{aligned}\n",
    "\\mathbf{r} \\equiv\n",
    "\\begin{bmatrix}\n",
    "y \\\\ \n",
    "\\theta \n",
    "\\end{bmatrix}\n",
    "\\end{aligned}\n",
    "\\end{equation}\n",
    "\n",
    "Vector **r** is defined by equation $\\eqref{eq:vector_ray2}$\n",
    "\n",
    "\n"
   ]
  },
  {
   "cell_type": "markdown",
   "metadata": {},
   "source": [
    "## Latex Equation with Cases\n",
    "\n",
    "$$f(x) = \\begin{cases} \\frac{2} {3} x, & x \\in [0,120] \\\\ x - 40, & x \\in [120,240] \\end{cases}$$\n",
    "\n",
    "***Using Automated Numbers*** \n",
    "\n",
    "(install jupyter_contrib_nbextensions if not)\n",
    "\n",
    "BUG: PyCharm does not render automated numbers\n",
    "<br> FIX: View in jupyter notebook browser. Refresh twice (clear cache) if not shown.\n",
    "\n",
    "$$\n",
    "\\begin{aligned}\n",
    "{x} = \\sigma(y-x) \\\\\n",
    "{y} = \\rho x - y - xz \\\\\n",
    "{x+y+z} = -\\beta z + xy \n",
    "\\end{aligned}\n",
    "$$\n",
    " \n",
    "\\begin{equation}\n",
    "\\begin{aligned}\n",
    "&x = 1 \\\\\n",
    "&y = 2 + 2x^2\n",
    "\\end{aligned}\n",
    "\\end{equation}\n",
    "\n",
    "***Avoid Numbering***\n",
    "\n",
    "\\begin{equation*}\n",
    "\\begin{aligned}\n",
    "&x = 1 \\\\\n",
    "&y = 2 + 2x^2\n",
    "\\end{aligned}\n",
    "\\end{equation*}\n",
    "\n",
    "\n",
    "***Using Tag***\n",
    "\n",
    "\\begin{equation}\n",
    "\\begin{aligned}\n",
    "&x = 1 \\\\\n",
    "&y = 2 + 2x^2\n",
    "\\end{aligned}\n",
    "\\tag{fun system}\n",
    "\\end{equation}\n"
   ]
  },
  {
   "cell_type": "markdown",
   "metadata": {
    "pycharm": {
     "name": "#%% md\n"
    }
   },
   "source": [
    "## Print Latex in Markdown and Code Cell\n",
    "IPython notebook uses MathJax to render LaTeX inside html/markdown. Just put your LaTeX math inside $$.\n",
    "\n",
    "Let's consider the following assumption\n",
    "\n",
    "\\begin{equation}\n",
    "1+1+\\sum_0^3 0 =4\n",
    "\\end{equation}\n",
    "\n",
    "Let's consider the following assumption\n",
    "\n",
    "\\begin{equation}\n",
    "1+1+\\sum_0^3 0 =4\\\\\n",
    "1+1+\\sum_0^3 0 =4\n",
    "\\end{equation}"
   ]
  },
  {
   "cell_type": "markdown",
   "metadata": {
    "pycharm": {
     "name": "#%% md\n"
    }
   },
   "source": [
    "BUG: PyCharm doesn't recognize displaymath environments (&#36;&#36;), and displays it inline\n",
    "TEMPoRAR\n",
    "<br> FIX: View in jupyter notebook browser.\n",
    "\n",
    "Ref: https://youtrack.jetbrains.com/issue/PY-40317\n",
    "\n",
    "See below:"
   ]
  },
  {
   "cell_type": "code",
   "execution_count": 1,
   "metadata": {
    "collapsed": true,
    "pycharm": {
     "is_executing": false
    }
   },
   "outputs": [
    {
     "data": {
      "text/latex": [
       "Let's consider the following assumption\n",
       "\n",
       "\\begin{equation}\n",
       "1+1+\\sum_0^3 0 =4 (bug - inline rendered)\n",
       "\\end{equation}\n",
       "\n",
       "Let's consider the following assumption\n",
       "\n",
       "\\begin{equation}\n",
       "1+1+\\sum_0^3 0 =4\\\\\n",
       "\\end{equation}\n",
       "\n",
       "Let's consider the following assumption\n",
       "\n",
       "\\begin{equation}\n",
       "1+1+\\sum_0^3 0 =4\\\\\n",
       "1+1+\\sum_0^3 0 =4\n",
       "\\end{equation}\n"
      ],
      "text/plain": [
       "<IPython.core.display.Latex object>"
      ]
     },
     "metadata": {},
     "output_type": "display_data"
    }
   ],
   "source": [
    "%%latex\n",
    "Let's consider the following assumption\n",
    "\n",
    "\\begin{equation}\n",
    "1+1+\\sum_0^3 0 =4 (bug - inline rendered)\n",
    "\\end{equation}\n",
    "\n",
    "Let's consider the following assumption\n",
    "\n",
    "\\begin{equation}\n",
    "1+1+\\sum_0^3 0 =4\\\\\n",
    "\\end{equation}\n",
    "\n",
    "Let's consider the following assumption\n",
    "\n",
    "\\begin{equation}\n",
    "1+1+\\sum_0^3 0 =4\\\\\n",
    "1+1+\\sum_0^3 0 =4\n",
    "\\end{equation}"
   ]
  },
  {
   "cell_type": "markdown",
   "metadata": {
    "pycharm": {
     "is_executing": false,
     "name": "#%% md\n"
    }
   },
   "source": [
    "***Alternative***"
   ]
  },
  {
   "cell_type": "code",
   "execution_count": 2,
   "metadata": {
    "collapsed": false,
    "pycharm": {
     "is_executing": false,
     "name": "#%%\n"
    }
   },
   "outputs": [
    {
     "data": {
      "text/latex": [
       "$\\displaystyle F(k) = \\int_{-\\infty}^{\\infty} f(x) e^{2\\pi i k} dx$"
      ],
      "text/plain": [
       "<IPython.core.display.Math object>"
      ]
     },
     "metadata": {},
     "output_type": "display_data"
    }
   ],
   "source": [
    "from IPython.display import display, Math, Latex\n",
    "display(Math(r'F(k) = \\int_{-\\infty}^{\\infty} f(x) e^{2\\pi i k} dx'))"
   ]
  }
 ],
 "metadata": {
  "kernelspec": {
   "display_name": "Python 3.9.12 ('base')",
   "language": "python",
   "name": "python3"
  },
  "language_info": {
   "codemirror_mode": {
    "name": "ipython",
    "version": 3
   },
   "file_extension": ".py",
   "mimetype": "text/x-python",
   "name": "python",
   "nbconvert_exporter": "python",
   "pygments_lexer": "ipython3",
   "version": "3.9.12"
  },
  "pycharm": {
   "stem_cell": {
    "cell_type": "raw",
    "metadata": {
     "collapsed": false
    },
    "source": []
   }
  },
  "varInspector": {
   "cols": {
    "lenName": 16,
    "lenType": 16,
    "lenVar": 40
   },
   "kernels_config": {
    "python": {
     "delete_cmd_postfix": "",
     "delete_cmd_prefix": "del ",
     "library": "var_list.py",
     "varRefreshCmd": "print(var_dic_list())"
    },
    "r": {
     "delete_cmd_postfix": ") ",
     "delete_cmd_prefix": "rm(",
     "library": "var_list.r",
     "varRefreshCmd": "cat(var_dic_list()) "
    }
   },
   "types_to_exclude": [
    "module",
    "function",
    "builtin_function_or_method",
    "instance",
    "_Feature"
   ],
   "window_display": false
  },
  "vscode": {
   "interpreter": {
    "hash": "9080d0d9e876040599225a99b678a70781bb2b706bedc1f7d8bf7d473d9175b9"
   }
  }
 },
 "nbformat": 4,
 "nbformat_minor": 1
}

{
 "cells": [
  {
   "cell_type": "markdown",
   "metadata": {},
   "source": [
    "# [Markdown Basic Syntax](https://daringfireball.net/projects/markdown/syntax)\n",
    "\n",
    "* Markdowns are converted  to HTML. \n",
    "* IPython notebooks (jupyter notebooks) supports markdown in markdown cells.\n",
    "* You can create markdown files (i.e. filename.md) as well"
   ]
  },
  {
   "cell_type": "markdown",
   "metadata": {},
   "source": [
    "## Direct html in markdown cells\n",
    "\n",
    "<i>for and example: this is italic</i>\n",
    "\n",
    "*this is markdown italic*\n",
    "\n",
    "<p>This is <a href=\"http://example.com/\" title=\"Title\">\n",
    "an example</a> inline link.</p>\n",
    "\n",
    "<style>\n",
    "r { color: red }\n",
    "o { color: orange }\n",
    "g { color: green }\n",
    "</style>\n",
    "\n",
    "- <r>TODO:</r> Important thing to do\n",
    "- <o>TODO:</o> Less important thing to do\n",
    "- <g>DONE:</g> Breath deeply and improve karma\n",
    "\n",
    "<p>&nbsp;</p>\n",
    "\n",
    "This is next paragraph text. Text text text text text. Text text text text text. \n",
    "Text text text text text. Text text text text text. Text text text text text"
   ]
  },
  {
   "cell_type": "markdown",
   "metadata": {},
   "source": [
    "### Reference styles\n",
    "\n",
    "* <span style=\"color:#ff7171\">Reference color 01</span>\n",
    "* <span style=\"color:#00ffff\">Reference color 02</span>"
   ]
  },
  {
   "cell_type": "markdown",
   "metadata": {},
   "source": [
    "### Text colors and related formatting\n",
    "\n",
    "In his beard lived three <span style=\"color:red\">cardinals</span>.\n",
    "\n",
    "In his beard lived three cardinals.\n",
    "\n",
    "I am in <span style=\"font-family:Papyrus; font-size:4em;\">LOVE!</span>\n",
    "\n",
    "<u>This is underlined text (HTML 5)</u>"
   ]
  },
  {
   "cell_type": "markdown",
   "metadata": {},
   "source": [
    "### Paragraph and Linebreaks:\n",
    "\n",
    "extra line space above is converted to a paragraph &lt;p&gt;\n",
    "\n",
    "Yes, this takes a tad more effort to create a <br />, but a simplistic \n",
    "“every line break is a <br />” rule wouldn’t work for Markdown. \n",
    "Markdown’s email-style blockquoting and multi-paragraph \n",
    "list items work best — and look better — when you format them with hard breaks.\n",
    "\n",
    "Extra paragraph break\n",
    "This is text text text <p>&nbsp;</p> This is text text text\n",
    "\n",
    "**Empty Lines**\n",
    "\n",
    "Line01\\\n",
    "\\\n",
    "\\\n",
    "\\\n",
    "Line02"
   ]
  },
  {
   "cell_type": "markdown",
   "metadata": {},
   "source": [
    "### Special Characters\n",
    "\n",
    "Escape the meaning of &lt;p&gt;"
   ]
  },
  {
   "cell_type": "markdown",
   "metadata": {},
   "source": [
    "### Automatic Escaping\n",
    "\n",
    "In HTML, there are two characters that demand special treatment: < and &. Left angle brackets are used to start \n",
    "tags; ampersands are used to denote HTML entities. If you want to use them as literal characters, you must escape \n",
    "them as entities, e.g. &lt;, and &amp;.\n",
    "\n",
    "Ampersands in particular are bedeviling for web writers. If you want to write about ‘AT&T’, you need to write \n",
    "‘AT&amp;T’. You even need to escape ampersands within URLs. Thus, if you want to link to:"
   ]
  },
  {
   "cell_type": "markdown",
   "metadata": {},
   "source": [
    "## Code\n",
    "\n",
    "    this is a code (simply indent 4 spaces or 1 tab)\n",
    "\n",
    "Use the `printf()` function.\n",
    "\n",
    "``There is a literal backtick (`) here.``\n",
    "\n",
    "Please don't use any `<blink>` tags. - will produce\n",
    "\n",
    "<p>Please don't use any <code>&lt;blink&gt;</code> tags.</p>\n",
    "\n",
    "`<code>` spans are delimited by backticks.\n",
    "You can include literal backticks like `` `this` ``."
   ]
  },
  {
   "cell_type": "markdown",
   "metadata": {},
   "source": [
    "## List\n",
    "\n",
    "* Item 1\n",
    "* Item 2\n",
    "* Item 3\n",
    "\n",
    "\n",
    "- Item 4\n",
    "- Item 5\n",
    "- Item 6"
   ]
  },
  {
   "cell_type": "markdown",
   "metadata": {},
   "source": [
    "### Lists Advanced\n",
    "\n",
    "Unordered, with paragraphs: \n",
    "* A list item.    \n",
    "With multiple paragraphs.\n",
    "* Bar\n",
    "\n",
    "Ordered, without paragraphs: \n",
    "1. Foo <br>sadsadasd\n",
    "2. Bar\n",
    "\n",
    "Ordered, with paragraphs: \n",
    "1. Foo <br> With multiple paragraphs.\n",
    "2. Bar\n",
    "\n",
    "Nested: \n",
    "\n",
    "* Abacus\n",
    "    *absolute\n",
    "* Bananas\n",
    "    1. bitter\n",
    "    2. bupkis\n",
    "    3. burper\n",
    "* Cunning"
   ]
  },
  {
   "cell_type": "markdown",
   "metadata": {},
   "source": [
    "## Emphasis\n",
    "\n",
    "*single asterisks*\n",
    "\n",
    "_single underscores_\n",
    "\n",
    "**double asterisks**\n",
    "\n",
    "__double underscores__\n",
    "\n",
    "To produce a literal asterisk or underscore at a position where it would otherwise be used as an emphasis delimiter, you can backslash escape it:\n",
    "\n",
    "\\*this text is surrounded by literal asterisks\\*"
   ]
  },
  {
   "cell_type": "markdown",
   "metadata": {},
   "source": [
    "## Horizontal Rulers\n",
    "\n",
    "You can produce a horizontal rule tag (&lt;hr /&gt;) by placing three or more hyphens, asterisks, or underscores on a line by themselves. If you wish, you may use spaces between the hyphens or asterisks. Each of the following lines will produce a horizontal rule:\n",
    "\n",
    "***\n",
    "*****\n",
    "- - -\n",
    "---------------------------------------"
   ]
  },
  {
   "cell_type": "markdown",
   "metadata": {},
   "source": [
    "## Links\n",
    "\n",
    "This is [an example](http://example.com/ \"Title\") inline link.\n",
    "\n",
    "[This link](http://example.net/) has no title attribute.\n",
    "\n",
    "If you’re referring to a local resource on the same server, you can use relative paths:\n",
    "See my [About](/about/) page for details.  \n",
    "\n",
    "\n",
    "***Reference-style links*** \n",
    "\n",
    "use a second set of square brackets, inside which you place a label of your choosing to identify the link:\n",
    "This is [an example][id] reference-style link.\n",
    "\n",
    "This is [an example] [id] reference-style link.\n",
    "\n",
    "Then, anywhere in the document, you define your link label like this, on a line by itself:\n",
    "\n",
    "[id]: http://example.com/  \"Optional Title Here\"\n",
    "\n",
    "***Alternative (implicit link definition)***\n",
    "\n",
    "The implicit link name shortcut allows you to omit the name of the link, \n",
    "in which case the link text itself is used as the name. Just use an empty set of square brackets \n",
    "— e.g., to link the word “Google” to the google.com web site, you could simply write:\n",
    "\n",
    "[Google][]\n",
    "\n",
    "[Google]: http://google.com/\n",
    "\n",
    "Visit [Daring Fireball][] for more information.\n",
    "\n",
    "[Daring Fireball]: http://daringfireball.net/  \"Test Title\""
   ]
  },
  {
   "cell_type": "markdown",
   "metadata": {},
   "source": [
    "### Automatic Links\n",
    "\n",
    "Markdown supports a shortcut style for creating “automatic” links for URLs and \n",
    "email addresses: simply surround the URL or email address with angle brackets. \n",
    "What this means is that if you want to show the actual text of a URL or email address, \n",
    "and also have it be a clickable link, you can do this:\n",
    "<http://example.com/>\n",
    "\n",
    "Automatic links for email addresses work similarly, except that Markdown will also \n",
    "perform a bit of randomized decimal and hex entity-encoding to help obscure your \n",
    "address from address-harvesting spambots. For example, Markdown will turn this: <address@example.com>"
   ]
  },
  {
   "cell_type": "markdown",
   "metadata": {},
   "source": [
    "### Image Links\n",
    "\n",
    "![Alt text](/path/to/img.jpg)\n",
    "\n",
    "![Alt text](/path/to/img.jpg \"Optional title\")\n",
    "\n",
    "<p>&nbsp;</p>\n",
    "\n",
    "**Markdown comments: (doesn't appear here)**\n",
    "\n",
    "[comment]: <> (This is a comment, it will not be included)\n",
    "[comment]: <> (in  the output file unless you use it in)\n",
    "[comment]: <> (a reference style link.)\n",
    "[//]: <> (This is also a comment.)\n",
    "<!---\n",
    "your comment goes here\n",
    "and here\n",
    "-->"
   ]
  },
  {
   "cell_type": "markdown",
   "metadata": {},
   "source": [
    "## Blockquotes:\n",
    "\n",
    "> Email-style angle brackets are used for blockquotes.\n",
    ">> You can also nest them.\n",
    ">>\n",
    "> * You can quote a list.\n",
    "> * Etc.\n",
    "\n",
    "> To break the nested blockquote, add a space between lines.\n",
    "\n",
    "Add another line to resume regular paragraph text.\n",
    "\n",
    "> This is a blockquote with two paragraphs. Lorem ipsum dolor sit amet,\n",
    "> consectetuer adipiscing elit. Aliquam hendrerit mi posuere lectus.\n",
    "> Vestibulum enim wisi, viverra nec, fringilla in, laoreet vitae, risus.\n",
    "> \n",
    "> Donec sit amet nisl. Aliquam semper ipsum sit amet velit. Suspendisse\n",
    "> id sem consectetuer libero luctus adipiscing.\n",
    "\n",
    "> ## This is a header.\n",
    "> \n",
    "> 1.   This is the first list item.\n",
    "> 2.   This is the second list item.\n",
    ">\n",
    "> Here's some example code:\n",
    "> \n",
    ">     return shell_exec(\"echo $input | $markdown_script\");\n",
    "\n",
    "*   A list item with a blockquote:\n",
    "\n",
    "    > This is a blockquote\n",
    "    > inside a list item."
   ]
  },
  {
   "cell_type": "markdown",
   "metadata": {
    "collapsed": false
   },
   "source": [
    "# HyperLinks (open bug in intelliJ)\n",
    "Ref: <https://youtrack.jetbrains.com/issue/PY-44437?_ga=2.264510415.1997815656.1622301945-1245535922.1612762168>\n",
    "\n",
    "[Other notebook](./00_ggplot.ipynb) use %20 for spaces\n",
    "\n",
    "* [Notebook](test-index.ipynb)\n",
    "* [Markdown](test.md)\n",
    "* [Text](test.txt)\n",
    "* [Cell](#Second-Markdown-Cell)\n",
    "* [Cell_another](#another_cell)\n",
    "* [Web](https://stackoverflow.com)\n"
   ]
  },
  {
   "cell_type": "markdown",
   "metadata": {},
   "source": [
    "# [Markdown Extended Syntax](https://www.markdownguide.org/extended-syntax/)"
   ]
  },
  {
   "cell_type": "markdown",
   "metadata": {},
   "source": [
    "## Tables & Alignment\n",
    "| Syntax      | Description |\n",
    "| ----------- | ----------- |\n",
    "| Header      | Title       |\n",
    "| Paragraph   | Text        |\n",
    "\n",
    "Cell widths can vary, as shown below. The rendered output will look the same.\n",
    "\n",
    "| Syntax | Description |\n",
    "| --- | ----------- |\n",
    "| Header | Title |\n",
    "| Paragraph | Text |\n",
    "\n",
    "You can align text in the columns to the left, right, or center by adding a colon (:) to the left, right, or on both side of the hyphens within the header row.\n",
    "\n",
    "| Syntax      | Description | Test Text     |\n",
    "| :---        |    :----:   |          ---: |\n",
    "| Header      | Title       | Here's this   |\n",
    "| Paragraph   | Text        | And more      |"
   ]
  },
  {
   "cell_type": "markdown",
   "metadata": {},
   "source": [
    "## Fenced Code Blocks\n",
    "The basic Markdown syntax allows you to create code blocks by indenting lines by four \n",
    "spaces or one tab. If you find that inconvenient, try using fenced code blocks.\n",
    " Depending on your Markdown processor or editor, you’ll use three backticks (```) or \n",
    " three tildes (~~~) on the lines before and after the code block. The best part? You \n",
    " don’t have to indent any lines!\n",
    "\n",
    "```\n",
    "{\n",
    "  \"firstName\": \"John\",\n",
    "  \"lastName\": \"Smith\",\n",
    "  \"age\": 25\n",
    "}\n",
    "```\n",
    "\n",
    "***Syntax Highlighting***\n",
    "```json\n",
    "{\n",
    "  \"firstName\": \"John\",\n",
    "  \"lastName\": \"Smith\",\n",
    "  \"age\": 25\n",
    "}\n",
    "```"
   ]
  },
  {
   "cell_type": "markdown",
   "metadata": {},
   "source": [
    "## Footnote\n",
    "\n",
    "Here's a simple footnote,[$^1$](#f2)\n",
    "and here's a longer one.[$^2$](#f2)\n",
    "\n",
    "<span id=\"f1\">$^{1}$ Your footnote 1 here.</span>\n",
    "\n",
    "<span id=\"f2\">$^{2}$ Here's one with multiple paragraphs and code.</span>    \n",
    "Indent paragraphs to include them in the footnote.\n",
    "<br>    `{ my code }`\n",
    "<br>    Add as many paragraphs as you like.\n",
    "    \n",
    "***Another Example***\n",
    " \n",
    "This is a example of footnote[<sup>1</sup>](#fn1). And this is another footnote[<sup>2</sup>](#fn2). \n",
    " \n",
    " <span id=\"fn1\"> <sup>1</sup> Your footnote 1 here.</span>\n",
    " \n",
    " <span id=\"fn2\"> <sup>2</sup> Your footnote 2 here.</span>"
   ]
  },
  {
   "cell_type": "markdown",
   "metadata": {},
   "source": [
    "## Latex\n",
    "\n",
    "Switching from text mode to math mode\n",
    "\n",
    "***inline equation***\n",
    "\n",
    "$c = \\sqrt{a^{2+3} + b^2}$  \n",
    "\n",
    "$F(k) = \\int_{-\\infty}^{\\infty} f(x) e^{2\\pi i k} dx$\n",
    "\n",
    "***non-inline equations***\n",
    "\n",
    "$$c = \\sqrt{a^{2+3} + b^2}$$\n",
    "\n",
    "***non-inline equations (with auto eq number)***\n",
    "\n",
    "\\begin{equation}c = \\sqrt{a^{2+3} + b^2}\\end{equation}\n",
    "\n",
    "\\begin{equation}c = \\sqrt{a^{2+3} + b^2}\\end{equation}\n",
    "\n",
    "\\begin{equation}\\label{eq:vector_ray} \\mathbf{r} \\equiv\\begin{bmatrix}y \\\\ \\theta \\end{bmatrix}\\end{equation}\n",
    "\n",
    "Vector **r** is defined by equation $\\eqref{eq:vector_ray}$\n",
    "\n",
    "\n",
    "***\n",
    "$\\mathbf{\\text{Gradient Tree Boosting Algorithm}}$<br>\n",
    "***\n",
    "1.&emsp;Initialize model with a constant value $$f_{0}(x) = \\textrm{arg min}_{\\gamma} \\sum \\limits _{i=1} ^{N} L(y_{i}, \\gamma)$$\n",
    "2.&emsp;For m = 1 to M:<br>\n",
    "&emsp;&emsp;(a)&emsp;For $i = 1,2,...,N$ compute<br>\n",
    "    $$r_{im} = - \\displaystyle \\Bigg[\\frac{\\partial L(y_{i}, f(x_{i}))}{\\partial f(x_{i})}\\Bigg]_{f=f_{m−1}}$$\n",
    "&emsp;&emsp;(b)&emsp;Fit a regression tree to the targets $r_{im}$ giving terminal regions<br>\n",
    "&emsp;&emsp;&emsp;&emsp;$R_{jm}, j = 1, 2, . . . , J_{m}.$<br><br>\n",
    "&emsp;&emsp;(c)&emsp;For $j = 1, 2, . . . , J_{m}$ compute<br>\n",
    "$$\\gamma_{jm} = \\underset{\\gamma}{\\textrm{arg min}} \\sum \\limits _{x_{i} \\in R_{jm}} L(y_{i}, f_{m−1}(x_{i}) + \\gamma)$$\n",
    "<br>\n",
    "&emsp;&emsp;(d)&emsp;Update $f_{m}(x) = f_{m−1}(x) + \\sum _{j=1} ^{J_{m}} \\gamma_{jm} I(x \\in R_{jm})$<br><br>\n",
    "3. Output $\\hat{f}(x) = f_{M}(x)$\n",
    "***"
   ]
  },
  {
   "cell_type": "markdown",
   "metadata": {},
   "source": [
    "## Task Lists\n",
    "\n",
    "You can use a shorter word in place of a purple one. Mouseover them for hints.\n",
    "\n",
    "Adverbs and weakening phrases are helpfully shown in blue. Get rid of them and pick words with force, perhaps.\n",
    "\n",
    "Phrases in green have been marked to show passive voice.\n",
    "\n",
    "You can format your text with the toolbar.\n",
    "\n",
    "Paste in something you're working on and edit away. Or, click the Write button and compose something new.\n",
    "- [x] Write the press release\n",
    "- [ ] Update the website\n",
    "- [ ] Contact the media"
   ]
  },
  {
   "cell_type": "markdown",
   "metadata": {
    "collapsed": false
   },
   "source": [
    "## Misc\n",
    "\n",
    "~~The world is flat.~~ This is strike through.\n",
    "\n",
    "***Emoji***\n",
    "\n",
    "Gone camping! :tent: Be back soon.\n",
    "\n",
    "That is so funny! :joy:\n",
    "\n",
    "***Automatic URL Linking***\n",
    "\n",
    "Many Markdown processors automatically turn URLs into links. That means if you \n",
    "type http://www.example.com, your Markdown processor will automatically turn it \n",
    "into a link even though you haven’t used brackets.\n",
    "\n",
    "***Disabling Automatic URL Linking***\n",
    "\n",
    "`http://www.example.com`\n",
    "\n",
    "***Use lazy numbering for long lists***\n",
    "\n",
    "1.  Foo.\n",
    "1.  Bar.\n",
    "    1.  Foofoo.\n",
    "    1.  Barbar.\n",
    "1.  Baz.\n",
    "\n",
    "<br/>\n",
    "\n",
    "***Convert to latex/pdf***\n",
    "\n",
    "Without code\n",
    "\n",
    "    jupyter nbconvert --to latex --TemplateExporter.exclude_input=True 03.ipynb\n",
    "    jupyter nbconvert --to pdf --TemplateExporter.exclude_input=True 03.ipynb\n",
    "\n",
    "\n",
    "### something <h3 id=\"custom-id\">Header with id attribute</h3>\n",
    "\n",
    "[Click to goto header](#custom-id)"
   ]
  },
  {
   "cell_type": "markdown",
   "metadata": {},
   "source": [
    "# Include a Youtube Video\n",
    "\n",
    "Ref: https://stackoverflow.com/questions/14192709/is-it-possible-to-embed-youtube-vimeo-videos-in-markdown-using-a-c-sharp-markdow\n",
    "\n",
    "[![IMAGE ALT TEXT](http://img.youtube.com/vi/YOUTUBE_VIDEO_ID_HERE/0.jpg)](http://www.youtube.com/watch?v=YOUTUBE_VIDEO_ID_HERE \"Video Title\")\n",
    "\n",
    "\n",
    "[Each YouTube video has four generated images. They are predictably formatted as follows:](https://stackoverflow.com/questions/2068344/how-do-i-get-a-youtube-video-thumbnail-from-the-youtube-api)\n",
    "\n",
    "    https://img.youtube.com/vi/<insert-youtube-video-id-here>/0.jpg\n",
    "    https://img.youtube.com/vi/<insert-youtube-video-id-here>/1.jpg\n",
    "    https://img.youtube.com/vi/<insert-youtube-video-id-here>/2.jpg\n",
    "    https://img.youtube.com/vi/<insert-youtube-video-id-here>/3.jpg\n",
    "\n",
    "\n",
    "## Explanation of the Markdown\n",
    "\n",
    "If this markdown snippet looks complicated, break it down into two parts:\n",
    "\n",
    "* an image\n",
    "`![image alt text](http//example.io/link-to-image)`\n",
    "* wrapped in a link\n",
    "`[link text](http//example.io/my-link \"link title\")`\n",
    "\n",
    "## Clear Advantages\n",
    "\n",
    "While this requires a couple of extra steps (a) taking the screenshot of the video and (b) uploading it so you can use the image as your thumbnail it does have 3 clear advantages:\n",
    "\n",
    "* The person reading your markdown (or resulting html page) has a visual cue telling them they can watch the video (video controls encourage clicking)\n",
    "* You can chose a specific frame in the video to use as the thumbnail (thus making your content more engaging)\n",
    "* You can link to a specific time in the video from which play will start when the linked-image is clicked. (in our case from 35 seconds)\n",
    "\n",
    "Taking a screenshot takes a few seconds and there are keyboard shortcuts for each OS which copy the screenshot to your clipboard which means you can paste it for even faster upload."
   ]
  },
  {
   "cell_type": "markdown",
   "metadata": {},
   "source": []
  }
 ],
 "metadata": {
  "kernelspec": {
   "display_name": "Python 3",
   "language": "python",
   "name": "python3"
  },
  "language_info": {
   "codemirror_mode": {
    "name": "ipython",
    "version": 2
   },
   "file_extension": ".py",
   "mimetype": "text/x-python",
   "name": "python",
   "nbconvert_exporter": "python",
   "pygments_lexer": "ipython2",
   "version": "2.7.6"
  },
  "pycharm": {
   "stem_cell": {
    "cell_type": "raw",
    "metadata": {
     "collapsed": false
    },
    "source": []
   }
  }
 },
 "nbformat": 4,
 "nbformat_minor": 0
}

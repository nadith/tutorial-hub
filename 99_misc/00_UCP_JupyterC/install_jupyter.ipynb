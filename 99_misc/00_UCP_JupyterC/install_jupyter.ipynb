{
 "cells": [
  {
   "cell_type": "markdown",
   "metadata": {
    "collapsed": true,
    "pycharm": {
     "name": "#%% md\n"
    }
   },
   "source": [
    "# Install Jupyter on Ubunutu 16.04\n",
    "\n",
    "https://stackoverflow.com/questions/67278017/pip-command-line-importerror-no-module-named-typing\n",
    "\n",
    "https://jupyter.org/install"
   ]
  },
  {
   "cell_type": "code",
   "execution_count": null,
   "outputs": [],
   "source": [
    "wget https://bootstrap.pypa.io/pip/2.7/get-pip.py\n",
    "python get-pip.py\n",
    "\n",
    "pip install jupyterlab\n",
    "export PATH=\"$HOME/.local/bin:$PATH\"\n",
    "jupyter-lab\n"
   ],
   "metadata": {
    "collapsed": false,
    "pycharm": {
     "name": "#%%\n"
    }
   }
  },
  {
   "cell_type": "markdown",
   "source": [
    "## Install C Kernel\n",
    "\n",
    "https://xuedong.github.io/programming/2017/12/27/jupyter-c-kernel.html\n",
    "\n",
    "https://github.com/brendan-rius/jupyter-c-kernel/issues/34"
   ],
   "metadata": {
    "collapsed": false,
    "pycharm": {
     "name": "#%% md\n"
    }
   }
  },
  {
   "cell_type": "code",
   "execution_count": null,
   "outputs": [],
   "source": [
    "sudo pip install jupyter-c-kernel\n",
    "sudo install_c_kernel"
   ],
   "metadata": {
    "collapsed": false,
    "pycharm": {
     "name": "#%%\n"
    }
   }
  }
 ],
 "metadata": {
  "kernelspec": {
   "display_name": "Python 3",
   "language": "python",
   "name": "python3"
  },
  "language_info": {
   "codemirror_mode": {
    "name": "ipython",
    "version": 2
   },
   "file_extension": ".py",
   "mimetype": "text/x-python",
   "name": "python",
   "nbconvert_exporter": "python",
   "pygments_lexer": "ipython2",
   "version": "2.7.6"
  }
 },
 "nbformat": 4,
 "nbformat_minor": 0
}
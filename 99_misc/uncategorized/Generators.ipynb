{
 "cells": [
  {
   "cell_type": "markdown",
   "metadata": {
    "collapsed": true,
    "pycharm": {
     "name": "#%% md\n"
    }
   },
   "source": [
    "Ref: https://realpython.com/introduction-to-python-generators/\n",
    "\n",
    "## Generator Expressions\n",
    "You can also define a generator expression (also called a generator comprehension), which has a very similar syntax to \n",
    "list comprehensions. In this way, you can use the generator without calling a function:"
   ]
  },
  {
   "cell_type": "code",
   "execution_count": 4,
   "outputs": [
    {
     "name": "stdout",
     "text": [
      "[0, 1, 4, 9, 16]\n",
      "<generator object <genexpr> at 0x0000012D474B87B0>\n"
     ],
     "output_type": "stream"
    }
   ],
   "source": [
    "nums_squared_lc = [num**2 for num in range(5)]  # list comprehension\n",
    "print(nums_squared_lc)\n",
    "\n",
    "nums_squared_gc = (num**2 for num in range(5))  # generator\n",
    "print(nums_squared_gc)"
   ],
   "metadata": {
    "collapsed": false,
    "pycharm": {
     "name": "#%%\n",
     "is_executing": false
    }
   }
  },
  {
   "cell_type": "markdown",
   "source": [
    "## Generators\n",
    "Using `yield` will result in a generator object.\n",
    "\n",
    "**Generating infinite sequence**"
   ],
   "metadata": {
    "collapsed": false,
    "pycharm": {
     "name": "#%% md\n"
    }
   }
  },
  {
   "cell_type": "code",
   "execution_count": 2,
   "outputs": [
    {
     "name": "stdout",
     "output_type": "stream",
     "text": [
      "0 1 2 3 4 5 6 7 8 9 10 11 12 13 14 15 16 17 18 19 20 21 22 23 24 25 26 27 28 29 30 31 32 33 34 35 36 37 38 39 40 41 42 43 44 45 46 47 48 49 50 51 52 53 54 55 56 57 58 59 60 61 62 63 64 65 66 67 68 69 70 71 72 73 74 75 76 77 78 79 80 81 82 83 84 85 86 87 88 89 90 91 92 93 94 95 96 97 98 99 100 "
     ]
    }
   ],
   "source": [
    "def infinite_sequence():\n",
    "    num = 0\n",
    "    while True:\n",
    "        yield num\n",
    "        num += 1\n",
    "        \n",
    "for i in infinite_sequence():   \n",
    "    print(i, end=\" \")\n",
    "    if i == 100: break;\n",
    "    "
   ],
   "metadata": {
    "collapsed": false,
    "pycharm": {
     "name": "#%%\n"
    }
   }
  },
  {
   "cell_type": "markdown",
   "source": [
    "Instead of using a **`for`** loop, you can also call **`next()`** on the generator object directly.\n",
    "    "
   ],
   "metadata": {
    "collapsed": false,
    "pycharm": {
     "name": "#%% md\n"
    }
   }
  },
  {
   "cell_type": "code",
   "execution_count": 3,
   "outputs": [
    {
     "data": {
      "text/plain": "3"
     },
     "execution_count": 3,
     "metadata": {},
     "output_type": "execute_result"
    }
   ],
   "source": [
    "gen = infinite_sequence()\n",
    "next(gen)\n",
    "next(gen)\n",
    "next(gen)\n",
    "next(gen)"
   ],
   "metadata": {
    "collapsed": false,
    "pycharm": {
     "name": "#%%\n"
    }
   }
  },
  {
   "cell_type": "markdown",
   "source": [
    "***Note:***\n",
    "\n",
    "In practice, you’re unlikely to write your own infinite sequence generator. The **`itertools`** module provides \n",
    "a very efficient infinite sequence generator with **`itertools.count()`**"
   ],
   "metadata": {
    "collapsed": false,
    "pycharm": {
     "name": "#%% md\n"
    }
   }
  },
  {
   "cell_type": "markdown",
   "source": [
    "## Object Oriented Approach for Iterators and Generators\n",
    "\n",
    "Python iterators must implement the iterator interface (`__iter__()`, `__next__()` methods).\n",
    "\n",
    "**Iterators:** Must raise `StopIteration()` exception to stop iteration\n",
    "\n",
    "**Generators:** must reach the end of the function to exhaust the generator "
   ],
   "metadata": {
    "collapsed": false,
    "pycharm": {
     "name": "#%% md\n"
    }
   }
  },
  {
   "cell_type": "code",
   "execution_count": 5,
   "outputs": [],
   "source": [
    "class PowTwo:\n",
    "    \"\"\"Class to implement an iterator, and generator both !\n",
    "    for powers of two\"\"\"\n",
    "\n",
    "    def __init__(self, max=0):\n",
    "        self.max = max\n",
    "\n",
    "    def __iter__(self):\n",
    "        # Iterator interface\n",
    "        self.n = 0\n",
    "        return self\n",
    "\n",
    "    def __next__(self):\n",
    "        # Iterator interface\n",
    "        if self.n <= self.max:\n",
    "            result = 2 ** self.n\n",
    "            self.n += 1\n",
    "            return result\n",
    "\n",
    "        else:\n",
    "            raise StopIteration\n",
    "\n",
    "    def __call__(self):\n",
    "        # Generator with yield\n",
    "        i = 10\n",
    "        while (True):\n",
    "            i = i + 1\n",
    "            yield i\n",
    "            if i == 20: break;\n",
    "\n",
    "# Create an object\n",
    "numbers = PowTwo(3)\n",
    "\n"
   ],
   "metadata": {
    "collapsed": false,
    "pycharm": {
     "name": "#%%\n"
    }
   }
  },
  {
   "cell_type": "markdown",
   "source": [
    "Manually iterating the iterable object `numbers` via creating an iterator with `iter(..)`"
   ],
   "metadata": {
    "collapsed": false,
    "pycharm": {
     "name": "#%% md\n",
     "is_executing": false
    }
   }
  },
  {
   "cell_type": "code",
   "execution_count": 6,
   "outputs": [
    {
     "name": "stdout",
     "output_type": "stream",
     "text": [
      "<__main__.PowTwo object at 0x000001F502C45460>\n",
      "1\n",
      "2\n",
      "4\n",
      "8\n",
      "1\n",
      "[1, 2, 4, 8]\n"
     ]
    }
   ],
   "source": [
    "# Create an iterator from the object\n",
    "iter_obj = iter(numbers)  # calls __iter__() method\n",
    "print(iter_obj)\n",
    "\n",
    "# Using next to get to the next iterator element\n",
    "print(next(iter_obj))  # calls __next__() method\n",
    "print(next(iter_obj))  # calls __next__() method\n",
    "print(next(numbers))  # next can be used with iterator object or the iterable directly\n",
    "print(next(numbers))  \n",
    "\n",
    "# iter on a iterator itself will call __iter__() again\n",
    "iter_obj = iter(iter_obj)\n",
    "print(next(iter_obj)) \n",
    "\n",
    "# Calls __iter__() and then __next__() in subsequent calls\n",
    "# Use where iterable object is expected\n",
    "print(list(numbers))"
   ],
   "metadata": {
    "collapsed": false,
    "pycharm": {
     "name": "#%%\n"
    }
   }
  },
  {
   "cell_type": "markdown",
   "source": [
    "Iterating the iterable object `numbers` via `for` loop\n",
    "\n",
    "with `for` loop, iterable and iterator object itself could be used."
   ],
   "metadata": {
    "collapsed": false
   }
  },
  {
   "cell_type": "code",
   "execution_count": 7,
   "outputs": [
    {
     "name": "stdout",
     "output_type": "stream",
     "text": [
      "1 2 4 8 \n",
      "1\n",
      "1 2 4 8 "
     ]
    }
   ],
   "source": [
    "# When used with for loop\n",
    "# 1st, temp_iter = iter(numbers) will be called\n",
    "# 2nd, next(temp_iter) or __getitem__(...) will be called subsequently\n",
    "for i in numbers:   \n",
    "    print(i, end=\" \")\n",
    "\n",
    "print()\n",
    "iter_obj = iter(numbers)\n",
    "print(next(iter_obj))\n",
    "for i in iter_obj:   \n",
    "    print(i, end=\" \")\n",
    "    "
   ],
   "metadata": {
    "collapsed": false,
    "pycharm": {
     "name": "#%%\n"
    }
   }
  },
  {
   "cell_type": "markdown",
   "source": [
    "## [Iteratable vs Iterator](https://www.geeksforgeeks.org/python-difference-iterable-iterator/)\n",
    "\n",
    "**Iterable is an object**, which one can iterate over. It **generates an Iterator when passed to `iter()`** method. \n",
    "**Iterator is an object**, which is used to iterate over an iterable object using `__next__()` method. \n",
    "Iterators have `__next__()` method, which returns the next item of the object.\n",
    "\n",
    "**Every iterator is also an iterable**, but **not every iterable is an iterator**. For example, a list is iterable \n",
    "but a list is not an iterator.\n",
    "\n",
    "***An iterator can be created from an iterable by using the function `iter()`*** \n",
    "\n",
    "---\n",
    "### In Python, iterable and iterator have specific meanings.\n",
    "\n",
    "An **iterable is an object** that has an **`__iter__`** method which **returns an iterator**, **or** which **defines a \n",
    "`__getitem__`** method that can take **sequential indexes starting from zero**\n",
    "(and raises an IndexError when the indexes are no longer valid). So an iterable is an object that you can get an \n",
    "iterator from.\n",
    "\n",
    "An **iterator is an object with** a next (Python 2) or **`__next__`** (Python 3) method.\n",
    "\n",
    "Whenever you use a for loop, or map, or a list comprehension, etc. in Python, the next method is called automatically \n",
    "to get each item from the iterator, thus going through the process of iteration.\n",
    "\n",
    "A good place to start learning would be the [iterators section of the tutorial](https://docs.python.org/3/tutorial/classes.html#iterators)\n",
    "and the [iterator types section](https://docs.python.org/dev/library/stdtypes.html#iterator-types)\n",
    "of the standard types page. After you understand the basics, try the \n",
    "[iterators section of the Functional Programming HOWTO](https://docs.python.org/dev/howto/functional.html#iterators)\n",
    "\n",
    "Ref: https://stackoverflow.com/questions/9884132/what-exactly-are-iterator-iterable-and-iteration"
   ],
   "metadata": {
    "collapsed": false,
    "pycharm": {
     "name": "#%% md\n"
    }
   }
  },
  {
   "cell_type": "code",
   "execution_count": 17,
   "outputs": [
    {
     "name": "stdout",
     "text": [
      "Berlin\n",
      "Vienna\n",
      "Vienna\n"
     ],
     "output_type": "stream"
    },
    {
     "traceback": [
      "\u001B[1;31m---------------------------------------------------------------------------\u001B[0m",
      "\u001B[1;31mTypeError\u001B[0m                                 Traceback (most recent call last)",
      "\u001B[1;32m<ipython-input-17-ef2d7984523f>\u001B[0m in \u001B[0;36m<module>\u001B[1;34m\u001B[0m\n\u001B[0;32m      9\u001B[0m \u001B[0mprint\u001B[0m\u001B[1;33m(\u001B[0m\u001B[0mcities\u001B[0m\u001B[1;33m.\u001B[0m\u001B[0m__getitem__\u001B[0m\u001B[1;33m(\u001B[0m\u001B[1;36m1\u001B[0m\u001B[1;33m)\u001B[0m\u001B[1;33m)\u001B[0m\u001B[1;33m\u001B[0m\u001B[1;33m\u001B[0m\u001B[0m\n\u001B[0;32m     10\u001B[0m \u001B[1;33m\u001B[0m\u001B[0m\n\u001B[1;32m---> 11\u001B[1;33m \u001B[0mprint\u001B[0m\u001B[1;33m(\u001B[0m\u001B[0mnext\u001B[0m\u001B[1;33m(\u001B[0m\u001B[0mcities\u001B[0m\u001B[1;33m)\u001B[0m\u001B[1;33m)\u001B[0m  \u001B[1;31m# ERROR: list is not an iterator\u001B[0m\u001B[1;33m\u001B[0m\u001B[1;33m\u001B[0m\u001B[0m\n\u001B[0m",
      "\u001B[1;31mTypeError\u001B[0m: 'list' object is not an iterator"
     ],
     "ename": "TypeError",
     "evalue": "'list' object is not an iterator",
     "output_type": "error"
    }
   ],
   "source": [
    "# list of cities\n",
    "cities = [\"Berlin\", \"Vienna\", \"Zurich\"]\n",
    "\n",
    "# initialize the object\n",
    "iterator_obj = iter(cities)\n",
    "\n",
    "print(next(iterator_obj))\n",
    "print(next(iterator_obj))\n",
    "print(cities.__getitem__(1))  # list defines a __getitem__(...) method since it is a iterable object\n",
    "print(next(cities))  # ERROR: list is not an iterator, does not define __next__() method"
   ],
   "metadata": {
    "collapsed": false,
    "pycharm": {
     "name": "#%%\n",
     "is_executing": false
    }
   }
  },
  {
   "cell_type": "markdown",
   "source": [
    "**Create an Generator**\n",
    "\n",
    "Call a method that yields. Use in a `for` loop or any place where iterable objects are allowed.\n",
    "\n",
    "Also, `next(...)` can be used to manual iteration with generators "
   ],
   "metadata": {
    "collapsed": false
   }
  },
  {
   "cell_type": "code",
   "execution_count": 9,
   "outputs": [
    {
     "name": "stdout",
     "output_type": "stream",
     "text": [
      "11\n",
      "12 13 14 15 16 17 18 19 20 \n",
      "11 12 13 14 15 16 17 18 19 20 \n",
      "[11, 12, 13, 14, 15, 16, 17, 18, 19, 20]\n",
      "(11, 12, 13, 14, 15, 16, 17, 18, 19, 20)\n",
      "numbersGen with for loop:\n",
      "1 2 4 8 "
     ]
    }
   ],
   "source": [
    "gen = numbers()  # calls __call__() method\n",
    "print(next(gen))  # does not call __next__() method, since this is a generator\n",
    "\n",
    "# When used with for loop, unlike iterables\n",
    "# next(temp_iter) or __getitem__(...) will be called on generator\n",
    "for i in gen:    \n",
    "    print(i, end=\" \")\n",
    "\n",
    "print()\n",
    "# Calls next(...) on a newly created generator\n",
    "for i in numbers():    \n",
    "    print(i, end=\" \")\n",
    "   \n",
    "print()\n",
    "# Calls next(...) on a newly created generator\n",
    "print(list(numbers()))\n",
    "print(tuple(numbers()))\n",
    "\n",
    "\n",
    "class PowTwoGen:\n",
    "    \"\"\"Class to implement an generator only !\n",
    "    for powers of two\"\"\"\n",
    "\n",
    "    def __init__(self, max=0):\n",
    "        self.max = max\n",
    "        self.n = 0\n",
    "\n",
    "    def __iter__(self):   \n",
    "        while True:        \n",
    "            if self.n <= self.max:\n",
    "                result = 2 ** self.n\n",
    "                self.n += 1\n",
    "                yield result\n",
    "                \n",
    "            else:\n",
    "                break\n",
    "                \n",
    "    def __getitem__(self, idx):\n",
    "        return 1\n",
    "\n",
    "# Create an object\n",
    "numbersGen = PowTwoGen(3)\n",
    "\n",
    "print(\"numbersGen with for loop:\")\n",
    "# When used with for loop\n",
    "# 1st, temp_gen = iter(numbers) will be called\n",
    "# 2nd, next(temp_gen) will be called on the generator subsequently\n",
    "# __getitem__(...) will NOT be called\n",
    "for i in numbersGen:    \n",
    "    print(i, end=\" \")"
   ],
   "metadata": {
    "collapsed": false,
    "pycharm": {
     "name": "#%%\n"
    }
   }
  },
  {
   "cell_type": "markdown",
   "source": [
    "# TODO: Example of class with `__iter__()` and `__getitem__()`"
   ],
   "metadata": {
    "collapsed": false
   }
  },
  {
   "cell_type": "markdown",
   "source": [
    "**File Handling with Itertor**\n",
    "\n",
    "`open(...)` returns a iterator"
   ],
   "metadata": {
    "collapsed": false
   }
  },
  {
   "cell_type": "code",
   "execution_count": 24,
   "outputs": [
    {
     "data": {
      "text/plain": "'This is text line 1, This is text line 11\\n'"
     },
     "metadata": {},
     "output_type": "execute_result",
     "execution_count": 24
    }
   ],
   "source": [
    "iter_obj = open(\"data.txt\", \"r\")  # returns a generator\n",
    "next(iter_obj)"
   ],
   "metadata": {
    "collapsed": false,
    "pycharm": {
     "name": "#%%\n",
     "is_executing": false
    }
   }
  },
  {
   "cell_type": "markdown",
   "source": [
    "## Profiling\n",
    "If the list is smaller than the running machine’s available memory, then list comprehensions can be faster to evaluate \n",
    "than the equivalent generator expression. This is due to the `next` function call overhead in generators\n",
    "\n",
    "Why generators too slow? https://stackoverflow.com/questions/11964130/list-comprehension-vs-generator-expressions-weird-timeit-results/11964478#11964478"
   ],
   "metadata": {
    "collapsed": false
   }
  },
  {
   "cell_type": "code",
   "execution_count": 5,
   "outputs": [
    {
     "name": "stdout",
     "text": [
      "         5 function calls in 0.001 seconds\n",
      "\n",
      "   Ordered by: standard name\n",
      "\n",
      "   ncalls  tottime  percall  cumtime  percall filename:lineno(function)\n",
      "        1    0.001    0.001    0.001    0.001 <string>:1(<listcomp>)\n",
      "        1    0.000    0.000    0.001    0.001 <string>:1(<module>)\n",
      "        1    0.000    0.000    0.001    0.001 {built-in method builtins.exec}\n",
      "        1    0.000    0.000    0.000    0.000 {built-in method builtins.sum}\n",
      "        1    0.000    0.000    0.000    0.000 {method 'disable' of '_lsprof.Profiler' objects}\n",
      "\n",
      "\n",
      "         10005 function calls in 0.005 seconds\n",
      "\n",
      "   Ordered by: standard name\n",
      "\n",
      "   ncalls  tottime  percall  cumtime  percall filename:lineno(function)\n",
      "    10001    0.003    0.000    0.003    0.000 <string>:1(<genexpr>)\n",
      "        1    0.000    0.000    0.005    0.005 <string>:1(<module>)\n",
      "        1    0.000    0.000    0.005    0.005 {built-in method builtins.exec}\n",
      "        1    0.002    0.002    0.005    0.005 {built-in method builtins.sum}\n",
      "        1    0.000    0.000    0.000    0.000 {method 'disable' of '_lsprof.Profiler' objects}\n",
      "\n",
      "\n"
     ],
     "output_type": "stream"
    }
   ],
   "source": [
    "import cProfile\n",
    "cProfile.run('sum([i * 2 for i in range(10000)])')\n",
    "cProfile.run('sum((i * 2 for i in range(10000)))')\n",
    " "
   ],
   "metadata": {
    "collapsed": false,
    "pycharm": {
     "name": "#%%\n",
     "is_executing": false
    }
   }
  }
 ],
 "metadata": {
  "kernelspec": {
   "display_name": "Python 3",
   "language": "python",
   "name": "python3"
  },
  "language_info": {
   "codemirror_mode": {
    "name": "ipython",
    "version": 2
   },
   "file_extension": ".py",
   "mimetype": "text/x-python",
   "name": "python",
   "nbconvert_exporter": "python",
   "pygments_lexer": "ipython2",
   "version": "2.7.6"
  }
 },
 "nbformat": 4,
 "nbformat_minor": 0
}
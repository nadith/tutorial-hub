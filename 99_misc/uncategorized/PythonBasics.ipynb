{
 "cells": [
  {
   "cell_type": "markdown",
   "metadata": {
    "collapsed": true,
    "pycharm": {
     "name": "#%% md\n"
    }
   },
   "source": [
    "## The @property Decorator\n",
    "In Python, property() is a built-in function that creates and returns a property object. The syntax of this function is:\n",
    "\n",
    "https://www.programiz.com/python-programming/property\n",
    "\n",
    "    property(fget=None, fset=None, fdel=None, doc=None)\n",
    "    \n",
    "where,\n",
    "\n",
    "- fget is function to get value of the attribute\n",
    "- fset is function to set value of the attribute\n",
    "- fdel is function to delete the attribute\n",
    "- doc is a string (like a comment)\n",
    "\n",
    "As seen from the implementation, these function arguments are optional. So, a property object can simply be \n",
    "created as follows.\n",
    "\n",
    "A property object has three methods, getter(), setter(), and deleter() to specify fget, fset and fdel at a later point. \n",
    "This means, the line:\n",
    "\n",
    "A property object has three methods, getter(), setter(), and deleter() to specify fget, fset and fdel at a later point.\n",
    "This means, the line:\n",
    "\n",
    "    temperature = property(get_temperature,set_temperature)\n",
    "\n",
    "can be broken down as:"
   ]
  },
  {
   "cell_type": "code",
   "execution_count": 5,
   "outputs": [
    {
     "name": "stdout",
     "text": [
      "<property object at 0x00000179B32F6C20>\n"
     ],
     "output_type": "stream"
    },
    {
     "traceback": [
      "\u001B[1;31m---------------------------------------------------------------------------\u001B[0m",
      "\u001B[1;31mAttributeError\u001B[0m                            Traceback (most recent call last)",
      "\u001B[1;32m<ipython-input-5-bb22972c4574>\u001B[0m in \u001B[0;36m<module>\u001B[1;34m\u001B[0m\n\u001B[0;32m     14\u001B[0m \u001B[0mprint\u001B[0m\u001B[1;33m(\u001B[0m\u001B[0mtemperature\u001B[0m\u001B[1;33m)\u001B[0m\u001B[1;33m\u001B[0m\u001B[1;33m\u001B[0m\u001B[0m\n\u001B[0;32m     15\u001B[0m \u001B[1;33m\u001B[0m\u001B[0m\n\u001B[1;32m---> 16\u001B[1;33m \u001B[0mtemperature\u001B[0m\u001B[1;33m.\u001B[0m\u001B[0m__dict__\u001B[0m\u001B[1;33m\u001B[0m\u001B[1;33m\u001B[0m\u001B[0m\n\u001B[0m\u001B[0;32m     17\u001B[0m \u001B[1;33m\u001B[0m\u001B[0m\n",
      "\u001B[1;31mAttributeError\u001B[0m: 'property' object has no attribute '__dict__'"
     ],
     "ename": "AttributeError",
     "evalue": "'property' object has no attribute '__dict__'",
     "output_type": "error"
    }
   ],
   "source": [
    "def get_temperature():\n",
    "    return 100\n",
    "\n",
    "def set_temperature(value):\n",
    "   print(value)\n",
    "\n",
    "# make empty property\n",
    "temperature = property()\n",
    "\n",
    "# assign fget\n",
    "temperature = temperature.getter(get_temperature)\n",
    "\n",
    "# assign fset\n",
    "temperature = temperature.setter(set_temperature)\n",
    "\n",
    "print(temperature)"
   ],
   "metadata": {
    "collapsed": false,
    "pycharm": {
     "name": "#%%\n",
     "is_executing": false
    }
   }
  },
  {
   "cell_type": "markdown",
   "source": [
    "These two pieces of codes are equivalent.\n",
    "\n",
    "Programmers familiar with Python Decorators can recognize that the above construct can be implemented as decorators.\n",
    "\n",
    "We can even not define the names get_temperature and set_temperature as they are unnecessary and pollute the class \n",
    "namespace.\n",
    "\n",
    "For this, we reuse the temperature name while defining our getter and setter functions. Let's look at how to implement \n",
    "this as a decorator:"
   ],
   "metadata": {
    "collapsed": false,
    "pycharm": {
     "name": "#%% md\n"
    }
   }
  },
  {
   "cell_type": "code",
   "source": [
    "# Using @property decorator\n",
    "class Celsius:\n",
    "    def __init__(self, temperature=0):\n",
    "        self.temperature = temperature\n",
    "\n",
    "    def to_fahrenheit(self):\n",
    "        return (self.temperature * 1.8) + 32\n",
    "\n",
    "    @property\n",
    "    def temperature(self):\n",
    "        print(\"Getting value...\")\n",
    "        return self._temperature\n",
    "\n",
    "    @temperature.setter\n",
    "    def temperature(self, value):\n",
    "        print(\"Setting value...\")\n",
    "        if value < -273.15:\n",
    "            raise ValueError(\"Temperature below -273 is not possible\")\n",
    "        self._temperature = value\n",
    "\n",
    "\n",
    "# create an object\n",
    "human = Celsius(37)\n",
    "\n",
    "print(human.temperature)\n",
    "\n",
    "print(human.to_fahrenheit())\n",
    "\n",
    "coldest_thing = Celsius(-300)\n"
   ],
   "metadata": {
    "collapsed": false,
    "pycharm": {
     "name": "#%%\n",
     "is_executing": false
    }
   },
   "execution_count": 7,
   "outputs": [
    {
     "name": "stdout",
     "text": [
      "Setting value...\n",
      "Getting value...\n",
      "37\n",
      "Getting value...\n",
      "98.60000000000001\n",
      "Setting value...\n"
     ],
     "output_type": "stream"
    },
    {
     "traceback": [
      "\u001B[1;31m---------------------------------------------------------------------------\u001B[0m",
      "\u001B[1;31mValueError\u001B[0m                                Traceback (most recent call last)",
      "\u001B[1;32m<ipython-input-7-aebf63a39376>\u001B[0m in \u001B[0;36m<module>\u001B[1;34m\u001B[0m\n\u001B[0;32m     27\u001B[0m \u001B[0mprint\u001B[0m\u001B[1;33m(\u001B[0m\u001B[0mhuman\u001B[0m\u001B[1;33m.\u001B[0m\u001B[0mto_fahrenheit\u001B[0m\u001B[1;33m(\u001B[0m\u001B[1;33m)\u001B[0m\u001B[1;33m)\u001B[0m\u001B[1;33m\u001B[0m\u001B[1;33m\u001B[0m\u001B[0m\n\u001B[0;32m     28\u001B[0m \u001B[1;33m\u001B[0m\u001B[0m\n\u001B[1;32m---> 29\u001B[1;33m \u001B[0mcoldest_thing\u001B[0m \u001B[1;33m=\u001B[0m \u001B[0mCelsius\u001B[0m\u001B[1;33m(\u001B[0m\u001B[1;33m-\u001B[0m\u001B[1;36m300\u001B[0m\u001B[1;33m)\u001B[0m\u001B[1;33m\u001B[0m\u001B[1;33m\u001B[0m\u001B[0m\n\u001B[0m",
      "\u001B[1;32m<ipython-input-7-aebf63a39376>\u001B[0m in \u001B[0;36m__init__\u001B[1;34m(self, temperature)\u001B[0m\n\u001B[0;32m      2\u001B[0m \u001B[1;32mclass\u001B[0m \u001B[0mCelsius\u001B[0m\u001B[1;33m:\u001B[0m\u001B[1;33m\u001B[0m\u001B[1;33m\u001B[0m\u001B[0m\n\u001B[0;32m      3\u001B[0m     \u001B[1;32mdef\u001B[0m \u001B[0m__init__\u001B[0m\u001B[1;33m(\u001B[0m\u001B[0mself\u001B[0m\u001B[1;33m,\u001B[0m \u001B[0mtemperature\u001B[0m\u001B[1;33m=\u001B[0m\u001B[1;36m0\u001B[0m\u001B[1;33m)\u001B[0m\u001B[1;33m:\u001B[0m\u001B[1;33m\u001B[0m\u001B[1;33m\u001B[0m\u001B[0m\n\u001B[1;32m----> 4\u001B[1;33m         \u001B[0mself\u001B[0m\u001B[1;33m.\u001B[0m\u001B[0mtemperature\u001B[0m \u001B[1;33m=\u001B[0m \u001B[0mtemperature\u001B[0m\u001B[1;33m\u001B[0m\u001B[1;33m\u001B[0m\u001B[0m\n\u001B[0m\u001B[0;32m      5\u001B[0m \u001B[1;33m\u001B[0m\u001B[0m\n\u001B[0;32m      6\u001B[0m     \u001B[1;32mdef\u001B[0m \u001B[0mto_fahrenheit\u001B[0m\u001B[1;33m(\u001B[0m\u001B[0mself\u001B[0m\u001B[1;33m)\u001B[0m\u001B[1;33m:\u001B[0m\u001B[1;33m\u001B[0m\u001B[1;33m\u001B[0m\u001B[0m\n",
      "\u001B[1;32m<ipython-input-7-aebf63a39376>\u001B[0m in \u001B[0;36mtemperature\u001B[1;34m(self, value)\u001B[0m\n\u001B[0;32m     16\u001B[0m         \u001B[0mprint\u001B[0m\u001B[1;33m(\u001B[0m\u001B[1;34m\"Setting value...\"\u001B[0m\u001B[1;33m)\u001B[0m\u001B[1;33m\u001B[0m\u001B[1;33m\u001B[0m\u001B[0m\n\u001B[0;32m     17\u001B[0m         \u001B[1;32mif\u001B[0m \u001B[0mvalue\u001B[0m \u001B[1;33m<\u001B[0m \u001B[1;33m-\u001B[0m\u001B[1;36m273.15\u001B[0m\u001B[1;33m:\u001B[0m\u001B[1;33m\u001B[0m\u001B[1;33m\u001B[0m\u001B[0m\n\u001B[1;32m---> 18\u001B[1;33m             \u001B[1;32mraise\u001B[0m \u001B[0mValueError\u001B[0m\u001B[1;33m(\u001B[0m\u001B[1;34m\"Temperature below -273 is not possible\"\u001B[0m\u001B[1;33m)\u001B[0m\u001B[1;33m\u001B[0m\u001B[1;33m\u001B[0m\u001B[0m\n\u001B[0m\u001B[0;32m     19\u001B[0m         \u001B[0mself\u001B[0m\u001B[1;33m.\u001B[0m\u001B[0m_temperature\u001B[0m \u001B[1;33m=\u001B[0m \u001B[0mvalue\u001B[0m\u001B[1;33m\u001B[0m\u001B[1;33m\u001B[0m\u001B[0m\n\u001B[0;32m     20\u001B[0m \u001B[1;33m\u001B[0m\u001B[0m\n",
      "\u001B[1;31mValueError\u001B[0m: Temperature below -273 is not possible"
     ],
     "ename": "ValueError",
     "evalue": "Temperature below -273 is not possible",
     "output_type": "error"
    }
   ]
  },
  {
   "cell_type": "markdown",
   "source": [
    "## Support for Type Hints\n",
    "\n",
    "https://docs.python.org/3/library/typing.html\n"
   ],
   "metadata": {
    "collapsed": false,
    "pycharm": {
     "name": "#%% md\n"
    }
   }
  },
  {
   "cell_type": "markdown",
   "source": [
    "## Path / File / Directory Handling\n",
    "\n",
    "https://treyhunner.com/2018/12/why-you-should-be-using-pathlib/#:~:text=The%20os%20module%20is%20a,nested%20string%2Diful%20function%20calls.\n",
    "\n",
    "\n",
    "## Python Function Closures / nonlocal Variables\n",
    "\n",
    "https://zetcode.com/python/python-closures/ \n",
    "https://www.w3schools.com/python/ref_keyword_nonlocal.asp\n",
    "https://towardsdatascience.com/global-local-and-nonlocal-variables-in-python-6b11c20d73b0\n",
    "\n",
    "## Sampling\n",
    "\n",
    "https://pynative.com/python-random-sample/\n",
    "\n",
    "\n",
    "## Unit Testing\n",
    "\n",
    "https://www.toptal.com/python/an-introduction-to-mocking-in-python\n",
    "\n",
    "\n",
    "## Bound Methods Python\n",
    "\n",
    "https://www.geeksforgeeks.org/bound-methods-python/\n",
    "\n",
    "\n",
    "# `with` Statement vs Context Manger\n",
    "\n",
    "https://www.python.org/dev/peps/pep-0343/"
   ],
   "metadata": {
    "collapsed": false,
    "pycharm": {
     "name": "#%% md\n"
    }
   }
  },
  {
   "cell_type": "code",
   "execution_count": null,
   "outputs": [],
   "source": [
    "# 01. using with statement \n",
    "class Meter():\n",
    "    def __init__(self, dev):\n",
    "        self.dev = dev\n",
    "    def __enter__(self):\n",
    "        #ttysetattr etc goes here before opening and returning the file object\n",
    "        self.fd = open(self.dev, MODE)\n",
    "        return self.fd\n",
    "    def __exit__(self, type, value, traceback):\n",
    "        #Exception handling here\n",
    "        close(self.fd)\n",
    "\n",
    "meter = Meter('dev/tty0')\n",
    "with meter as m:\n",
    "    #here you work with the file object.\n",
    "    m.read()\n",
    "\n",
    "\n",
    "# using context manager\n",
    "import contextlib\n",
    "\n",
    "@contextlib.contextmanager\n",
    "def themeter(name):\n",
    "    theobj = Meter(name)\n",
    "    yield theobj\n",
    "    theobj.close()  # or whatever you need to do at exit\n"
   ],
   "metadata": {
    "collapsed": false,
    "pycharm": {
     "name": "#%%\n"
    }
   }
  },
  {
   "cell_type": "markdown",
   "source": [
    "# Operator Overloading\n",
    "https://realpython.com/operator-function-overloading/#shortcuts-the-operator\n",
    "\n",
    "## Shortcuts: the += Operator\n",
    "\n",
    "The += operator stands as a shortcut to the expression obj1 = obj1 + obj2. The special method\n",
    "corresponding to it is __iadd__(). The __iadd__() method should make changes directly to the\n",
    "self argument and return the result, which may or may not be self. This behavior is quite\n",
    "different from __add__() since the latter creates a new object and returns that, as you saw above.\n",
    "\n",
    "Roughly, any += use on two objects is equivalent to this:\n",
    "\n",
    "    result = obj1 + obj2\n",
    "    obj1 = result\n",
    "\n",
    "Here, result is the value returned by __iadd__(). The second assignment is taken care of\n",
    "automatically by Python, meaning that you do not need to explicitly assign obj1 to the\n",
    "result as in the case of obj1 = obj1 + obj2.\n",
    "\n",
    "Let’s make this possible for the Order class so that new items can be appended to the cart using +=:"
   ],
   "metadata": {
    "collapsed": false,
    "pycharm": {
     "name": "#%% md\n"
    }
   }
  },
  {
   "cell_type": "code",
   "execution_count": 1,
   "outputs": [
    {
     "data": {
      "text/plain": "['banana', 'apple', 'mango']"
     },
     "execution_count": 1,
     "metadata": {},
     "output_type": "execute_result"
    }
   ],
   "source": [
    "class Order:\n",
    "    def __init__(self, cart, customer):\n",
    "        self.cart = list(cart)\n",
    "        self.customer = customer\n",
    "\n",
    "    def __iadd__(self, other):\n",
    "        self.cart.append(other)\n",
    "        return self\n",
    "\n",
    "order = Order(['banana', 'apple'], 'Real Python')\n",
    "order += 'mango'\n",
    "order.cart"
   ],
   "metadata": {
    "collapsed": false,
    "pycharm": {
     "name": "#%%\n"
    }
   }
  },
  {
   "cell_type": "markdown",
   "source": [
    "Since all Python functions (or methods) return None implicitly, order is reassigned to None and\n",
    "the REPL session doesn’t show any output when order is inspected. Looking at the type of order,\n",
    "you see that it is now NoneType. Therefore, always make sure that you’re returning something in\n",
    "your implementation of __iadd__() and that it is the result of the operation and not anything else."
   ],
   "metadata": {
    "collapsed": false,
    "pycharm": {
     "name": "#%% md\n"
    }
   }
  },
  {
   "cell_type": "code",
   "execution_count": 2,
   "outputs": [
    {
     "data": {
      "text/plain": "NoneType"
     },
     "execution_count": 2,
     "metadata": {},
     "output_type": "execute_result"
    }
   ],
   "source": [
    "class Order:\n",
    "    def __init__(self, cart, customer):\n",
    "        self.cart = list(cart)\n",
    "        self.customer = customer\n",
    "\n",
    "    def __iadd__(self, other):\n",
    "        self.cart.append(other)\n",
    "\n",
    "order = Order(['banana', 'apple'], 'Real Python')\n",
    "order += 'mango'\n",
    "order  # No output\n",
    "type(order)"
   ],
   "metadata": {
    "collapsed": false,
    "pycharm": {
     "name": "#%%\n"
    }
   }
  },
  {
   "cell_type": "markdown",
   "source": [
    "# [`functools.partial(func, /, *args, **keywords)`](https://docs.python.org/3/library/functools.html#functools.partial)\n",
    "Return a new partial object which when called will behave like func called with the positional arguments args and\n",
    "keyword arguments keywords. If more arguments are supplied to the call, they are appended to args. If additional\n",
    "keyword arguments are supplied, they extend and override keywords. Roughly equivalent to:"
   ],
   "metadata": {
    "collapsed": false,
    "pycharm": {
     "name": "#%% md\n"
    }
   }
  },
  {
   "cell_type": "code",
   "execution_count": null,
   "outputs": [],
   "source": [
    "def partial(func, /, *args, **keywords):\n",
    "    def newfunc(*fargs, **fkeywords):\n",
    "        newkeywords = {**keywords, **fkeywords}\n",
    "        return func(*args, *fargs, **newkeywords)\n",
    "    newfunc.func = func\n",
    "    newfunc.args = args\n",
    "    newfunc.keywords = keywords\n",
    "    return newfunc"
   ],
   "metadata": {
    "collapsed": false,
    "pycharm": {
     "name": "#%%\n"
    }
   }
  },
  {
   "cell_type": "markdown",
   "source": [
    "The partial() is used for partial function application which “freezes” some portion of a function’s arguments and/or\n",
    "keywords resulting in a new object with a simplified signature. For example, partial() can be used to create a\n",
    "callable that behaves like the int() function where the base argument defaults to two:"
   ],
   "metadata": {
    "collapsed": false
   }
  },
  {
   "cell_type": "code",
   "execution_count": null,
   "outputs": [],
   "source": [
    "from functools import partial\n",
    "basetwo = partial(int, base=2)\n",
    "basetwo.__doc__ = 'Convert base 2 string to an int.'\n",
    "basetwo('10010')\n"
   ],
   "metadata": {
    "collapsed": false,
    "pycharm": {
     "name": "#%%\n"
    }
   }
  },
  {
   "cell_type": "markdown",
   "source": [
    "## Python Positional-Only Parameters\n",
    "https://www.python.org/dev/peps/pep-0570/"
   ],
   "metadata": {
    "collapsed": false,
    "pycharm": {
     "name": "#%% md\n"
    }
   }
  },
  {
   "cell_type": "code",
   "execution_count": 14,
   "outputs": [
    {
     "ename": "SyntaxError",
     "evalue": "positional argument follows keyword argument (<ipython-input-14-8a67cd3d359d>, line 11)",
     "output_type": "error",
     "traceback": [
      "\u001B[1;36m  File \u001B[1;32m\"<ipython-input-14-8a67cd3d359d>\"\u001B[1;36m, line \u001B[1;32m11\u001B[0m\n\u001B[1;33m    f_old(pos1=1, 3)  # keyword arguments must specified at the end\u001B[0m\n\u001B[1;37m                  ^\u001B[0m\n\u001B[1;31mSyntaxError\u001B[0m\u001B[1;31m:\u001B[0m positional argument follows keyword argument\n"
     ]
    }
   ],
   "source": [
    "def f_old(pos1, pos2):\n",
    "    print(\"[f_old] pos1, pos2: Positional or Keyword\")\n",
    "\n",
    "# f_old(pos1=1, 3)  # Syntax Error: keyword arguments must follow positional arguments\n",
    "f_old(2, pos2=3)  # keyword arguments must specified at the end\n",
    "\n",
    "def f(pos1, pos2, /, pos_or_kwd, *, kwd1, kwd2):\n",
    "    print(\"pos1, pos2: Positional only\")\n",
    "    print(\"pos_or_kwd: Positional or Keyword\")\n",
    "    print(\"kwd1, kwd2: Keyword only\")\n",
    "\n",
    "f(2, 3, 5, kwd2=7, kwd1=8)\n"
   ],
   "metadata": {
    "collapsed": false,
    "pycharm": {
     "name": "#%%\n"
    }
   }
  },
  {
   "cell_type": "code",
   "execution_count": null,
   "outputs": [],
   "source": [
    "# RegEx\n",
    "\n",
    "\n",
    "strPath = \"4_1_nhd_54_9_PS8_\"\n",
    "\n",
    "# txt = \"The rain in Spain\"\n",
    "# x = re.sub(\"\\d_\\d*_.*\", \"9\", strPath)\n",
    "#\n",
    "# txt = \"The rain in Spain\"\n",
    "# x = re.search(\"^The.*Spain$\", txt)\n",
    "#\n",
    "# x = re.search(\"\\d_(\\d*)_.*\", strPath)\n",
    "#\n",
    "#\n",
    "# x = re.sub('\\d_(\\d*)_.*', '\\1 10', strPath)\n",
    "#\n",
    "#\n",
    "\n",
    "str1 = '_aaa1gmailcom1'\n",
    "re.sub('_[a-z]*(\\d).*', '\\1 TEST', str1)\n",
    "string1 = 'bbb567'\n",
    "re.match(r\"(bbb).*\", string1).group(1)\n",
    "\n",
    "string1 = 'bbb567'\n",
    "re.sub(r\"(bbb).*\", r\"\\1 TEST\", string1)\n",
    "\n",
    "\n",
    "re.sub(r\"(bbb).*\", r\"\\g<1> test\", string1)\n",
    "\n",
    "# Ref: https://learnbyexample.github.io/py_regular_expressions/groupings-and-backreferences.html\n",
    "\n",
    "print(x)\n",
    "\n",
    "\n",
    "\n",
    "re.sub(r'\\[(\\d+)\\]', r'\\1', '[52] apples and [31] mangoes')\n",
    "re.sub(r'\\[(\\d+)\\] apples', r'\\1 apples', '[52] apples and [31] mangoes')\n",
    "re.sub(r'\\[(\\d+)\\](.*)\\[(\\d+)\\](.*)', r'\\1 \\2 \\3', '[52] apples and [31] mangoes')\n",
    "\n",
    "\n",
    "# duplicate first field and add it as last field\n",
    ">>> re.sub(r'\\A([^,]+),.+', r'\\g<0>,\\1', 'fork,42,nice,3.14')\n",
    "'fork,42,nice,3.14,fork'\n",
    "\n",
    "\n",
    "re.findall(r'\\[(\\d+)\\] +?', '[52] apples and [31] mangoes')\n"
   ],
   "metadata": {
    "collapsed": false,
    "pycharm": {
     "name": "#%%\n"
    }
   }
  },
  {
   "cell_type": "code",
   "execution_count": null,
   "outputs": [],
   "source": [
    "# Class, Super Class\n",
    "\n",
    "class T2:\n",
    "    def __init__(self, t2):\n",
    "        self.t2 = t2\n",
    "        pass\n",
    "\n",
    "    def print2(self):\n",
    "        print(self.t1) # if TT() is the self object, t1 will be avaialble\n",
    "        # if T2() is the self object, t1 will not be avaialble\n",
    "\n",
    "class TT(T2):\n",
    "    def __init__(self):\n",
    "        # Superclass may not need to be instantiated,\n",
    "        # Thus, t2 attribute from T2 will not be available for TT() object\n",
    "        # This is not the case of fully objected oriented programming languages like Java\n",
    "        self.t1 = 100\n",
    "        pass\n",
    "\n",
    "yy = TT()"
   ],
   "metadata": {
    "collapsed": false,
    "pycharm": {
     "name": "#%%\n"
    }
   }
  },
  {
   "cell_type": "code",
   "execution_count": null,
   "outputs": [],
   "source": [
    "# super keyword\n",
    "# Ref: https://rhettinger.wordpress.com/2011/05/26/super-considered-super/\n",
    "# Ref: https://stackoverflow.com/questions/49073934/python-super-optional-arguments-and-mechanics-of-super\n",
    "\n",
    "class Root:\n",
    "    def draw(self):\n",
    "        # the delegation chain stops here\n",
    "        assert not hasattr(super(), 'draw')\n",
    "\n",
    "class Shape(Root):\n",
    "    def __init__(self, shapename, **kwds):\n",
    "        self.shapename = shapename\n",
    "        super().__init__(**kwds)\n",
    "\n",
    "    def draw(self):\n",
    "        print('Drawing.  Setting shape to:', self.shapename)\n",
    "        super().draw()\n",
    "\n",
    "class ColoredShape(Shape):\n",
    "    def __init__(self, color, **kwds):\n",
    "        self.color = color\n",
    "        super().__init__(**kwds)\n",
    "    def draw(self):\n",
    "        print('Drawing.  Setting color to:', self.color)\n",
    "        super().draw()\n",
    "\n",
    "print(ColoredShape.__mro__)\n",
    "cs = ColoredShape(color='blue', shapename='square')\n",
    "cs.draw()\n",
    "\n",
    "# super() -> same as super(__class__, <first argument>)\n",
    "# super(type) -> unbound super object\n",
    "# super(type, obj) -> bound super object; requires isinstance(obj, type)\n",
    "# super(type, type2) -> bound super object; requires issubclass(type2, type)\n",
    "# Typical use to call a cooperative superclass method:\n",
    "# class C(B):\n",
    "#     def meth(self, arg):\n",
    "#         super().meth(arg)\n",
    "#\n",
    "# This works for class methods too:\n",
    "#     class C(B):\n",
    "#         @classmethod\n",
    "#         def cmeth(cls, arg):\n",
    "#             super().cmeth(arg)\n",
    "#\n",
    "# # (copied from class doc)"
   ],
   "metadata": {
    "collapsed": false,
    "pycharm": {
     "name": "#%%\n"
    }
   }
  },
  {
   "cell_type": "code",
   "execution_count": null,
   "outputs": [],
   "source": [
    "# Abstract Base Class\n",
    "\n",
    "# Ref: https://www.tutorialspoint.com/abstract-base-classes-in-python-abc\n",
    "import abc\n",
    "class Shape(metaclass=abc.ABCMeta):\n",
    "    @abc.abstractmethod\n",
    "    def area(self):\n",
    "        pass\n",
    "class Rectangle(Shape):\n",
    "    def __init__(self, x,y):\n",
    "        self.l = x\n",
    "        self.b=y\n",
    "    def area(self):\n",
    "        return self.l*self.b\n",
    "r = Rectangle(10,20)\n",
    "print ('area: ',r.area())\n"
   ],
   "metadata": {
    "collapsed": false,
    "pycharm": {
     "name": "#%%\n"
    }
   }
  },
  {
   "cell_type": "code",
   "execution_count": null,
   "outputs": [],
   "source": [
    "# How to use itertools groupby\n",
    "# groupby returns key, group pairs\n",
    "\n",
    "# Ref: https://stackoverflow.com/questions/773/how-do-i-use-itertools-groupby\n"
   ],
   "metadata": {
    "collapsed": false,
    "pycharm": {
     "name": "#%%\n"
    }
   }
  },
  {
   "cell_type": "code",
   "execution_count": null,
   "outputs": [],
   "source": [
    "# Type checking dynamically\n",
    "# Ref: https://stackoverflow.com/questions/152580/whats-the-canonical-way-to-check-for-type-in-python\n",
    "\n",
    "from typeguard import check_type\n",
    "from typing import List\n",
    "\n",
    "try:\n",
    "    check_type('mylist', [1, 2], List[int])\n",
    "except TypeError as e:\n",
    "    print(e)\n",
    "# You can perform very complex validations in very clean and readable fashion.\n",
    "\n",
    "check_type('foo', [1, 3.14], List[Union[int, float]])\n",
    "# vs\n",
    "isinstance(foo, list) and all(isinstance(a, (int, float)) for a in foo)"
   ],
   "metadata": {
    "collapsed": false,
    "pycharm": {
     "name": "#%%\n"
    }
   }
  }
 ],
 "metadata": {
  "kernelspec": {
   "display_name": "Python 3",
   "language": "python",
   "name": "python3"
  },
  "language_info": {
   "codemirror_mode": {
    "name": "ipython",
    "version": 2
   },
   "file_extension": ".py",
   "mimetype": "text/x-python",
   "name": "python",
   "nbconvert_exporter": "python",
   "pygments_lexer": "ipython2",
   "version": "2.7.6"
  }
 },
 "nbformat": 4,
 "nbformat_minor": 0
}
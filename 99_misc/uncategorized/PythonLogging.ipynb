{
 "cells": [
  {
   "cell_type": "markdown",
   "source": [
    "# Using Python Inbuilt Logger\n",
    "Python offers a built-in logger\n",
    "\n",
    "Ref: https://www.machinelearningplus.com/python/python-logging-guide/"
   ],
   "metadata": {
    "collapsed": false
   }
  },
  {
   "cell_type": "markdown",
   "source": [
    "## Using Root/Global Logger"
   ],
   "metadata": {
    "collapsed": false
   }
  },
  {
   "cell_type": "code",
   "execution_count": null,
   "metadata": {
    "collapsed": true
   },
   "outputs": [],
   "source": [
    "import logging\n",
    "import sys\n",
    "\n",
    "def hypotenuse(a, b):\n",
    "    \"\"\"Compute the hypotenuse\"\"\"\n",
    "    return (a**2 + b**2)**0.5\n",
    "\n",
    "logging.basicConfig(level=logging.INFO, filename='sample.log')\n",
    "\n",
    "# If the log required to be printed on standard out at the same time\n",
    "logging.getLogger().addHandler(logging.StreamHandler(sys.stdout))\n",
    "\n",
    "kwargs = {'a':3, 'b':4, 'c':hypotenuse(3, 4)}\n",
    "logging.debug(\"a = {a}, b = {b}\".format(**kwargs))\n",
    "logging.info(\"Hypotenuse of {a}, {b} is {c}\".format(**kwargs))\n",
    "logging.warning(\"a={a} and b={b} are equal\".format(**kwargs))\n",
    "logging.error(\"a={a} and b={b} cannot be negative\".format(**kwargs))\n",
    "logging.critical(\"Hypotenuse of {a}, {b} is {c}\".format(**kwargs))\n",
    "\n"
   ]
  },
  {
   "cell_type": "markdown",
   "source": [
    "## Using a new instance of the logger"
   ],
   "metadata": {
    "collapsed": false
   }
  },
  {
   "cell_type": "code",
   "execution_count": null,
   "outputs": [],
   "source": [
    "import logging\n",
    "\n",
    "def hypotenuse(a, b):\n",
    "    \"\"\"Compute the hypotenuse\"\"\"\n",
    "    return (a**2 + b**2)**0.5\n",
    "\n",
    "# Gets or creates a logger\n",
    "logger = logging.getLogger(\"name1\")  #(__name__)\n",
    "\n",
    "# set log level\n",
    "logger.setLevel(logging.WARNING)\n",
    "\n",
    "# define file handler and set formatter\n",
    "file_handler = logging.FileHandler(r'sample1.log')\n",
    "formatter    = logging.Formatter('%(asctime)s : %(levelname)s : %(name)s : %(message)s')\n",
    "file_handler.setFormatter(formatter)\n",
    "\n",
    "# add file handler to logger\n",
    "logger.addHandler(file_handler)\n",
    "\n",
    "# If the log required to be printed on standard out at the same time\n",
    "# stdout_handler = logging.StreamHandler(sys.stdout)\n",
    "# stdout_handler.setLevel(logging.WARNING)\n",
    "# stdout_handler.setFormatter(formatter)\n",
    "# logging.getLogger().addHandler(stdout_handler)\n",
    "\n",
    "kwargs = {'a':3, 'b':4, 'c':hypotenuse(3, 4)}\n",
    "\n",
    "logger.debug(\"a = {a}, b = {b}\".format(**kwargs))\n",
    "logger.info(\"Hypotenuse of {a}, {b} is {c}\".format(**kwargs))\n",
    "logger.warning(\"a={a} and b={b} are equal\".format(**kwargs))\n",
    "logger.error(\"a={a} and b={b} cannot be negative\".format(**kwargs))\n",
    "logger.critical(\"Hypotenuse of {a}, {b} is {c}\".format(**kwargs))"
   ],
   "metadata": {
    "collapsed": false,
    "pycharm": {
     "name": "#%%\n"
    }
   }
  },
  {
   "cell_type": "markdown",
   "source": [
    "### Using a custom formatter _(convert levelname to lowercase)_"
   ],
   "metadata": {
    "collapsed": false
   }
  },
  {
   "cell_type": "code",
   "execution_count": 12,
   "outputs": [
    {
     "name": "stdout",
     "output_type": "stream",
     "text": [
      "a=3 and b=4 are equal\n",
      "a=3 and b=4 are equal\n",
      "a=3 and b=4 are equal\n",
      "2022-02-22 20:24:09,469 : warning : name2 : a=3 and b=4 are equal\n",
      "2022-02-22 20:24:09,469 : warning : name2 : a=3 and b=4 are equal\n",
      "a=3 and b=4 cannot be negative\n",
      "a=3 and b=4 cannot be negative\n",
      "a=3 and b=4 cannot be negative\n",
      "2022-02-22 20:24:09,471 : error : name2 : a=3 and b=4 cannot be negative\n",
      "2022-02-22 20:24:09,471 : error : name2 : a=3 and b=4 cannot be negative\n",
      "Hypotenuse of 3, 4 is 5.0\n",
      "Hypotenuse of 3, 4 is 5.0\n",
      "Hypotenuse of 3, 4 is 5.0\n",
      "2022-02-22 20:24:09,473 : critical : name2 : Hypotenuse of 3, 4 is 5.0\n",
      "2022-02-22 20:24:09,473 : critical : name2 : Hypotenuse of 3, 4 is 5.0\n"
     ]
    }
   ],
   "source": [
    "import logging\n",
    "\n",
    "def hypotenuse(a, b):\n",
    "    \"\"\"Compute the hypotenuse\"\"\"\n",
    "    return (a**2 + b**2)**0.5\n",
    "\n",
    "class MyFormatter(logging.Formatter):\n",
    "    def format(self, record):\n",
    "        record.levelname = record.levelname.lower() # convert the levelname to lowercase\n",
    "        return logging.Formatter.format(self, record)\n",
    "\n",
    "# Gets or creates a logger\n",
    "logger = logging.getLogger(\"name2\")  #(__name__)\n",
    "\n",
    "# set log level\n",
    "logger.setLevel(logging.WARNING)\n",
    "\n",
    "# define file handler and set formatter\n",
    "file_handler = logging.FileHandler(r'sample2.log')\n",
    "\n",
    "# custom formatter\n",
    "file_handler.setFormatter(MyFormatter('%(asctime)s : %(levelname)s : %(name)s : %(message)s'))\n",
    "\n",
    "# add file handler to logger\n",
    "logger.addHandler(file_handler)\n",
    "\n",
    "kwargs = {'a':3, 'b':4, 'c':hypotenuse(3, 4)}\n",
    "\n",
    "logger.debug(\"a = {a}, b = {b}\".format(**kwargs))\n",
    "logger.info(\"Hypotenuse of {a}, {b} is {c}\".format(**kwargs))\n",
    "logger.warning(\"a={a} and b={b} are equal\".format(**kwargs))\n",
    "logger.error(\"a={a} and b={b} cannot be negative\".format(**kwargs))\n",
    "logger.critical(\"Hypotenuse of {a}, {b} is {c}\".format(**kwargs))"
   ],
   "metadata": {
    "collapsed": false,
    "pycharm": {
     "name": "#%%\n"
    }
   }
  },
  {
   "cell_type": "markdown",
   "source": [
    "## Logging Exceptions with traceback info"
   ],
   "metadata": {
    "collapsed": false
   }
  },
  {
   "cell_type": "code",
   "execution_count": 16,
   "outputs": [
    {
     "name": "stdout",
     "output_type": "stream",
     "text": [
      "a=3 and b=4 are equal\n",
      "a=3 and b=4 are equal\n",
      "a=3 and b=4 are equal\n",
      "2022-02-22 20:29:04,099 : WARNING : name3 : a=3 and b=4 are equal\n",
      "2022-02-22 20:29:04,099 : WARNING : name3 : a=3 and b=4 are equal\n",
      "a=3 and b=4 cannot be negative\n",
      "a=3 and b=4 cannot be negative\n",
      "a=3 and b=4 cannot be negative\n",
      "2022-02-22 20:29:04,100 : ERROR : name3 : a=3 and b=4 cannot be negative\n",
      "2022-02-22 20:29:04,100 : ERROR : name3 : a=3 and b=4 cannot be negative\n",
      "Hypotenuse of 3, 4 is 5.0\n",
      "Hypotenuse of 3, 4 is 5.0\n",
      "Hypotenuse of 3, 4 is 5.0\n",
      "2022-02-22 20:29:04,102 : CRITICAL : name3 : Hypotenuse of 3, 4 is 5.0\n",
      "2022-02-22 20:29:04,102 : CRITICAL : name3 : Hypotenuse of 3, 4 is 5.0\n",
      "Division by zero problem\n",
      "Traceback (most recent call last):\n",
      "  File \"C:\\Users\\chath\\AppData\\Local\\Temp/ipykernel_31460/258992052.py\", line 32, in divide\n",
      "    out = x / y\n",
      "ZeroDivisionError: division by zero\n",
      "Division by zero problem\n",
      "Traceback (most recent call last):\n",
      "  File \"C:\\Users\\chath\\AppData\\Local\\Temp/ipykernel_31460/258992052.py\", line 32, in divide\n",
      "    out = x / y\n",
      "ZeroDivisionError: division by zero\n",
      "Division by zero problem\n",
      "Traceback (most recent call last):\n",
      "  File \"C:\\Users\\chath\\AppData\\Local\\Temp/ipykernel_31460/258992052.py\", line 32, in divide\n",
      "    out = x / y\n",
      "ZeroDivisionError: division by zero\n",
      "2022-02-22 20:29:04,104 : ERROR : name3 : Division by zero problem\n",
      "Traceback (most recent call last):\n",
      "  File \"C:\\Users\\chath\\AppData\\Local\\Temp/ipykernel_31460/258992052.py\", line 32, in divide\n",
      "    out = x / y\n",
      "ZeroDivisionError: division by zero\n",
      "2022-02-22 20:29:04,104 : ERROR : name3 : Division by zero problem\n",
      "Traceback (most recent call last):\n",
      "  File \"C:\\Users\\chath\\AppData\\Local\\Temp/ipykernel_31460/258992052.py\", line 32, in divide\n",
      "    out = x / y\n",
      "ZeroDivisionError: division by zero\n"
     ]
    }
   ],
   "source": [
    "import logging\n",
    "\n",
    "def hypotenuse(a, b):\n",
    "    \"\"\"Compute the hypotenuse\"\"\"\n",
    "    return (a**2 + b**2)**0.5\n",
    "\n",
    "# Gets or creates a logger\n",
    "logger = logging.getLogger(\"name3\")  #(__name__)\n",
    "\n",
    "# set log level\n",
    "logger.setLevel(logging.WARNING)\n",
    "\n",
    "# define file handler and set formatter\n",
    "file_handler = logging.FileHandler(r'sample3.log')\n",
    "formatter    = logging.Formatter('%(asctime)s : %(levelname)s : %(name)s : %(message)s')\n",
    "file_handler.setFormatter(formatter)\n",
    "\n",
    "# add file handler to logger\n",
    "logger.addHandler(file_handler)\n",
    "\n",
    "kwargs = {'a':3, 'b':4, 'c':hypotenuse(3, 4)}\n",
    "\n",
    "logger.debug(\"a = {a}, b = {b}\".format(**kwargs))\n",
    "logger.info(\"Hypotenuse of {a}, {b} is {c}\".format(**kwargs))\n",
    "logger.warning(\"a={a} and b={b} are equal\".format(**kwargs))\n",
    "logger.error(\"a={a} and b={b} cannot be negative\".format(**kwargs))\n",
    "logger.critical(\"Hypotenuse of {a}, {b} is {c}\".format(**kwargs))\n",
    "\n",
    "# Traceback info logging\n",
    "def divide(x, y):\n",
    "    try:\n",
    "        out = x / y\n",
    "    except ZeroDivisionError:\n",
    "        logger.exception(\"Division by zero problem\")\n",
    "    else:\n",
    "        return out\n",
    "\n",
    "\n",
    "divide(10, 0)"
   ],
   "metadata": {
    "collapsed": false,
    "pycharm": {
     "name": "#%%\n"
    }
   }
  }
 ],
 "metadata": {
  "kernelspec": {
   "name": "pycharm-2cc45b4a",
   "language": "python",
   "display_name": "PyCharm (DLN_old)"
  },
  "language_info": {
   "codemirror_mode": {
    "name": "ipython",
    "version": 2
   },
   "file_extension": ".py",
   "mimetype": "text/x-python",
   "name": "python",
   "nbconvert_exporter": "python",
   "pygments_lexer": "ipython2",
   "version": "2.7.6"
  }
 },
 "nbformat": 4,
 "nbformat_minor": 0
}
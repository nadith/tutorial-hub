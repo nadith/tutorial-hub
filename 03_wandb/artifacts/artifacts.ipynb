{
 "cells": [
  {
   "cell_type": "markdown",
   "metadata": {},
   "source": [
    "# The Big Picture\n",
    "Ref: https://docs.wandb.ai/guides/artifacts/artifacts-core-concepts\n",
    "\n",
    "W&B Artifacts was designed to make it effortless to version your datasets and models, regardless of whether you want to store your files with us or whether you already have a bucket (amazon, google cloud, or external location) you want us to track"
   ]
  },
  {
   "cell_type": "markdown",
   "metadata": {},
   "source": [
    "# What is artifact?\n",
    "Conceptually, an artifact is simply a directory in which you can store whatever you want, be it images, HTML, code, audio, or raw binary data. You can use it the same way you would an S3 or Google Cloud Storage bucket. Every time you change the contents of this directory, W&B will create a new version of your artifact instead of simply overwriting the previous contents."
   ]
  },
  {
   "cell_type": "markdown",
   "metadata": {},
   "source": [
    "Assume we have the following directory structure:\n",
    "\n",
    "    images\n",
    "    |-- cat.png (2MB)\n",
    "    |-- dog.png (1MB)\n",
    "\n",
    "Let's log it as the first version of a new artifact, animals:"
   ]
  },
  {
   "cell_type": "code",
   "execution_count": null,
   "metadata": {},
   "outputs": [],
   "source": [
    "import wandb\n",
    "\n",
    "def execute(alias=None):\n",
    "    run = wandb.init()\n",
    "    artifact = wandb.Artifact('animals3', type='dataset', \n",
    "                              description=\"animals dataset description\")\n",
    "                                # metadata=<dict>)\n",
    "    # metadata: A dictionary that can contain any structured data. You’ll be \n",
    "    # able to use this data for querying and making plots. E.g. you may choose \n",
    "    # to store the class distribution for a dataset artifact as metadata.\n",
    "    \n",
    "    artifact.add_dir('images')  # images directory must exist\n",
    "    # name=<optional> # name: (str, optional) The path within the artifact to use \n",
    "    # for the directory being added. Defaults to files being added under the root \n",
    "    # of the artifact.\n",
    "    # Ref: https://docs.wandb.ai/guides/artifacts/api#adding-files-and-directories\n",
    "\n",
    "    # Any wandb object\n",
    "    table = wandb.Table(columns=[\"a\", \"b\", \"c\"], data=[[10, 20, 30]])\n",
    "    artifact.add(table, name=\"my-wandb-table\")  # name for the object\n",
    "    # allowed_types = [\n",
    "    #         data_types.Bokeh,\n",
    "    #         data_types.JoinedTable,\n",
    "    #         data_types.PartitionedTable,\n",
    "    #         data_types.Table,\n",
    "    #         data_types.Classes,\n",
    "    #         data_types.ImageMask,\n",
    "    #         data_types.BoundingBoxes2D,\n",
    "    #         data_types.Audio,\n",
    "    #         data_types.Image,\n",
    "    #         data_types.Video,\n",
    "    #         data_types.Html,\n",
    "    #         data_types.Object3D,\n",
    "    #         data_types.Molecule,\n",
    "    #         data_types._SavedModel,\n",
    "    #   ]\n",
    "    \n",
    "    run.log_artifact(artifact, aliases=alias) # Creates `animals:v0`\n",
    "    \n",
    "    # If artifact exists already on wandb artifacts:\n",
    "    # ----------------------------------------------\n",
    "    # log_artifact will check the content of local 'images' folder (hash) with what \n",
    "    # it has already on wandb artifacts (animals);\n",
    "    # if changed, write it to a new version of the artifact animals next version\n",
    "    # if not, do nothing\n",
    "\n",
    "    run.finish()\n",
    "\n",
    "execute()"
   ]
  },
  {
   "cell_type": "markdown",
   "metadata": {},
   "source": [
    "![Adding file and directories](../imgs/artifact_add.PNG)"
   ]
  },
  {
   "cell_type": "markdown",
   "metadata": {},
   "source": [
    "## Adding content to artifacts\n",
    "\n",
    "    # Add a single file\n",
    "    artifact.add_file(path, name='optional-name')\n",
    "\n",
    "    # Recursively add a directory\n",
    "    artifact.add_dir(path, name='optional-prefix')\n",
    "\n",
    "    # Return a writeable file-like object, stored as <name> in the artifact\n",
    "    with artifact.new_file(name) as f:\n",
    "        ...  # Write contents into the file \n",
    "\n",
    "    # Add a URI reference\n",
    "    artifact.add_reference(uri, name='optional-name')"
   ]
  },
  {
   "cell_type": "markdown",
   "metadata": {},
   "source": [
    "## `log_artifact(...)`\n",
    "\n",
    "<span style=\"color:#ff7171\">NOTE: Calls to log_artifact are performed asynchronously for performant uploads. This can cause surprising behavior when logging artifacts in a loop. </span>\n",
    "\n",
    "For example:\n",
    "\n",
    "    for i in range(10):\n",
    "        a = wandb.Artifact('race', type='dataset', metadata={\n",
    "            \"index\": i,\n",
    "        })\n",
    "        # ... add files to artifact a ...\n",
    "        run.log_artifact(a)\n",
    "\n",
    "<span style=\"color:#ff7171\">The artifact version v0 is NOT guaranteed to have an index of 0 in its metadata, as the artifacts may be logged in an arbitrary order.</span>\n",
    "\n",
    "Ref: https://docs.wandb.ai/guides/artifacts/api"
   ]
  },
  {
   "cell_type": "markdown",
   "metadata": {},
   "source": [
    "### Versioning\n",
    "In W&B parlance, this version has the index v0. <span style=\"color:#00ffff\">Every new version of an artifact bumps the index by one</span>. You can imagine that once you have hundreds of versions, referring to a specific version by its index would be confusing and error prone. <span style=\"color:#00ffff\">This is where aliases come in handy. An alias allows you to apply a human-readable name to given version.</span>\n",
    "\n",
    "To make this more concrete, let's say we want to update our dataset with a new image and mark the new version as our latest image. Here's our new directory structure:\n",
    "\n",
    "    images\n",
    "    |-- cat.png (2MB)\n",
    "    |-- dog.png (1MB)\n",
    "    |-- rat.png (1MB)"
   ]
  },
  {
   "cell_type": "code",
   "execution_count": null,
   "metadata": {},
   "outputs": [],
   "source": [
    "execute()  # will produce animals:v1"
   ]
  },
  {
   "cell_type": "markdown",
   "metadata": {},
   "source": [
    "### Alias\n",
    "W&B will automatically assign the newest version the alias `latest`, so instead of using the version index we could also refer to it using `animals:latest`. You can customize the aliases to apply to a version by passing in `aliases=['my-cool-alias']` to log_artifact. Can assign multiple `aliases=['latest', 'my-cool-alias']`"
   ]
  },
  {
   "cell_type": "code",
   "execution_count": null,
   "metadata": {},
   "outputs": [],
   "source": [
    "execute('my-cool-alias')  # Aliases to apply to this artifact, defaults to `[\"latest\"]`\n",
    "\n",
    "# if content of images folder is changed and \n",
    "# if execute('my-cool-alias') is run, \n",
    "#   the top most version will have 'my-cool-alias'\n",
    "\n",
    "# if execute('my-cool-alias2') is run, \n",
    "#   the top most version will have 'my-cool-alias2',  the version below will be left with \n",
    "#   the previous alias 'my-cool-alias'\n",
    "\n",
    "# IM: you can change these using the public api of the wandb later outside run"
   ]
  },
  {
   "cell_type": "markdown",
   "metadata": {},
   "source": [
    "# Refering to Artifacts\n",
    "\n",
    "Referring to artifacts is easy. In our training script, here's all we need to do to pull in the current the newest version of your dataset:"
   ]
  },
  {
   "cell_type": "code",
   "execution_count": null,
   "metadata": {},
   "outputs": [],
   "source": [
    "import wandb\n",
    "\n",
    "run = wandb.init()\n",
    "animals = run.use_artifact('animals:my-cool-alias', use_as=\"Just download\")\n",
    "# use_as: (string, optional) Optional string indicating what purpose the artifact was used with.\n",
    "#                                        Will be shown in UI.\n",
    "\n",
    "directory = animals.download()  # root=???\n",
    "# NOTE: Any existing files at `root` are left untouched. Explicitly delete\n",
    "# root before calling `download` if you want the contents of `root` to exactly\n",
    "# match the artifact.\n",
    "\n",
    "# Alternatively, \n",
    "# directory = animals.checkout()\n",
    "# Replaces the specified root directory with the contents of the artifact.\n",
    "# WARNING: This will DELETE all files in root that are not included in the artifact.\n",
    "\n",
    "print(directory)\n",
    "# Train on our image dataset..."
   ]
  },
  {
   "cell_type": "markdown",
   "metadata": {},
   "source": [
    "## Using an artifact from a different project\n",
    "\n",
    "    # Query W&B for an artifact and mark it as input to this run\n",
    "    artifact = run.use_artifact('bike-dataset:v0')\n",
    "\n",
    "    # Download the artifact's contents\n",
    "    artifact_dir = artifact.download()"
   ]
  },
  {
   "cell_type": "markdown",
   "metadata": {},
   "source": [
    "## Using an artifact from a different project\n",
    "\n",
    "    # Query W&B for an artifact from another project and mark it\n",
    "    # as an input to this run.\n",
    "    artifact = run.use_artifact('my-project/bike-model:v0')\n",
    "\n",
    "    # Use an artifact from another entity and mark it as an input\n",
    "    # to this run.\n",
    "    artifact = run.use_artifact('my-entity/my-project/bike-model:v0')"
   ]
  },
  {
   "cell_type": "markdown",
   "metadata": {},
   "source": [
    "## Using an artifact that has not been logged\n",
    "\n",
    "    artifact = wandb.Artifact('bike-model', type='model')\n",
    "    artifact.add_file('model.h5')\n",
    "    run.use_artifact(artifact)"
   ]
  },
  {
   "cell_type": "markdown",
   "metadata": {},
   "source": [
    "# Storage Layout\n",
    "\n",
    "Ref: https://docs.wandb.ai/guides/artifacts/artifacts-core-concepts#storage-layout"
   ]
  },
  {
   "cell_type": "markdown",
   "metadata": {},
   "source": [
    "# Adding a reference to an artifact\n",
    "\n",
    "* Ref: https://docs.wandb.ai/guides/artifacts/artifacts-core-concepts#data-privacy-and-compliance\n",
    "* Ref: https://docs.wandb.ai/guides/artifacts/api#adding-references\n",
    "* Ref: https://docs.wandb.ai/guides/artifacts/references"
   ]
  },
  {
   "cell_type": "markdown",
   "metadata": {},
   "source": [
    "## Trackers availabe in `wandb`\n",
    "\n",
    "```python\n",
    "    from wandb.sdk.wandb_artifacts import WandbStoragePolicy\n",
    "\n",
    "    s3 = S3Handler()\n",
    "    gcs = GCSHandler()\n",
    "    http = HTTPHandler(self._session)\n",
    "    https = HTTPHandler(self._session, scheme=\"https\")\n",
    "    artifact = WBArtifactHandler()\n",
    "    local_artifact = WBLocalArtifactHandler()\n",
    "    file_handler = LocalFileHandler()\n",
    "\n",
    "    default_handler=TrackingHandler()\n",
    "```\n",
    "\n",
    "depending on the path, scheme will be chosen\n",
    "\n",
    "i.e.\n",
    "* `File:C:\\folder\\1.jpg -> scheme='File', LocalFileHandler()` will be used\n",
    "* `File:C:\\folder -> scheme='File', LocalFileHandler()` will be used\n",
    "* `C:\\folder\\1.jpg -> scheme=unknown, TrackingHandler()` (default) will be used\n",
    "* `S3:\\folder\\1.jpg -> scheme='s3', S3Handler()` will be used\n",
    "* `GC3:\\folder\\1.jpg -> scheme='gc3', GCSHandler()` will be used etc."
   ]
  },
  {
   "cell_type": "markdown",
   "metadata": {},
   "source": [
    "### `LocalFileHandler(StorageHandler)`\n",
    "\n",
    "Tracks files or directories on a local filesystem. Directories\n",
    "are expanded to create an entry for each file contained within.\n",
    "\n",
    "* Handles `file://` references (for NFS mounts), Refer to: `LocalFileHandler.store_path(...)`\n",
    "* <span style=\"color:#00ffff\">Checksum (content-based) for local files will be \n",
    "calculated for versioning</span>\n",
    "* UI will show filesize"
   ]
  },
  {
   "cell_type": "markdown",
   "metadata": {},
   "source": [
    "#### `file://` references\n",
    "\n",
    "`LocalFileHandler.store_path(...)` uses `urlparse()` to pase `file://...` references\n",
    "\n",
    "`urlparse(...)`\n",
    "Parse a URL into 6 components: `<scheme>://<netloc>/<path>;<params>?<query>#<fragment>`\n",
    "\n",
    "i.e.\n",
    "* `file://192.168.0.1/share/file.jpg` ->\n",
    "* `<scheme>: file, <netloc>: 192.168.0.1, <path>: share/file.jpg`\n",
    "\n",
    "* `file:///share/file.jpg` -> \n",
    "* `<scheme>: file, <netloc>:, <path>: /share/file.jpg`\n",
    "\n",
    "for local disk files:\n",
    "\n",
    "* `file:c:/share/file.jpg` -> \n",
    "* `<scheme>: file, <netloc>: c:, <path>: /share/file.jpg`\n",
    "\n",
    "<span style=\"color:#ff7171\">DO NOT use:</span>\n",
    "\n",
    "* `file:c:/#folder_share/file.jpg`  <span style=\"color:#ff7171\"><= path that has `'#'` symbol</span>\n",
    "* `<scheme>: file, <netloc>: c:, <path>: /, <fragment>:folder_share/file.jpg`\n",
    "  \n",
    "internally,\n",
    "\n",
    "```python \n",
    "local_path = f\"{str(url.netloc)}{str(url.path)}\"\n",
    "```"
   ]
  },
  {
   "cell_type": "markdown",
   "metadata": {},
   "source": [
    "#### Create a artifact, add a reference that is handled by `LocalFileHandler`"
   ]
  },
  {
   "cell_type": "code",
   "execution_count": null,
   "metadata": {},
   "outputs": [],
   "source": [
    "import wandb\n",
    "from pathlib import Path\n",
    "from imind.globals.ipaths import PCRelativeEnvConfig\n",
    "\n",
    "run = wandb.init()\n",
    "artifact = wandb.Artifact('pets', type='dataset')\n",
    "\n",
    "# # can track file\n",
    "# p = Path('File:' + str(PCRelativeEnvConfig.get_path('DLN_PATH')))/ \\\n",
    "#             'tutorials'/'03_wandb'/'artifacts'/'images'/'cat.jpg' \n",
    "# # scheme: 'File', FileHandler() will be used.\n",
    "# artifact.add_reference(str(p))  # name=<remote filename for cat.jpg>\n",
    "## artifact.add_reference(str(p), name=\"c.jpg\")\n",
    "           \n",
    "# can track folder\n",
    "p = Path('File:' + str(PCRelativeEnvConfig.get_path('DLN_PATH')))/ \\\n",
    "            'tutorials'/'03_wandb'/'artifacts'/'images'\n",
    "# # scheme: 'File', FileHandler() will be used.\n",
    "artifact.add_reference(str(p)) # name=<remote folder for content of images folder>\n",
    "# artifact.add_reference(str(p), name='img_folder')\n",
    "\n",
    "run.log_artifact(artifact)\n",
    "wandb.finish()"
   ]
  },
  {
   "cell_type": "markdown",
   "metadata": {},
   "source": [
    "#### Access a reference (handled by `LocalFileHandler`) in an artifact"
   ]
  },
  {
   "cell_type": "code",
   "execution_count": null,
   "metadata": {},
   "outputs": [],
   "source": [
    "import wandb\n",
    "\n",
    "run = wandb.init()\n",
    "animals = run.use_artifact('pets:latest')\n",
    "directory = animals.download()  # will work if reference is pointing to S3, Google Cloud or NFS Mount\n",
    "\n",
    "# or \n",
    "# Access susbet of files\n",
    "# -----------------------\n",
    "# entry = animals.get_path(\"c.jpg\")  # if name='c.jpg' is provided in add_reference\n",
    "# entry = animals.get_path(\"cat.jpg\"), etc\n",
    "# entry = animals.get_path(\"img_folder\")  # if name='img_folder' is provided in add_reference\n",
    "# entry.download()\n",
    "\n",
    "print(directory)"
   ]
  },
  {
   "cell_type": "markdown",
   "metadata": {},
   "source": [
    "### `TrackingHandler(StorageHandler)`\n",
    "\n",
    "Tracks paths as is, with no modification or special processing. Useful\n",
    "when paths being tracked are on file systems mounted at a standardized\n",
    "location.\n",
    "\n",
    "For example, if the data to track is located on an NFS share mounted on\n",
    "`/data`, then it is sufficient to just track the paths.\n",
    "\n",
    "* Handles `c:/share/file.jpg` or `c:/share/` references or any other type\n",
    "* file/folder at the path may or may not exists! since it only cares about the path itself\n",
    "* <span style=\"color:#00ffff\">versioning is done based on the path (not the file content)</span>\n",
    "* hashing is path based\n",
    "* UI will not show filesize (filesize=0)"
   ]
  },
  {
   "cell_type": "markdown",
   "metadata": {},
   "source": [
    "#### Create a artifact, add a reference that is handled by `TrackingHandler`"
   ]
  },
  {
   "cell_type": "code",
   "execution_count": 10,
   "metadata": {},
   "outputs": [
    {
     "data": {
      "text/html": [
       "Tracking run with wandb version 0.12.17"
      ],
      "text/plain": [
       "<IPython.core.display.HTML object>"
      ]
     },
     "metadata": {},
     "output_type": "display_data"
    },
    {
     "data": {
      "text/html": [
       "Run data is saved locally in <code>c:\\Users\\chath\\OneDrive - Curtin\\Research\\dev\\python\\DLN\\tutorials\\03_wandb\\artifacts\\wandb\\run-20220608_132850-3dn9rwdd</code>"
      ],
      "text/plain": [
       "<IPython.core.display.HTML object>"
      ]
     },
     "metadata": {},
     "output_type": "display_data"
    },
    {
     "data": {
      "text/html": [
       "Syncing run <strong><a href=\"https://wandb.ai/imindlabs/uncategorized/runs/3dn9rwdd\" target=\"_blank\">northern-fire-36</a></strong> to <a href=\"https://wandb.ai/imindlabs/uncategorized\" target=\"_blank\">Weights & Biases</a> (<a href=\"https://wandb.me/run\" target=\"_blank\">docs</a>)<br/>"
      ],
      "text/plain": [
       "<IPython.core.display.HTML object>"
      ]
     },
     "metadata": {},
     "output_type": "display_data"
    },
    {
     "name": "stderr",
     "output_type": "stream",
     "text": [
      "\u001b[34m\u001b[1mwandb\u001b[0m: \u001b[33mWARNING\u001b[0m Artifact references with unsupported schemes cannot be checksummed: C:\\Users\\chath\\OneDrive - Curtin\\Research\\dev\\python\\DLN\\tutorials\\03_wandb\\artifacts\\images\\cat.jpg\n",
      "\u001b[34m\u001b[1mwandb\u001b[0m: \u001b[33mWARNING\u001b[0m Artifact references with unsupported schemes cannot be checksummed: C:\\Users\\chath\\OneDrive - Curtin\\Research\\dev\\python\\DLN\\tutorials\\03_wandb\\artifacts\\images\n"
     ]
    },
    {
     "data": {
      "text/html": [
       "Waiting for W&B process to finish... <strong style=\"color:green\">(success).</strong>"
      ],
      "text/plain": [
       "<IPython.core.display.HTML object>"
      ]
     },
     "metadata": {},
     "output_type": "display_data"
    },
    {
     "data": {
      "application/vnd.jupyter.widget-view+json": {
       "model_id": "5127bfe3ffbd4b3cb2f971124aa39117",
       "version_major": 2,
       "version_minor": 0
      },
      "text/plain": [
       "VBox(children=(Label(value='0.000 MB of 0.000 MB uploaded (0.000 MB deduped)\\r'), FloatProgress(value=1.0, max…"
      ]
     },
     "metadata": {},
     "output_type": "display_data"
    },
    {
     "data": {
      "text/html": [
       "Synced <strong style=\"color:#cdcd00\">northern-fire-36</strong>: <a href=\"https://wandb.ai/imindlabs/uncategorized/runs/3dn9rwdd\" target=\"_blank\">https://wandb.ai/imindlabs/uncategorized/runs/3dn9rwdd</a><br/>Synced 6 W&B file(s), 0 media file(s), 0 artifact file(s) and 0 other file(s)"
      ],
      "text/plain": [
       "<IPython.core.display.HTML object>"
      ]
     },
     "metadata": {},
     "output_type": "display_data"
    },
    {
     "data": {
      "text/html": [
       "Find logs at: <code>.\\wandb\\run-20220608_132850-3dn9rwdd\\logs</code>"
      ],
      "text/plain": [
       "<IPython.core.display.HTML object>"
      ]
     },
     "metadata": {},
     "output_type": "display_data"
    }
   ],
   "source": [
    "import wandb\n",
    "from pathlib import Path\n",
    "from imind.globals.ipaths import PCRelativeEnvConfig\n",
    "\n",
    "run = wandb.init()\n",
    "artifact = wandb.Artifact('pets', type='dataset')\n",
    "\n",
    "# # can track file\n",
    "p = Path(PCRelativeEnvConfig.get_path('DLN_PATH'))/ \\\n",
    "            'tutorials'/'03_wandb'/'artifacts'/'images'/'cat.jpg' \n",
    "# # scheme: unknown, TrackingHandler() - default handler is used\n",
    "artifact.add_reference(str(p), name='NAME_CAT.jpg')\n",
    "# name is mandotory since scheme=unknown\n",
    "           \n",
    "# can track folder\n",
    "p = Path(PCRelativeEnvConfig.get_path('DLN_PATH'))/ \\\n",
    "            'tutorials'/'03_wandb'/'artifacts'/'images' \n",
    "artifact.add_reference(str(p), name='NAME_CAT_FOLDER')\n",
    "\n",
    "run.log_artifact(artifact)\n",
    "wandb.finish()"
   ]
  },
  {
   "cell_type": "markdown",
   "metadata": {},
   "source": [
    "#### Access a reference (handled by `TrackingHandler`) in an artifact"
   ]
  },
  {
   "cell_type": "code",
   "execution_count": 11,
   "metadata": {},
   "outputs": [
    {
     "data": {
      "text/html": [
       "Tracking run with wandb version 0.12.17"
      ],
      "text/plain": [
       "<IPython.core.display.HTML object>"
      ]
     },
     "metadata": {},
     "output_type": "display_data"
    },
    {
     "data": {
      "text/html": [
       "Run data is saved locally in <code>c:\\Users\\chath\\OneDrive - Curtin\\Research\\dev\\python\\DLN\\tutorials\\03_wandb\\artifacts\\wandb\\run-20220608_132912-3pd3uwo8</code>"
      ],
      "text/plain": [
       "<IPython.core.display.HTML object>"
      ]
     },
     "metadata": {},
     "output_type": "display_data"
    },
    {
     "data": {
      "text/html": [
       "Syncing run <strong><a href=\"https://wandb.ai/imindlabs/uncategorized/runs/3pd3uwo8\" target=\"_blank\">trim-valley-37</a></strong> to <a href=\"https://wandb.ai/imindlabs/uncategorized\" target=\"_blank\">Weights & Biases</a> (<a href=\"https://wandb.me/run\" target=\"_blank\">docs</a>)<br/>"
      ],
      "text/plain": [
       "<IPython.core.display.HTML object>"
      ]
     },
     "metadata": {},
     "output_type": "display_data"
    },
    {
     "name": "stdout",
     "output_type": "stream",
     "text": [
      "QXJ0aWZhY3Q6MTM5OTU3OTA5\n",
      "0\n",
      "['latest']\n",
      "{'NAME_CAT.jpg': <ManifestEntry ref: C:\\Users\\chath\\OneDrive - Curtin\\Research\\dev\\python\\DLN\\tutorials\\03_wandb\\artifacts\\images\\cat.jpg/NAME_CAT.jpg>, 'NAME_CAT_FOLDER': <ManifestEntry ref: C:\\Users\\chath\\OneDrive - Curtin\\Research\\dev\\python\\DLN\\tutorials\\03_wandb\\artifacts\\images/NAME_CAT_FOLDER>}\n",
      "23270932d8ae124cb54dda63c94253f2\n",
      "v1\n",
      "2022-06-08T05:29:04\n",
      "2022-06-08T05:29:07\n",
      "\n",
      "C:\\Users\\chath\\OneDrive - Curtin\\Research\\dev\\python\\DLN\\tutorials\\03_wandb\\artifacts\\images\\cat.jpg\n"
     ]
    }
   ],
   "source": [
    "import wandb\n",
    "\n",
    "run = wandb.init()\n",
    "animals = run.use_artifact('pets:latest')\n",
    "\n",
    "print(animals.id)\n",
    "print(animals.size)\n",
    "print(animals.aliases)\n",
    "print(animals.manifest.entries)  # remote root folder structure\n",
    "print(animals.digest)\n",
    "print(animals.version)\n",
    "print(animals.created_at)\n",
    "print(animals.updated_at)\n",
    "print(animals.description)\n",
    "\n",
    "# directory = animals.download()  # will not work for TrackingHandler\n",
    "# * IM: TrackingHandler.load_path() is not supported\n",
    "# * Likely a user error. The tracking handler is\n",
    "# * oblivious to the underlying paths, so it has\n",
    "# * no way of actually loading it.\n",
    "\n",
    "entry = animals.manifest.entries['NAME_CAT.jpg']\n",
    "print(entry.ref)"
   ]
  },
  {
   "cell_type": "markdown",
   "metadata": {},
   "source": [
    "# Other operations"
   ]
  },
  {
   "cell_type": "markdown",
   "metadata": {},
   "source": [
    "## Access susbet of files in an artifact\n",
    "\n",
    "If you're only interested in a subset of files, use the get_path method.\n",
    "\n",
    "`entry = artifact.get_path(name)`\n",
    "\n",
    "This fetches only the file at the path name. It returns an Entry object with the following methods:\n",
    "\n",
    "* Entry.download: Downloads file from the artifact at path name\n",
    "* Entry.ref: If the entry was stored as a reference using add_reference, returns the URI\n",
    "\n",
    "References that have schemes that W&B knows how to handle can be downloaded just like artifact files. The consumer API is the same"
   ]
  },
  {
   "cell_type": "markdown",
   "metadata": {},
   "source": [
    "### `artifact.get(name)` usage\n",
    "\n",
    "    artifact = wandb.Artifact('my_table', 'dataset')\n",
    "    table = wandb.Table(columns=[\"a\", \"b\", \"c\"], data=[[i, i*2, 2**i]])\n",
    "    artifact.add(table, \"my_table\")\n",
    "\n",
    "    wandb.log_artifact(artifact)\n",
    "\n",
    "\n",
    "Retrieving an object:\n",
    "\n",
    "    artifact = wandb.use_artifact('my_table:latest')\n",
    "    table = artifact.get(\"my_table\")"
   ]
  },
  {
   "cell_type": "markdown",
   "metadata": {},
   "source": [
    "## Downloading an artifact outside run (Use public API)\n",
    "Ref: https://docs.wandb.ai/guides/artifacts/api#download-an-artifact-outside-of-a-run\n",
    "\n",
    "    api = wandb.Api()\n",
    "    artifact = api.artifact('entity/project/artifact:alias')\n",
    "    artifact.download()"
   ]
  },
  {
   "cell_type": "markdown",
   "metadata": {},
   "source": [
    "## Updating Artifacts\n",
    "\n",
    "You can update the description, metadata, and aliases of an artifact by just setting them to the desired values and then calling save().\n",
    "\n",
    "    api = wandb.Api()\n",
    "    artifact = api.artifact('bike-dataset:latest')\n",
    "\n",
    "    # Update the description\n",
    "    artifact.description = \"My new description\"\n",
    "\n",
    "    # Selectively update metadata keys\n",
    "    artifact.metadata[\"oldKey\"] = \"new value\"\n",
    "\n",
    "    # Replace the metadata entirely\n",
    "    artifact.metadata = {\"newKey\": \"new value\"}\n",
    "\n",
    "    # Add an alias\n",
    "    artifact.aliases.append('best')\n",
    "\n",
    "    # Remove an alias\n",
    "    artifact.aliases.remove('latest')\n",
    "\n",
    "    # Completely replace the aliases\n",
    "    artifact.aliases = ['replaced']\n",
    "\n",
    "    # Persist all artifact modifications\n",
    "    artifact.save()"
   ]
  },
  {
   "cell_type": "markdown",
   "metadata": {},
   "source": [
    "<span style=\"color:#ff7171\">Cannot change the manifest (files tracked)</span>\n",
    "\n",
    "    from wandb.sdk.wandb_artifacts import ArtifactManifestEntry\n",
    "\n",
    "    api = wandb.Api()\n",
    "    artifact = api.artifact('uncategorized/pets:latest')\n",
    "\n",
    "    artifact.manifest.entries['NAME_CAT.jpg'] = ArtifactManifestEntry('NAME_CAT.jpg',\n",
    "                        'C:\\\\Users\\\\chath\\\\OneDrive -    Curtin\\\\Research\\\\dev\\\\python\\\\DLN\\\\tutorials\\\\03_wandb\\\\artifacts\\\\images\\\\cat.jpg',\n",
    "                        'C:\\\\Users\\\\chath\\\\OneDrive - Curtin\\\\Research\\\\dev\\\\python\\\\DLN\\\\tutorials\\\\03_wandb\\\\artifacts\\\\images\\\\cat.jpg')\n",
    "\n",
    "    artifact.save()"
   ]
  },
  {
   "cell_type": "markdown",
   "metadata": {},
   "source": [
    "## Traversing the Artifact Graph\n",
    "\n",
    "W&B automatically tracks the artifacts a given run has logged as well as the artifacts a given run has used. You can walk this graph by using the following APIs:\n",
    "\n",
    "    api = wandb.Api()\n",
    "    artifact = api.artifact('data:v0')\n",
    "\n",
    "    # Walk up and down the graph from an artifact:\n",
    "    producer_run = artifact.logged_by()\n",
    "    consumer_runs = artifact.used_by()\n",
    "\n",
    "    # Walk up and down the graph from a run:\n",
    "    logged_artifacts = run.logged_artifacts()\n",
    "    used_artifacts = run.used_artifacts()"
   ]
  },
  {
   "cell_type": "markdown",
   "metadata": {},
   "source": [
    "## Cleaning the unsed versions\n",
    "\n",
    "As an artifact evolves over time, you might end up with a large number of versions that clutter the UI. This is especially true if you are using artifacts for model checkpoints, where only the most recent version (the version tagged latest) of your artifact is useful. W&B makes it easy to clean up these unneeded versions:\n",
    "\n",
    "    api = wandb.Api()\n",
    "\n",
    "    artifact_type, artifact_name = ... # fill in the desired type + name\n",
    "    for version in api.artifact_versions(artifact_type, artifact_name):\n",
    "        # Clean up all versions that don't have an alias such as 'latest'.\n",
    "        if len(version.aliases) == 0:\n",
    "            version.delete()"
   ]
  }
 ],
 "metadata": {
  "interpreter": {
   "hash": "9882355bb464ee3d294aa16be20f61c34e7ccfd47bbe50446fb3d315dc24c3e5"
  },
  "kernelspec": {
   "display_name": "Python 3.8.12 ('DL_ENV')",
   "language": "python",
   "name": "python3"
  },
  "language_info": {
   "codemirror_mode": {
    "name": "ipython",
    "version": 3
   },
   "file_extension": ".py",
   "mimetype": "text/x-python",
   "name": "python",
   "nbconvert_exporter": "python",
   "pygments_lexer": "ipython3",
   "version": "3.8.12"
  },
  "orig_nbformat": 4
 },
 "nbformat": 4,
 "nbformat_minor": 2
}

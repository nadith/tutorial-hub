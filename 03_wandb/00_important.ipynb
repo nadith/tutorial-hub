{
 "cells": [
  {
   "cell_type": "markdown",
   "metadata": {},
   "source": [
    "# Sync with `wandb sync`\n",
    "\n",
    "Usage\n",
    "`wandb sync [OPTIONS] [PATH]...`\n",
    "\n",
    "Ref: https://docs.wandb.ai/ref/cli/wandb-sync\n",
    "\n",
    "| Option | Description |\n",
    "| ------ | ----------- |\n",
    "| --id | The run you want to upload to. |\n",
    "| -p, --project | The project you want to upload to. |\n",
    "| -e, --entity | The entity to scope to. |\n",
    "| --sync-tensorboard / --no-sync-tensorboard | Stream tfevent files to wandb. |\n",
    "| --include-globs | Comma seperated list of globs to include. |\n",
    "| --exclude-globs | Comma seperated list of globs to exclude. |\n",
    "| --include-online / --no-include-online | Include online runs |\n",
    "| --include-offline / --no-include-offline | Include offline runs |\n",
    "| --include-synced / --no-include-synced | Include synced runs |\n",
    "| --mark-synced / --no-mark-synced | Mark runs as synced |\n",
    "| --sync-all | Sync all runs |\n",
    "| --clean | Delete synced runs |\n",
    "| --clean-old-hours | Delete runs created before this many hours. To be used alongside --clean flag. |\n",
    "| --clean-force | Clean without confirmation prompt. |\n",
    "| --show | Number of runs to show |\n",
    "| --help | Show this message and exit. |"
   ]
  },
  {
   "cell_type": "markdown",
   "metadata": {},
   "source": [
    "## Resumming with `resume=True` to `wandb.init()`\n",
    "\n",
    "You can have wandb automatically resume runs by passing `resume=True` to `wandb.init()`. If your process doesn't exit successfully, the next time you run it wandb will start logging from the last step.\n",
    "\n",
    "Ref: https://docs.wandb.ai/guides/track/advanced/resuming\n",
    "\n",
    "```python\n",
    "import wandb\n",
    "import torch\n",
    "import torch.nn as nn\n",
    "import torch.optim as optim\n",
    "\n",
    "PROJECT_NAME = 'pytorch-resume-run'\n",
    "CHECKPOINT_PATH = './checkpoint.tar'\n",
    "N_EPOCHS = 100\n",
    "\n",
    "# Dummy data\n",
    "X = torch.randn(64, 8, requires_grad=True)\n",
    "Y = torch.empty(64, 1).random_(2)\n",
    "model = nn.Sequential(\n",
    "    nn.Linear(8, 16),\n",
    "    nn.ReLU(),\n",
    "    nn.Linear(16, 1),\n",
    "    nn.Sigmoid()\n",
    ")\n",
    "metric = nn.BCELoss()\n",
    "optimizer = optim.SGD(model.parameters(), lr=0.01)\n",
    "epoch = 0\n",
    "run = wandb.init(project=PROJECT_NAME, resume=True)\n",
    "if wandb.run.resumed:\n",
    "    checkpoint = torch.load(wandb.restore(CHECKPOINT_PATH))\n",
    "    model.load_state_dict(checkpoint['model_state_dict'])\n",
    "    optimizer.load_state_dict(checkpoint['optimizer_state_dict'])\n",
    "    epoch = checkpoint['epoch']\n",
    "    loss = checkpoint['loss']\n",
    "\n",
    "model.train()\n",
    "while epoch < N_EPOCHS:\n",
    "    optimizer.zero_grad()\n",
    "    output = model(X)\n",
    "    loss = metric(output, Y)\n",
    "    wandb.log({'loss': loss.item()}, step=epoch)\n",
    "    loss.backward()\n",
    "    optimizer.step()\n",
    "\n",
    "    torch.save({ # Save our checkpoint loc\n",
    "        'epoch': epoch,\n",
    "        'model_state_dict': model.state_dict(),\n",
    "        'optimizer_state_dict': optimizer.state_dict(),\n",
    "        'loss': loss,\n",
    "        }, CHECKPOINT_PATH)\n",
    "    wandb.save(CHECKPOINT_PATH) # saves checkpoint to wandb\n",
    "    epoch += 1\n",
    "```"
   ]
  },
  {
   "cell_type": "markdown",
   "metadata": {},
   "source": [
    "## Syncinig Local Files with `wandb sync --sync-all`"
   ]
  },
  {
   "cell_type": "markdown",
   "metadata": {},
   "source": [
    "### Syncing offline files"
   ]
  },
  {
   "cell_type": "markdown",
   "metadata": {},
   "source": [
    "\n",
    "could you also add the flag `--include-offline` when syncing all offline runs? The cmd should be: `wandb sync --include-synced --include-offline --sync-all`. The reason we need to include this flag is that in offline mode all your runs have a prefix offline (you can check these out in the wandb dir or the zip file you shared above). \n",
    "\n",
    "Therefore, the code at this line suggests that if this flag is provided, all runs in offline-run-* will be included when syncing to W&B.\n",
    "\n",
    "Ref: https://github.com/wandb/client/issues/3111"
   ]
  },
  {
   "cell_type": "markdown",
   "metadata": {},
   "source": [
    "### Syncing previously synced files, where run-id is deleted on the cloud"
   ]
  },
  {
   "cell_type": "markdown",
   "metadata": {},
   "source": [
    "unfortunately today you can not re-use deleted run ids in a project. We provide a helper method wandb.util.generate_id() which can be used to generate a random set of characters to append to your experiment name.\n",
    "\n",
    "Here's a quick way to generate a new id: `python -c \"import wandb; print(wandb.util.generate_id())\"`\n",
    "This way you can re-upload the data from your old run under a new ID by passing the --id argument to wandb sync. \n",
    "\n",
    "For ex: you can try to sync to a new run_id using `wandb sync --id new_run_id` `[PATH_TO_THE_OLD_RUN]`. And, in your case, it would be `wandb sync --id new_run_id ./wandb/run-3lwu1nrf`\n",
    "\n",
    "Note that if you have an existing run that isn't deleted which you want to append data to you should see the resuming documentation.\n",
    "\n",
    "Ref: https://github.com/wandb/client/issues/3111"
   ]
  },
  {
   "cell_type": "markdown",
   "metadata": {},
   "source": [
    "Alternatively, you can do:\n",
    "\n",
    "![Renaming existing run](imgs/resync.PNG)\n",
    "\n",
    "* delete `run-dt4lbsyu.wandb.synced`\n",
    "* generate `<new_run_id>` using `python -c \"import wandb; print(wandb.util.generate_id())\"`\n",
    "* rename `run-dt4lbsyu.wandb.wandb` to `<new_run_id>`\n",
    "* rename `run-20220605_110427-dt4lbsyu` to `run-20220605_110427-<new_run_id>`\n",
    "* repeat the steps for all the runs in wandb folder, and run `wandb sync sync-all .` command\n",
    "* or you can run `wandb sync --id <new_run_id> ./run-20220605_110427-<new_run_id>`"
   ]
  },
  {
   "cell_type": "markdown",
   "metadata": {},
   "source": [
    "### Resyncing sycned files"
   ]
  },
  {
   "cell_type": "markdown",
   "metadata": {},
   "source": [
    "* goto parent directory of wandb directory\n",
    "* `wandb sync --include-synced --sync-all .` or\n",
    "* `wandb sync --include-synced ./wandb/run-20220605_222139-<run_id>  `"
   ]
  },
  {
   "cell_type": "markdown",
   "metadata": {},
   "source": [
    "## Working Offline"
   ]
  },
  {
   "cell_type": "markdown",
   "metadata": {},
   "source": [
    "This to save your file locally without syncing. Later you can call `wandb sync` to sync your files.\n",
    "\n",
    "* goto parent directory of wandb directory\n",
    "* `wandb offline`\n",
    "\n",
    "this will create a `settings` file inside `wandb` folder. Change the setting file or run \n",
    "the following command if you want to go online later.\n",
    "\n",
    "`wandb online`"
   ]
  },
  {
   "cell_type": "markdown",
   "metadata": {},
   "source": [
    "# `wandb.config`"
   ]
  },
  {
   "cell_type": "markdown",
   "metadata": {},
   "source": [
    "## Update Config Files"
   ]
  },
  {
   "cell_type": "markdown",
   "metadata": {},
   "source": [
    "You can use the public API to add values your config file, even after the run has finished.\n",
    "\n",
    "    import wandb\n",
    "    api = wandb.Api()\n",
    "    run = api.run(\"username/project/run_id\")\n",
    "    run.config[\"foo\"] = 32\n",
    "    run.update()"
   ]
  }
 ],
 "metadata": {
  "language_info": {
   "name": "python"
  },
  "orig_nbformat": 4
 },
 "nbformat": 4,
 "nbformat_minor": 2
}

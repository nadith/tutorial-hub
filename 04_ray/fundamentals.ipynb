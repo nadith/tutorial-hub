{
 "cells": [
  {
   "cell_type": "markdown",
   "metadata": {},
   "source": [
    "# Ray Cluster Overview"
   ]
  },
  {
   "cell_type": "markdown",
   "metadata": {},
   "source": [
    "## What is a Ray cluster?\n",
    "\n",
    "One of Ray’s strengths is the ability to leverage multiple machines in the same program. Ray can, of course, be run on a single machine (and is done so often), but the real power is using Ray on a cluster of machines.\n",
    "\n",
    "A Ray cluster consists of a head node and a set of worker nodes. The **head node** needs to be started first, and the **worker nodes** are given the address of the head node to form the cluster:\n",
    "\n",
    "![Ray Cluster](./imgs/ray-cluster.jpg)\n",
    "\n",
    "You can use the Ray Cluster Launcher to provision machines and launch a multi-node Ray cluster. You can use the cluster launcher on AWS, GCP, Azure, Kubernetes, Aliyun, on-premise, and Staroid or even on your custom node provider. Ray clusters can also make use of the Ray Autoscaler, which allows Ray to interact with a cloud provider to request or release instances following a specification and according to application workload."
   ]
  }
 ],
 "metadata": {
  "language_info": {
   "name": "python"
  },
  "orig_nbformat": 4
 },
 "nbformat": 4,
 "nbformat_minor": 2
}

{
 "cells": [
  {
   "cell_type": "code",
   "execution_count": 6,
   "metadata": {
    "collapsed": true,
    "pycharm": {
     "is_executing": false
    }
   },
   "outputs": [
    {
     "name": "stderr",
     "text": [
      "No handles with labels found to put in legend.\n"
     ],
     "output_type": "stream"
    },
    {
     "data": {
      "text/plain": "<Figure size 432x288 with 1 Axes>",
      "image/png": "[encoded data removed]"
     },
     "metadata": {
      "needs_background": "light"
     },
     "output_type": "display_data"
    }
   ],
   "source": [
    "def hist1():    \n",
    "    from matplotlib import pyplot as plt\n",
    "     \n",
    "    population_ages = [22, 55, 62, 45, 21, 22, 34, 42, 42, 42, 66, 100]\n",
    "    bins = [0, 20, 40, 60, 80, 100]\n",
    "    \n",
    "    plt.hist(population_ages, bins, histtype='bar', rwidth=0.9)\n",
    "\n",
    "    plt.legend()\n",
    "    plt.xlabel('bins')\n",
    "    plt.xlabel('frequency')    \n",
    "    plt.title('Histogram')\n",
    "    \n",
    "    plt.show()\n",
    "    \n",
    "hist1()\n"
   ]
  }
 ],
 "metadata": {
  "kernelspec": {
   "display_name": "Python 3",
   "language": "python",
   "name": "python3"
  },
  "language_info": {
   "codemirror_mode": {
    "name": "ipython",
    "version": 2
   },
   "file_extension": ".py",
   "mimetype": "text/x-python",
   "name": "python",
   "nbconvert_exporter": "python",
   "pygments_lexer": "ipython2",
   "version": "2.7.6"
  },
  "pycharm": {
   "stem_cell": {
    "cell_type": "raw",
    "source": [],
    "metadata": {
     "collapsed": false
    }
   }
  }
 },
 "nbformat": 4,
 "nbformat_minor": 0
}
{
 "cells": [
  {
   "cell_type": "code",
   "execution_count": 2,
   "metadata": {},
   "outputs": [],
   "source": [
    "\"\"\"\n",
    "An Plantuml extension for generating UML figures from within ipython notebook.\n",
    "See example notebook at: http://nbviewer.ipython.org/github/sberke/ipython-notebooks/blob/master/Demo%20of%20plantUML%20in%20ipython%20notebook.ipynb\n",
    "\"\"\"\n",
    "import os\n",
    "from IPython.core.magic import magics_class, cell_magic, Magics\n",
    "from IPython.display import Image, SVG\n",
    "\n",
    "@magics_class\n",
    "class Plantuml(Magics):\n",
    "\n",
    "  @cell_magic\n",
    "  def plantuml(self, line, cell):\n",
    "      \"\"\"Generate and display a figure using Plantuml.\n",
    "      Usage:\n",
    "          %java -jar plantuml.jar -tsvg filname\n",
    "      \"\"\"\n",
    "      self.filename = line\n",
    "      self.code = cell\n",
    "\n",
    "      with open(self.filename + \".plt\", \"w\") as file:\n",
    "          file.write(self.code)\n",
    "\n",
    "      os.system(\"java -jar plantuml.jar -tsvg %s.plt\" % self.filename)\n",
    "      return SVG(filename=self.filename+\".svg\")\n",
    "\n",
    "def load_ipython_extension(ipython):\n",
    "    ipython.register_magics(Plantuml)"
   ]
  },
  {
   "cell_type": "code",
   "execution_count": 4,
   "metadata": {},
   "outputs": [
    {
     "name": "stderr",
     "output_type": "stream",
     "text": [
      "UsageError: Cell magic `%%plantuml` not found.\n"
     ]
    }
   ],
   "source": [
    "%%plantuml\n",
    "\n",
    "@startuml\n",
    "Alice -> Bob: Authentication Request\n",
    "Bob --> Alice: Authentication Response\n",
    "@enduml"
   ]
  },
  {
   "cell_type": "code",
   "execution_count": null,
   "metadata": {},
   "outputs": [],
   "source": []
  }
 ],
 "metadata": {
  "kernelspec": {
   "display_name": "Python 3.9.12 ('base')",
   "language": "python",
   "name": "python3"
  },
  "language_info": {
   "codemirror_mode": {
    "name": "ipython",
    "version": 3
   },
   "file_extension": ".py",
   "mimetype": "text/x-python",
   "name": "python",
   "nbconvert_exporter": "python",
   "pygments_lexer": "ipython3",
   "version": "3.9.12"
  },
  "orig_nbformat": 4,
  "vscode": {
   "interpreter": {
    "hash": "9080d0d9e876040599225a99b678a70781bb2b706bedc1f7d8bf7d473d9175b9"
   }
  }
 },
 "nbformat": 4,
 "nbformat_minor": 2
}
